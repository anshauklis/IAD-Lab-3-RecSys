{
  "cells": [
    {
      "cell_type": "markdown",
      "metadata": {
        "id": "pzjJmipNdE5C"
      },
      "source": [
        "# Майнор \"Интеллектуальный анализ данных\""
      ]
    },
    {
      "cell_type": "markdown",
      "metadata": {
        "id": "p5CAd5PydE5F"
      },
      "source": [
        "# Курс \"Прикладные задачи анализа данных\""
      ]
    },
    {
      "cell_type": "markdown",
      "metadata": {
        "id": "_jOeICYddE5H"
      },
      "source": [
        "## Лабораторная работа №2. RecSys"
      ]
    },
    {
      "cell_type": "markdown",
      "metadata": {
        "id": "3y3wRRLjdE5M"
      },
      "source": [
        "В рамках данной лабораторной работы вам предлагается решить задачу рекомендательной системы на основе следующих данных:"
      ]
    },
    {
      "cell_type": "markdown",
      "metadata": {
        "id": "xLTO8m79dE5P"
      },
      "source": [
        "* **rating.csv** - рейтинги аниме по 10 бальной шкале\n",
        "* **anime.csv** - описание items"
      ]
    },
    {
      "cell_type": "markdown",
      "metadata": {
        "id": "CgwRYPq2dE5R"
      },
      "source": [
        "Скачать данные можно [здесь](https://drive.google.com/drive/u/1/folders/1FarHUuqQq4tQSlERB9K8uEfZAZT9tQWv)"
      ]
    },
    {
      "cell_type": "code",
      "source": [
        "%%capture\n",
        "!apt update -y && apt upgrade -y"
      ],
      "metadata": {
        "id": "Xn8H6kABVQih"
      },
      "execution_count": null,
      "outputs": []
    },
    {
      "cell_type": "code",
      "execution_count": null,
      "metadata": {
        "id": "mRy7SZVlXoAT"
      },
      "outputs": [],
      "source": [
        "%%capture\n",
        "!pip install -U pip\n",
        "!pip install -q -U --no-deps matplotlib==3.5.2\n",
        "!pip install -U -q lightfm\n",
        "!pip install -U -q umap-learn\n",
        "!pip install -U -q datashader\n",
        "!pip install -U -q bokeh\n",
        "!pip install -U -q holoviews\n",
        "!pip install -U -q colorcet \n",
        "!pip install -U -q surprise\n",
        "!pip install -U -q pandas"
      ]
    },
    {
      "cell_type": "code",
      "execution_count": null,
      "metadata": {
        "colab": {
          "base_uri": "https://localhost:8080/"
        },
        "id": "Uj0hiv35FrU6",
        "outputId": "60941d88-d161-469f-ddc1-9518a01cb56b"
      },
      "outputs": [
        {
          "output_type": "execute_result",
          "data": {
            "text/plain": [
              "'3.2.2'"
            ],
            "application/vnd.google.colaboratory.intrinsic+json": {
              "type": "string"
            }
          },
          "metadata": {},
          "execution_count": 3
        }
      ],
      "source": [
        "import matplotlib\n",
        "matplotlib.__version__"
      ]
    },
    {
      "cell_type": "code",
      "execution_count": null,
      "metadata": {
        "colab": {
          "base_uri": "https://localhost:8080/"
        },
        "id": "QbDRYMVMYbq3",
        "outputId": "0967d730-f829-41fa-9bb7-284195526819"
      },
      "outputs": [
        {
          "output_type": "execute_result",
          "data": {
            "text/plain": [
              "'1.0.2'"
            ],
            "application/vnd.google.colaboratory.intrinsic+json": {
              "type": "string"
            }
          },
          "metadata": {},
          "execution_count": 4
        }
      ],
      "source": [
        "import sklearn\n",
        "sklearn.__version__"
      ]
    },
    {
      "cell_type": "code",
      "execution_count": null,
      "metadata": {
        "id": "-YKX9paqXLyw"
      },
      "outputs": [],
      "source": [
        "import pandas as pd\n",
        "import matplotlib.pyplot as plt\n",
        "import numpy as np\n",
        "import seaborn as sns\n",
        "import warnings\n",
        "from tqdm.notebook import tqdm\n",
        "warnings.filterwarnings('ignore')"
      ]
    },
    {
      "cell_type": "code",
      "execution_count": null,
      "metadata": {
        "id": "OP3456Sxv7lx"
      },
      "outputs": [],
      "source": [
        "sns.set_theme(style='whitegrid')"
      ]
    },
    {
      "cell_type": "markdown",
      "source": [
        ""
      ],
      "metadata": {
        "id": "n1lH3pAdqKta"
      }
    },
    {
      "cell_type": "markdown",
      "metadata": {
        "id": "_8bp-ZPsdE5S"
      },
      "source": [
        "# Данные\n"
      ]
    },
    {
      "cell_type": "markdown",
      "metadata": {
        "id": "NxEZGweQae4M"
      },
      "source": [
        "Данные содержат информацию об предподчтениях 73,516 пользователей в 12,294 аниме. Каждый пользователь может добавить аниме и выставить рейтниг.\n",
        "\n",
        "Anime.csv\n",
        "\n",
        "* anime_id - идентификатор аниме (items)\n",
        "* name - полное название аниме\n",
        "* genre - категория/категории для аниме (разделены запятой).\n",
        "* type - тип: movie, TV, OVA, etc.\n",
        "* episodes - количество эпизодов (для экранизаций)\n",
        "* rating - средний рейтинг по аниме.\n",
        "* members - количество членов коммьюнити к аниме\n",
        "\n",
        "Rating.csv\n",
        "\n",
        "* user_id - идентификатор пользователя (users)\n",
        "* anime_id - идентификатор аниме\n",
        "* rating - рейтинг пользователя по аниме (-1 пользователь смотрел, но не оставил рейтинг)."
      ]
    },
    {
      "cell_type": "markdown",
      "metadata": {
        "id": "8u9BlNv_dE53"
      },
      "source": [
        "### ``` Если вычеслительные ресурсы не позволяют решить задачу на всех данных, то необходимо это сделать на \"сэмпле\" данных (выбрав от 5% ids' для user и item). Этот же подход справедлив и для оценки работы алгоритомв```"
      ]
    },
    {
      "cell_type": "markdown",
      "metadata": {
        "id": "SngZt2vadE54"
      },
      "source": [
        "# Необходимо сделать:"
      ]
    },
    {
      "cell_type": "markdown",
      "metadata": {
        "id": "c_Lf3uQJdE55"
      },
      "source": [
        "## Задание №1 : Exploratory analysis (2 балла):\n",
        "\n",
        "* Распределение числа пользователей по количеству взаимодействий\n",
        "* Разпределение числа \"айтемов\" по количеству взаимодействий\n",
        "* Распределение числа рейтингов, средних рейтингов по пользователям, по \"айтемам\"\n",
        "* и т.д. (бонус)"
      ]
    },
    {
      "cell_type": "code",
      "execution_count": null,
      "metadata": {
        "colab": {
          "base_uri": "https://localhost:8080/"
        },
        "id": "XHZN9rWDV1fE",
        "outputId": "283393bd-a8ce-496e-d928-432fa1203cd7"
      },
      "outputs": [
        {
          "output_type": "stream",
          "name": "stdout",
          "text": [
            "Mounted at /content/drive\n"
          ]
        }
      ],
      "source": [
        "from google.colab import drive\n",
        "drive.mount('/content/drive')"
      ]
    },
    {
      "cell_type": "code",
      "execution_count": null,
      "metadata": {
        "id": "oGqwc4PWXBZ8"
      },
      "outputs": [],
      "source": [
        "anime = pd.read_csv('/content/drive/My Drive/IAD/anime.csv')\n",
        "rating = pd.read_csv('/content/drive/My Drive/IAD/rating.csv')"
      ]
    },
    {
      "cell_type": "code",
      "execution_count": null,
      "metadata": {
        "colab": {
          "base_uri": "https://localhost:8080/"
        },
        "id": "trDaMIjWaBCh",
        "outputId": "a5e190d6-b6b5-458a-bebd-d45a309710ba"
      },
      "outputs": [
        {
          "output_type": "execute_result",
          "data": {
            "text/plain": [
              "   anime_id                              name  \\\n",
              "0     32281                    Kimi no Na wa.   \n",
              "1      5114  Fullmetal Alchemist: Brotherhood   \n",
              "2     28977                          Gintama°   \n",
              "3      9253                       Steins;Gate   \n",
              "4      9969                     Gintama&#039;   \n",
              "\n",
              "                                               genre   type episodes  rating  \\\n",
              "0               Drama, Romance, School, Supernatural  Movie        1    9.37   \n",
              "1  Action, Adventure, Drama, Fantasy, Magic, Mili...     TV       64    9.26   \n",
              "2  Action, Comedy, Historical, Parody, Samurai, S...     TV       51    9.25   \n",
              "3                                   Sci-Fi, Thriller     TV       24    9.17   \n",
              "4  Action, Comedy, Historical, Parody, Samurai, S...     TV       51    9.16   \n",
              "\n",
              "   members  \n",
              "0   200630  \n",
              "1   793665  \n",
              "2   114262  \n",
              "3   673572  \n",
              "4   151266  "
            ],
            "text/html": [
              "\n",
              "  <div id=\"df-cf8461e3-c52b-4004-bac1-685f7eb647ba\">\n",
              "    <div class=\"colab-df-container\">\n",
              "      <div>\n",
              "<style scoped>\n",
              "    .dataframe tbody tr th:only-of-type {\n",
              "        vertical-align: middle;\n",
              "    }\n",
              "\n",
              "    .dataframe tbody tr th {\n",
              "        vertical-align: top;\n",
              "    }\n",
              "\n",
              "    .dataframe thead th {\n",
              "        text-align: right;\n",
              "    }\n",
              "</style>\n",
              "<table border=\"1\" class=\"dataframe\">\n",
              "  <thead>\n",
              "    <tr style=\"text-align: right;\">\n",
              "      <th></th>\n",
              "      <th>anime_id</th>\n",
              "      <th>name</th>\n",
              "      <th>genre</th>\n",
              "      <th>type</th>\n",
              "      <th>episodes</th>\n",
              "      <th>rating</th>\n",
              "      <th>members</th>\n",
              "    </tr>\n",
              "  </thead>\n",
              "  <tbody>\n",
              "    <tr>\n",
              "      <th>0</th>\n",
              "      <td>32281</td>\n",
              "      <td>Kimi no Na wa.</td>\n",
              "      <td>Drama, Romance, School, Supernatural</td>\n",
              "      <td>Movie</td>\n",
              "      <td>1</td>\n",
              "      <td>9.37</td>\n",
              "      <td>200630</td>\n",
              "    </tr>\n",
              "    <tr>\n",
              "      <th>1</th>\n",
              "      <td>5114</td>\n",
              "      <td>Fullmetal Alchemist: Brotherhood</td>\n",
              "      <td>Action, Adventure, Drama, Fantasy, Magic, Mili...</td>\n",
              "      <td>TV</td>\n",
              "      <td>64</td>\n",
              "      <td>9.26</td>\n",
              "      <td>793665</td>\n",
              "    </tr>\n",
              "    <tr>\n",
              "      <th>2</th>\n",
              "      <td>28977</td>\n",
              "      <td>Gintama°</td>\n",
              "      <td>Action, Comedy, Historical, Parody, Samurai, S...</td>\n",
              "      <td>TV</td>\n",
              "      <td>51</td>\n",
              "      <td>9.25</td>\n",
              "      <td>114262</td>\n",
              "    </tr>\n",
              "    <tr>\n",
              "      <th>3</th>\n",
              "      <td>9253</td>\n",
              "      <td>Steins;Gate</td>\n",
              "      <td>Sci-Fi, Thriller</td>\n",
              "      <td>TV</td>\n",
              "      <td>24</td>\n",
              "      <td>9.17</td>\n",
              "      <td>673572</td>\n",
              "    </tr>\n",
              "    <tr>\n",
              "      <th>4</th>\n",
              "      <td>9969</td>\n",
              "      <td>Gintama&amp;#039;</td>\n",
              "      <td>Action, Comedy, Historical, Parody, Samurai, S...</td>\n",
              "      <td>TV</td>\n",
              "      <td>51</td>\n",
              "      <td>9.16</td>\n",
              "      <td>151266</td>\n",
              "    </tr>\n",
              "  </tbody>\n",
              "</table>\n",
              "</div>\n",
              "      <button class=\"colab-df-convert\" onclick=\"convertToInteractive('df-cf8461e3-c52b-4004-bac1-685f7eb647ba')\"\n",
              "              title=\"Convert this dataframe to an interactive table.\"\n",
              "              style=\"display:none;\">\n",
              "        \n",
              "  <svg xmlns=\"http://www.w3.org/2000/svg\" height=\"24px\"viewBox=\"0 0 24 24\"\n",
              "       width=\"24px\">\n",
              "    <path d=\"M0 0h24v24H0V0z\" fill=\"none\"/>\n",
              "    <path d=\"M18.56 5.44l.94 2.06.94-2.06 2.06-.94-2.06-.94-.94-2.06-.94 2.06-2.06.94zm-11 1L8.5 8.5l.94-2.06 2.06-.94-2.06-.94L8.5 2.5l-.94 2.06-2.06.94zm10 10l.94 2.06.94-2.06 2.06-.94-2.06-.94-.94-2.06-.94 2.06-2.06.94z\"/><path d=\"M17.41 7.96l-1.37-1.37c-.4-.4-.92-.59-1.43-.59-.52 0-1.04.2-1.43.59L10.3 9.45l-7.72 7.72c-.78.78-.78 2.05 0 2.83L4 21.41c.39.39.9.59 1.41.59.51 0 1.02-.2 1.41-.59l7.78-7.78 2.81-2.81c.8-.78.8-2.07 0-2.86zM5.41 20L4 18.59l7.72-7.72 1.47 1.35L5.41 20z\"/>\n",
              "  </svg>\n",
              "      </button>\n",
              "      \n",
              "  <style>\n",
              "    .colab-df-container {\n",
              "      display:flex;\n",
              "      flex-wrap:wrap;\n",
              "      gap: 12px;\n",
              "    }\n",
              "\n",
              "    .colab-df-convert {\n",
              "      background-color: #E8F0FE;\n",
              "      border: none;\n",
              "      border-radius: 50%;\n",
              "      cursor: pointer;\n",
              "      display: none;\n",
              "      fill: #1967D2;\n",
              "      height: 32px;\n",
              "      padding: 0 0 0 0;\n",
              "      width: 32px;\n",
              "    }\n",
              "\n",
              "    .colab-df-convert:hover {\n",
              "      background-color: #E2EBFA;\n",
              "      box-shadow: 0px 1px 2px rgba(60, 64, 67, 0.3), 0px 1px 3px 1px rgba(60, 64, 67, 0.15);\n",
              "      fill: #174EA6;\n",
              "    }\n",
              "\n",
              "    [theme=dark] .colab-df-convert {\n",
              "      background-color: #3B4455;\n",
              "      fill: #D2E3FC;\n",
              "    }\n",
              "\n",
              "    [theme=dark] .colab-df-convert:hover {\n",
              "      background-color: #434B5C;\n",
              "      box-shadow: 0px 1px 3px 1px rgba(0, 0, 0, 0.15);\n",
              "      filter: drop-shadow(0px 1px 2px rgba(0, 0, 0, 0.3));\n",
              "      fill: #FFFFFF;\n",
              "    }\n",
              "  </style>\n",
              "\n",
              "      <script>\n",
              "        const buttonEl =\n",
              "          document.querySelector('#df-cf8461e3-c52b-4004-bac1-685f7eb647ba button.colab-df-convert');\n",
              "        buttonEl.style.display =\n",
              "          google.colab.kernel.accessAllowed ? 'block' : 'none';\n",
              "\n",
              "        async function convertToInteractive(key) {\n",
              "          const element = document.querySelector('#df-cf8461e3-c52b-4004-bac1-685f7eb647ba');\n",
              "          const dataTable =\n",
              "            await google.colab.kernel.invokeFunction('convertToInteractive',\n",
              "                                                     [key], {});\n",
              "          if (!dataTable) return;\n",
              "\n",
              "          const docLinkHtml = 'Like what you see? Visit the ' +\n",
              "            '<a target=\"_blank\" href=https://colab.research.google.com/notebooks/data_table.ipynb>data table notebook</a>'\n",
              "            + ' to learn more about interactive tables.';\n",
              "          element.innerHTML = '';\n",
              "          dataTable['output_type'] = 'display_data';\n",
              "          await google.colab.output.renderOutput(dataTable, element);\n",
              "          const docLink = document.createElement('div');\n",
              "          docLink.innerHTML = docLinkHtml;\n",
              "          element.appendChild(docLink);\n",
              "        }\n",
              "      </script>\n",
              "    </div>\n",
              "  </div>\n",
              "  "
            ]
          },
          "metadata": {},
          "execution_count": 14
        }
      ],
      "source": [
        "anime.head()"
      ]
    },
    {
      "cell_type": "code",
      "execution_count": null,
      "metadata": {
        "colab": {
          "base_uri": "https://localhost:8080/"
        },
        "id": "-YsdQUMgaCrX",
        "outputId": "c6190e06-5565-4257-ca04-18079b053295"
      },
      "outputs": [
        {
          "output_type": "display_data",
          "data": {
            "text/plain": [
              "   user_id  anime_id  rating\n",
              "0        1        20      -1\n",
              "1        1        24      -1\n",
              "2        1        79      -1\n",
              "3        1       226      -1\n",
              "4        1       241      -1"
            ],
            "text/html": [
              "\n",
              "  <div id=\"df-4e7705d3-7dec-4153-8708-24633285b8d6\">\n",
              "    <div class=\"colab-df-container\">\n",
              "      <div>\n",
              "<style scoped>\n",
              "    .dataframe tbody tr th:only-of-type {\n",
              "        vertical-align: middle;\n",
              "    }\n",
              "\n",
              "    .dataframe tbody tr th {\n",
              "        vertical-align: top;\n",
              "    }\n",
              "\n",
              "    .dataframe thead th {\n",
              "        text-align: right;\n",
              "    }\n",
              "</style>\n",
              "<table border=\"1\" class=\"dataframe\">\n",
              "  <thead>\n",
              "    <tr style=\"text-align: right;\">\n",
              "      <th></th>\n",
              "      <th>user_id</th>\n",
              "      <th>anime_id</th>\n",
              "      <th>rating</th>\n",
              "    </tr>\n",
              "  </thead>\n",
              "  <tbody>\n",
              "    <tr>\n",
              "      <th>0</th>\n",
              "      <td>1</td>\n",
              "      <td>20</td>\n",
              "      <td>-1</td>\n",
              "    </tr>\n",
              "    <tr>\n",
              "      <th>1</th>\n",
              "      <td>1</td>\n",
              "      <td>24</td>\n",
              "      <td>-1</td>\n",
              "    </tr>\n",
              "    <tr>\n",
              "      <th>2</th>\n",
              "      <td>1</td>\n",
              "      <td>79</td>\n",
              "      <td>-1</td>\n",
              "    </tr>\n",
              "    <tr>\n",
              "      <th>3</th>\n",
              "      <td>1</td>\n",
              "      <td>226</td>\n",
              "      <td>-1</td>\n",
              "    </tr>\n",
              "    <tr>\n",
              "      <th>4</th>\n",
              "      <td>1</td>\n",
              "      <td>241</td>\n",
              "      <td>-1</td>\n",
              "    </tr>\n",
              "  </tbody>\n",
              "</table>\n",
              "</div>\n",
              "      <button class=\"colab-df-convert\" onclick=\"convertToInteractive('df-4e7705d3-7dec-4153-8708-24633285b8d6')\"\n",
              "              title=\"Convert this dataframe to an interactive table.\"\n",
              "              style=\"display:none;\">\n",
              "        \n",
              "  <svg xmlns=\"http://www.w3.org/2000/svg\" height=\"24px\"viewBox=\"0 0 24 24\"\n",
              "       width=\"24px\">\n",
              "    <path d=\"M0 0h24v24H0V0z\" fill=\"none\"/>\n",
              "    <path d=\"M18.56 5.44l.94 2.06.94-2.06 2.06-.94-2.06-.94-.94-2.06-.94 2.06-2.06.94zm-11 1L8.5 8.5l.94-2.06 2.06-.94-2.06-.94L8.5 2.5l-.94 2.06-2.06.94zm10 10l.94 2.06.94-2.06 2.06-.94-2.06-.94-.94-2.06-.94 2.06-2.06.94z\"/><path d=\"M17.41 7.96l-1.37-1.37c-.4-.4-.92-.59-1.43-.59-.52 0-1.04.2-1.43.59L10.3 9.45l-7.72 7.72c-.78.78-.78 2.05 0 2.83L4 21.41c.39.39.9.59 1.41.59.51 0 1.02-.2 1.41-.59l7.78-7.78 2.81-2.81c.8-.78.8-2.07 0-2.86zM5.41 20L4 18.59l7.72-7.72 1.47 1.35L5.41 20z\"/>\n",
              "  </svg>\n",
              "      </button>\n",
              "      \n",
              "  <style>\n",
              "    .colab-df-container {\n",
              "      display:flex;\n",
              "      flex-wrap:wrap;\n",
              "      gap: 12px;\n",
              "    }\n",
              "\n",
              "    .colab-df-convert {\n",
              "      background-color: #E8F0FE;\n",
              "      border: none;\n",
              "      border-radius: 50%;\n",
              "      cursor: pointer;\n",
              "      display: none;\n",
              "      fill: #1967D2;\n",
              "      height: 32px;\n",
              "      padding: 0 0 0 0;\n",
              "      width: 32px;\n",
              "    }\n",
              "\n",
              "    .colab-df-convert:hover {\n",
              "      background-color: #E2EBFA;\n",
              "      box-shadow: 0px 1px 2px rgba(60, 64, 67, 0.3), 0px 1px 3px 1px rgba(60, 64, 67, 0.15);\n",
              "      fill: #174EA6;\n",
              "    }\n",
              "\n",
              "    [theme=dark] .colab-df-convert {\n",
              "      background-color: #3B4455;\n",
              "      fill: #D2E3FC;\n",
              "    }\n",
              "\n",
              "    [theme=dark] .colab-df-convert:hover {\n",
              "      background-color: #434B5C;\n",
              "      box-shadow: 0px 1px 3px 1px rgba(0, 0, 0, 0.15);\n",
              "      filter: drop-shadow(0px 1px 2px rgba(0, 0, 0, 0.3));\n",
              "      fill: #FFFFFF;\n",
              "    }\n",
              "  </style>\n",
              "\n",
              "      <script>\n",
              "        const buttonEl =\n",
              "          document.querySelector('#df-4e7705d3-7dec-4153-8708-24633285b8d6 button.colab-df-convert');\n",
              "        buttonEl.style.display =\n",
              "          google.colab.kernel.accessAllowed ? 'block' : 'none';\n",
              "\n",
              "        async function convertToInteractive(key) {\n",
              "          const element = document.querySelector('#df-4e7705d3-7dec-4153-8708-24633285b8d6');\n",
              "          const dataTable =\n",
              "            await google.colab.kernel.invokeFunction('convertToInteractive',\n",
              "                                                     [key], {});\n",
              "          if (!dataTable) return;\n",
              "\n",
              "          const docLinkHtml = 'Like what you see? Visit the ' +\n",
              "            '<a target=\"_blank\" href=https://colab.research.google.com/notebooks/data_table.ipynb>data table notebook</a>'\n",
              "            + ' to learn more about interactive tables.';\n",
              "          element.innerHTML = '';\n",
              "          dataTable['output_type'] = 'display_data';\n",
              "          await google.colab.output.renderOutput(dataTable, element);\n",
              "          const docLink = document.createElement('div');\n",
              "          docLink.innerHTML = docLinkHtml;\n",
              "          element.appendChild(docLink);\n",
              "        }\n",
              "      </script>\n",
              "    </div>\n",
              "  </div>\n",
              "  "
            ]
          },
          "metadata": {}
        },
        {
          "output_type": "stream",
          "name": "stdout",
          "text": [
            "(7813737, 3)\n"
          ]
        }
      ],
      "source": [
        "display(rating.head())\n",
        "print(rating.shape)"
      ]
    },
    {
      "cell_type": "code",
      "execution_count": null,
      "metadata": {
        "colab": {
          "base_uri": "https://localhost:8080/",
          "height": 441
        },
        "id": "5ORZOEJ_aH1u",
        "outputId": "3f6f0cdf-76ca-45ac-94c5-cf3004b38bbd"
      },
      "outputs": [
        {
          "output_type": "stream",
          "name": "stdout",
          "text": [
            "(7813737, 9)\n"
          ]
        },
        {
          "output_type": "execute_result",
          "data": {
            "text/plain": [
              "         user_id  anime_id  user_rating  \\\n",
              "0              1        20           -1   \n",
              "1              1        24           -1   \n",
              "2              1        79           -1   \n",
              "3              1       226           -1   \n",
              "4              1       241           -1   \n",
              "...          ...       ...          ...   \n",
              "7813732    73515     16512            7   \n",
              "7813733    73515     17187            9   \n",
              "7813734    73515     22145           10   \n",
              "7813735    73516       790            9   \n",
              "7813736    73516      8074            9   \n",
              "\n",
              "                                                    name  \\\n",
              "0                                                 Naruto   \n",
              "1                                          School Rumble   \n",
              "2                                               Shuffle!   \n",
              "3                                             Elfen Lied   \n",
              "4                              Girls Bravo: First Season   \n",
              "...                                                  ...   \n",
              "7813732                   Devil Survivor 2 The Animation   \n",
              "7813733  Ghost in the Shell: Arise - Border:1 Ghost Pain   \n",
              "7813734                     Kuroshitsuji: Book of Circus   \n",
              "7813735                                       Ergo Proxy   \n",
              "7813736                           Highschool of the Dead   \n",
              "\n",
              "                                                     genre   type episodes  \\\n",
              "0        Action, Comedy, Martial Arts, Shounen, Super P...     TV      220   \n",
              "1                         Comedy, Romance, School, Shounen     TV       26   \n",
              "2        Comedy, Drama, Ecchi, Fantasy, Harem, Magic, R...     TV       24   \n",
              "3        Action, Drama, Horror, Psychological, Romance,...     TV       13   \n",
              "4           Comedy, Ecchi, Fantasy, Harem, Romance, School     TV       11   \n",
              "...                                                    ...    ...      ...   \n",
              "7813732                       Action, Demons, Supernatural     TV       13   \n",
              "7813733               Mecha, Police, Psychological, Sci-Fi  Movie        1   \n",
              "7813734  Comedy, Demons, Fantasy, Historical, Shounen, ...     TV       10   \n",
              "7813735                     Mystery, Psychological, Sci-Fi     TV       23   \n",
              "7813736                Action, Ecchi, Horror, Supernatural     TV       12   \n",
              "\n",
              "         anime_rating   members  \n",
              "0                7.81  683297.0  \n",
              "1                8.06  178553.0  \n",
              "2                7.31  158772.0  \n",
              "3                7.85  623511.0  \n",
              "4                6.69   84395.0  \n",
              "...               ...       ...  \n",
              "7813732          7.06  101266.0  \n",
              "7813733          7.64   31747.0  \n",
              "7813734          8.37  122895.0  \n",
              "7813735          8.03  265005.0  \n",
              "7813736          7.46  535892.0  \n",
              "\n",
              "[7813737 rows x 9 columns]"
            ],
            "text/html": [
              "\n",
              "  <div id=\"df-a9fbbd14-fb12-49c2-9e10-4ec0f18ad527\">\n",
              "    <div class=\"colab-df-container\">\n",
              "      <div>\n",
              "<style scoped>\n",
              "    .dataframe tbody tr th:only-of-type {\n",
              "        vertical-align: middle;\n",
              "    }\n",
              "\n",
              "    .dataframe tbody tr th {\n",
              "        vertical-align: top;\n",
              "    }\n",
              "\n",
              "    .dataframe thead th {\n",
              "        text-align: right;\n",
              "    }\n",
              "</style>\n",
              "<table border=\"1\" class=\"dataframe\">\n",
              "  <thead>\n",
              "    <tr style=\"text-align: right;\">\n",
              "      <th></th>\n",
              "      <th>user_id</th>\n",
              "      <th>anime_id</th>\n",
              "      <th>user_rating</th>\n",
              "      <th>name</th>\n",
              "      <th>genre</th>\n",
              "      <th>type</th>\n",
              "      <th>episodes</th>\n",
              "      <th>anime_rating</th>\n",
              "      <th>members</th>\n",
              "    </tr>\n",
              "  </thead>\n",
              "  <tbody>\n",
              "    <tr>\n",
              "      <th>0</th>\n",
              "      <td>1</td>\n",
              "      <td>20</td>\n",
              "      <td>-1</td>\n",
              "      <td>Naruto</td>\n",
              "      <td>Action, Comedy, Martial Arts, Shounen, Super P...</td>\n",
              "      <td>TV</td>\n",
              "      <td>220</td>\n",
              "      <td>7.81</td>\n",
              "      <td>683297.0</td>\n",
              "    </tr>\n",
              "    <tr>\n",
              "      <th>1</th>\n",
              "      <td>1</td>\n",
              "      <td>24</td>\n",
              "      <td>-1</td>\n",
              "      <td>School Rumble</td>\n",
              "      <td>Comedy, Romance, School, Shounen</td>\n",
              "      <td>TV</td>\n",
              "      <td>26</td>\n",
              "      <td>8.06</td>\n",
              "      <td>178553.0</td>\n",
              "    </tr>\n",
              "    <tr>\n",
              "      <th>2</th>\n",
              "      <td>1</td>\n",
              "      <td>79</td>\n",
              "      <td>-1</td>\n",
              "      <td>Shuffle!</td>\n",
              "      <td>Comedy, Drama, Ecchi, Fantasy, Harem, Magic, R...</td>\n",
              "      <td>TV</td>\n",
              "      <td>24</td>\n",
              "      <td>7.31</td>\n",
              "      <td>158772.0</td>\n",
              "    </tr>\n",
              "    <tr>\n",
              "      <th>3</th>\n",
              "      <td>1</td>\n",
              "      <td>226</td>\n",
              "      <td>-1</td>\n",
              "      <td>Elfen Lied</td>\n",
              "      <td>Action, Drama, Horror, Psychological, Romance,...</td>\n",
              "      <td>TV</td>\n",
              "      <td>13</td>\n",
              "      <td>7.85</td>\n",
              "      <td>623511.0</td>\n",
              "    </tr>\n",
              "    <tr>\n",
              "      <th>4</th>\n",
              "      <td>1</td>\n",
              "      <td>241</td>\n",
              "      <td>-1</td>\n",
              "      <td>Girls Bravo: First Season</td>\n",
              "      <td>Comedy, Ecchi, Fantasy, Harem, Romance, School</td>\n",
              "      <td>TV</td>\n",
              "      <td>11</td>\n",
              "      <td>6.69</td>\n",
              "      <td>84395.0</td>\n",
              "    </tr>\n",
              "    <tr>\n",
              "      <th>...</th>\n",
              "      <td>...</td>\n",
              "      <td>...</td>\n",
              "      <td>...</td>\n",
              "      <td>...</td>\n",
              "      <td>...</td>\n",
              "      <td>...</td>\n",
              "      <td>...</td>\n",
              "      <td>...</td>\n",
              "      <td>...</td>\n",
              "    </tr>\n",
              "    <tr>\n",
              "      <th>7813732</th>\n",
              "      <td>73515</td>\n",
              "      <td>16512</td>\n",
              "      <td>7</td>\n",
              "      <td>Devil Survivor 2 The Animation</td>\n",
              "      <td>Action, Demons, Supernatural</td>\n",
              "      <td>TV</td>\n",
              "      <td>13</td>\n",
              "      <td>7.06</td>\n",
              "      <td>101266.0</td>\n",
              "    </tr>\n",
              "    <tr>\n",
              "      <th>7813733</th>\n",
              "      <td>73515</td>\n",
              "      <td>17187</td>\n",
              "      <td>9</td>\n",
              "      <td>Ghost in the Shell: Arise - Border:1 Ghost Pain</td>\n",
              "      <td>Mecha, Police, Psychological, Sci-Fi</td>\n",
              "      <td>Movie</td>\n",
              "      <td>1</td>\n",
              "      <td>7.64</td>\n",
              "      <td>31747.0</td>\n",
              "    </tr>\n",
              "    <tr>\n",
              "      <th>7813734</th>\n",
              "      <td>73515</td>\n",
              "      <td>22145</td>\n",
              "      <td>10</td>\n",
              "      <td>Kuroshitsuji: Book of Circus</td>\n",
              "      <td>Comedy, Demons, Fantasy, Historical, Shounen, ...</td>\n",
              "      <td>TV</td>\n",
              "      <td>10</td>\n",
              "      <td>8.37</td>\n",
              "      <td>122895.0</td>\n",
              "    </tr>\n",
              "    <tr>\n",
              "      <th>7813735</th>\n",
              "      <td>73516</td>\n",
              "      <td>790</td>\n",
              "      <td>9</td>\n",
              "      <td>Ergo Proxy</td>\n",
              "      <td>Mystery, Psychological, Sci-Fi</td>\n",
              "      <td>TV</td>\n",
              "      <td>23</td>\n",
              "      <td>8.03</td>\n",
              "      <td>265005.0</td>\n",
              "    </tr>\n",
              "    <tr>\n",
              "      <th>7813736</th>\n",
              "      <td>73516</td>\n",
              "      <td>8074</td>\n",
              "      <td>9</td>\n",
              "      <td>Highschool of the Dead</td>\n",
              "      <td>Action, Ecchi, Horror, Supernatural</td>\n",
              "      <td>TV</td>\n",
              "      <td>12</td>\n",
              "      <td>7.46</td>\n",
              "      <td>535892.0</td>\n",
              "    </tr>\n",
              "  </tbody>\n",
              "</table>\n",
              "<p>7813737 rows × 9 columns</p>\n",
              "</div>\n",
              "      <button class=\"colab-df-convert\" onclick=\"convertToInteractive('df-a9fbbd14-fb12-49c2-9e10-4ec0f18ad527')\"\n",
              "              title=\"Convert this dataframe to an interactive table.\"\n",
              "              style=\"display:none;\">\n",
              "        \n",
              "  <svg xmlns=\"http://www.w3.org/2000/svg\" height=\"24px\"viewBox=\"0 0 24 24\"\n",
              "       width=\"24px\">\n",
              "    <path d=\"M0 0h24v24H0V0z\" fill=\"none\"/>\n",
              "    <path d=\"M18.56 5.44l.94 2.06.94-2.06 2.06-.94-2.06-.94-.94-2.06-.94 2.06-2.06.94zm-11 1L8.5 8.5l.94-2.06 2.06-.94-2.06-.94L8.5 2.5l-.94 2.06-2.06.94zm10 10l.94 2.06.94-2.06 2.06-.94-2.06-.94-.94-2.06-.94 2.06-2.06.94z\"/><path d=\"M17.41 7.96l-1.37-1.37c-.4-.4-.92-.59-1.43-.59-.52 0-1.04.2-1.43.59L10.3 9.45l-7.72 7.72c-.78.78-.78 2.05 0 2.83L4 21.41c.39.39.9.59 1.41.59.51 0 1.02-.2 1.41-.59l7.78-7.78 2.81-2.81c.8-.78.8-2.07 0-2.86zM5.41 20L4 18.59l7.72-7.72 1.47 1.35L5.41 20z\"/>\n",
              "  </svg>\n",
              "      </button>\n",
              "      \n",
              "  <style>\n",
              "    .colab-df-container {\n",
              "      display:flex;\n",
              "      flex-wrap:wrap;\n",
              "      gap: 12px;\n",
              "    }\n",
              "\n",
              "    .colab-df-convert {\n",
              "      background-color: #E8F0FE;\n",
              "      border: none;\n",
              "      border-radius: 50%;\n",
              "      cursor: pointer;\n",
              "      display: none;\n",
              "      fill: #1967D2;\n",
              "      height: 32px;\n",
              "      padding: 0 0 0 0;\n",
              "      width: 32px;\n",
              "    }\n",
              "\n",
              "    .colab-df-convert:hover {\n",
              "      background-color: #E2EBFA;\n",
              "      box-shadow: 0px 1px 2px rgba(60, 64, 67, 0.3), 0px 1px 3px 1px rgba(60, 64, 67, 0.15);\n",
              "      fill: #174EA6;\n",
              "    }\n",
              "\n",
              "    [theme=dark] .colab-df-convert {\n",
              "      background-color: #3B4455;\n",
              "      fill: #D2E3FC;\n",
              "    }\n",
              "\n",
              "    [theme=dark] .colab-df-convert:hover {\n",
              "      background-color: #434B5C;\n",
              "      box-shadow: 0px 1px 3px 1px rgba(0, 0, 0, 0.15);\n",
              "      filter: drop-shadow(0px 1px 2px rgba(0, 0, 0, 0.3));\n",
              "      fill: #FFFFFF;\n",
              "    }\n",
              "  </style>\n",
              "\n",
              "      <script>\n",
              "        const buttonEl =\n",
              "          document.querySelector('#df-a9fbbd14-fb12-49c2-9e10-4ec0f18ad527 button.colab-df-convert');\n",
              "        buttonEl.style.display =\n",
              "          google.colab.kernel.accessAllowed ? 'block' : 'none';\n",
              "\n",
              "        async function convertToInteractive(key) {\n",
              "          const element = document.querySelector('#df-a9fbbd14-fb12-49c2-9e10-4ec0f18ad527');\n",
              "          const dataTable =\n",
              "            await google.colab.kernel.invokeFunction('convertToInteractive',\n",
              "                                                     [key], {});\n",
              "          if (!dataTable) return;\n",
              "\n",
              "          const docLinkHtml = 'Like what you see? Visit the ' +\n",
              "            '<a target=\"_blank\" href=https://colab.research.google.com/notebooks/data_table.ipynb>data table notebook</a>'\n",
              "            + ' to learn more about interactive tables.';\n",
              "          element.innerHTML = '';\n",
              "          dataTable['output_type'] = 'display_data';\n",
              "          await google.colab.output.renderOutput(dataTable, element);\n",
              "          const docLink = document.createElement('div');\n",
              "          docLink.innerHTML = docLinkHtml;\n",
              "          element.appendChild(docLink);\n",
              "        }\n",
              "      </script>\n",
              "    </div>\n",
              "  </div>\n",
              "  "
            ]
          },
          "metadata": {},
          "execution_count": 9
        }
      ],
      "source": [
        "glued = rating.merge(anime, on='anime_id', how = 'left')\n",
        "glued.rename(columns={'rating_x':'user_rating', 'rating_y': 'anime_rating'}, inplace= True)\n",
        "print(glued.shape)\n",
        "glued"
      ]
    },
    {
      "cell_type": "code",
      "execution_count": null,
      "metadata": {
        "colab": {
          "base_uri": "https://localhost:8080/"
        },
        "id": "ztt5hNxPbdnN",
        "outputId": "503ea66f-3efa-49d3-d3c4-2f10bc16153c"
      },
      "outputs": [
        {
          "output_type": "execute_result",
          "data": {
            "text/plain": [
              "-1     1476496\n",
              " 1       16649\n",
              " 2       23150\n",
              " 3       41453\n",
              " 4      104291\n",
              " 5      282806\n",
              " 6      637775\n",
              " 7     1375287\n",
              " 8     1646019\n",
              " 9     1254096\n",
              " 10     955715\n",
              "Name: user_rating, dtype: int64"
            ]
          },
          "metadata": {},
          "execution_count": 17
        }
      ],
      "source": [
        "glued.user_rating.value_counts().sort_index()"
      ]
    },
    {
      "cell_type": "markdown",
      "metadata": {
        "id": "_Pc47mzkUFfa"
      },
      "source": [
        "Пока отбросим все наблюдения, где пользователь посмотрел тайтл, однако не поставил оценку."
      ]
    },
    {
      "cell_type": "code",
      "execution_count": null,
      "metadata": {
        "colab": {
          "base_uri": "https://localhost:8080/"
        },
        "id": "Rn1RqcDJPrKP",
        "outputId": "b21963a6-4237-45fd-bcb7-ce90b06b0c3a"
      },
      "outputs": [
        {
          "output_type": "execute_result",
          "data": {
            "text/plain": [
              "1       16649\n",
              "2       23150\n",
              "3       41453\n",
              "4      104291\n",
              "5      282806\n",
              "6      637775\n",
              "7     1375287\n",
              "8     1646019\n",
              "9     1254096\n",
              "10     955715\n",
              "Name: user_rating, dtype: int64"
            ]
          },
          "metadata": {},
          "execution_count": 18
        }
      ],
      "source": [
        "glued_1 = glued[glued.user_rating != -1]\n",
        "glued_1.user_rating.value_counts().sort_index()"
      ]
    },
    {
      "cell_type": "code",
      "execution_count": null,
      "metadata": {
        "colab": {
          "base_uri": "https://localhost:8080/"
        },
        "id": "UmOUrPGvP-Ye",
        "outputId": "12fffa35-18b5-40dc-df7b-d1c2abbe88dd"
      },
      "outputs": [
        {
          "output_type": "execute_result",
          "data": {
            "text/plain": [
              "2.00      210\n",
              "2.14       76\n",
              "2.37     1024\n",
              "2.49        1\n",
              "2.55        1\n",
              "        ...  \n",
              "9.16     3115\n",
              "9.17    17151\n",
              "9.25     1188\n",
              "9.26    21494\n",
              "9.37     1961\n",
              "Name: anime_rating, Length: 574, dtype: int64"
            ]
          },
          "metadata": {},
          "execution_count": 19
        }
      ],
      "source": [
        "glued_1.anime_rating.value_counts().sort_index()"
      ]
    },
    {
      "cell_type": "markdown",
      "metadata": {
        "id": "fJyvTNUHqCJc"
      },
      "source": [
        "* Распределение числа пользователей по количеству взаимодействий"
      ]
    },
    {
      "cell_type": "code",
      "execution_count": null,
      "metadata": {
        "colab": {
          "base_uri": "https://localhost:8080/"
        },
        "id": "5t2a7y50bswD",
        "outputId": "697bbf9c-9c68-49ef-a039-bcc8157e8afb"
      },
      "outputs": [
        {
          "output_type": "display_data",
          "data": {
            "text/plain": [
              "<Figure size 720x288 with 1 Axes>"
            ],
            "image/png": "[encoded data removed]"
          },
          "metadata": {}
        }
      ],
      "source": [
        "fig, ax = plt.subplots(figsize = (10, 4))\n",
        "sns.histplot(glued_1.user_id.value_counts().values, ax=ax)\n",
        "ax.set_ylim(0, 4500)\n",
        "ax.set_xlim(0, 1000)\n",
        "plt.show()\n"
      ]
    },
    {
      "cell_type": "markdown",
      "metadata": {
        "id": "jdei6CMaRO_Y"
      },
      "source": [
        "Распределение скошенное, большинство пользователей оценило очень малое количестов тайтлов"
      ]
    },
    {
      "cell_type": "markdown",
      "metadata": {
        "id": "03hIE5RnPhqI"
      },
      "source": [
        "* Разпределение числа \"айтемов\" по количеству взаимодействий"
      ]
    },
    {
      "cell_type": "code",
      "execution_count": null,
      "metadata": {
        "colab": {
          "base_uri": "https://localhost:8080/"
        },
        "id": "N491g_WnReqQ",
        "outputId": "367f202f-df9a-4707-9d78-c2dbab872654"
      },
      "outputs": [
        {
          "output_type": "display_data",
          "data": {
            "text/plain": [
              "<Figure size 720x288 with 1 Axes>"
            ],
            "image/png": "[encoded data removed]"
          },
          "metadata": {}
        }
      ],
      "source": [
        "fig, ax = plt.subplots(figsize = (10, 4))\n",
        "sns.histplot(glued_1.anime_id.value_counts().values, ax=ax)\n",
        "ax.set_ylim(0, 4500)\n",
        "ax.set_xlim(0, 1000)\n",
        "plt.show()"
      ]
    },
    {
      "cell_type": "markdown",
      "metadata": {
        "id": "1P7aXzXgRr23"
      },
      "source": [
        "Распределение тайтлов похоже на распределение юзеров. Большая часть тайтлов была оценена несколько раз. Лишь некоторые тайтлы имеют большое количество оценок"
      ]
    },
    {
      "cell_type": "markdown",
      "metadata": {
        "id": "vXdCjD-WSJ-X"
      },
      "source": [
        "* Распределение числа рейтингов, средних рейтингов по пользователям, по \"айтемам\""
      ]
    },
    {
      "cell_type": "markdown",
      "metadata": {
        "id": "8Qmlg2kuXx5G"
      },
      "source": [
        "**Распределение числа рейтингов**"
      ]
    },
    {
      "cell_type": "code",
      "execution_count": null,
      "metadata": {
        "colab": {
          "base_uri": "https://localhost:8080/"
        },
        "id": "sEMYml9sSISn",
        "outputId": "c7e83464-4a36-43ff-f955-b5c89634b6e6"
      },
      "outputs": [
        {
          "output_type": "display_data",
          "data": {
            "text/plain": [
              "2.0       1311\n",
              "3.0        519\n",
              "4.0       4277\n",
              "5.0      22663\n",
              "6.0     270413\n",
              "7.0    2083302\n",
              "8.0    3382337\n",
              "9.0     572412\n",
              "NaN          7\n",
              "Name: anime_rating, dtype: int64"
            ]
          },
          "metadata": {}
        },
        {
          "output_type": "execute_result",
          "data": {
            "text/plain": [
              "<AxesSubplot:xlabel='anime_rating', ylabel='Count'>"
            ]
          },
          "metadata": {},
          "execution_count": 22
        },
        {
          "output_type": "display_data",
          "data": {
            "text/plain": [
              "<Figure size 432x288 with 1 Axes>"
            ],
            "image/png": "[encoded data removed]"
          },
          "metadata": {}
        }
      ],
      "source": [
        "# Округлим рейтинги до целого числа\n",
        "display(glued_1.anime_rating.round(0).value_counts(dropna=False).sort_index())\n",
        "sns.histplot(data = glued_1, x = 'anime_rating', bins=9)"
      ]
    },
    {
      "cell_type": "markdown",
      "metadata": {
        "id": "HvCKpU67TARf"
      },
      "source": [
        "Самая популярная оценка 8, 10 и 1 в выборке нет. Вторая по частоте оценка - 7. Остальные оценки пользователи ставили довольно редко."
      ]
    },
    {
      "cell_type": "markdown",
      "metadata": {
        "id": "bdM3f8eUXtc-"
      },
      "source": [
        "**Средняя оценка по пользователям**"
      ]
    },
    {
      "cell_type": "code",
      "execution_count": null,
      "metadata": {
        "colab": {
          "base_uri": "https://localhost:8080/"
        },
        "id": "xlbTTvR4VWd_",
        "outputId": "e084176e-d5f8-4c30-ed28-f183c38ab379"
      },
      "outputs": [
        {
          "output_type": "display_data",
          "data": {
            "text/plain": [
              "1.0        28\n",
              "2.0        19\n",
              "3.0        16\n",
              "4.0        40\n",
              "5.0       215\n",
              "6.0      1513\n",
              "7.0     11178\n",
              "8.0     31591\n",
              "9.0     18420\n",
              "10.0     6580\n",
              "Name: user_rating, dtype: int64"
            ]
          },
          "metadata": {}
        },
        {
          "output_type": "display_data",
          "data": {
            "text/plain": [
              "<Figure size 432x288 with 1 Axes>"
            ],
            "image/png": "[encoded data removed]"
          },
          "metadata": {}
        }
      ],
      "source": [
        "usr_avg = glued_1.groupby('user_id', as_index=False).agg({'user_rating':'mean'})\n",
        "display(usr_avg.user_rating.round(0).value_counts().sort_index())\n",
        "fig, ax = plt.subplots()\n",
        "sns.histplot(data=usr_avg.round(0), x='user_rating', bins=10, ax=ax)\n",
        "ax.set_xticks([i for i in range(1, 11)])\n",
        "fig.show()"
      ]
    },
    {
      "cell_type": "markdown",
      "metadata": {
        "id": "rRvfIVNFWKUG"
      },
      "source": [
        "Большинство пользователей оценили в среденем просмотренные тайтлы на 8, на 40 п.п. меньше пользователей в среднем оценивали просмотренные тайтлы на 9. Еще меньшее число пользователей оценило тайтлы в среднем на 6. "
      ]
    },
    {
      "cell_type": "markdown",
      "metadata": {
        "id": "dlQhPj6cX3eG"
      },
      "source": [
        "**Средний рейтинг по тайтлам**"
      ]
    },
    {
      "cell_type": "code",
      "execution_count": null,
      "metadata": {
        "colab": {
          "base_uri": "https://localhost:8080/"
        },
        "id": "SIYN5oT7X7De",
        "outputId": "b06a91a4-d38d-4e98-ed3e-5ad1240c16fa"
      },
      "outputs": [
        {
          "output_type": "display_data",
          "data": {
            "text/plain": [
              "1.0       36\n",
              "2.0       94\n",
              "3.0      214\n",
              "4.0      404\n",
              "5.0      703\n",
              "6.0     2132\n",
              "7.0     3900\n",
              "8.0     2218\n",
              "9.0      189\n",
              "10.0      37\n",
              "Name: user_rating, dtype: int64"
            ]
          },
          "metadata": {}
        },
        {
          "output_type": "display_data",
          "data": {
            "text/plain": [
              "<Figure size 432x288 with 1 Axes>"
            ],
            "image/png": "[encoded data removed]"
          },
          "metadata": {}
        }
      ],
      "source": [
        "uwu_avg = glued_1.groupby('anime_id', as_index=False).agg({'user_rating':'mean'})\n",
        "display(uwu_avg.round(0).user_rating.value_counts().sort_index())\n",
        "\n",
        "fig, ax = plt.subplots()\n",
        "sns.histplot(data=uwu_avg.round(0), x='user_rating', bins=10, ax=ax)\n",
        "ax.set_xticks([i for i in range(1, 11)])\n",
        "fig.show()"
      ]
    },
    {
      "cell_type": "markdown",
      "metadata": {
        "id": "LCTNPR0qYT2-"
      },
      "source": [
        "Средняя оценка тайтлов по пользователям — 7, оценки 8 и 7 встречаются примерно в 2 раза реже. Менее всего оценок 1 и 10"
      ]
    },
    {
      "cell_type": "markdown",
      "metadata": {
        "id": "lVNFKFa6Yqm2"
      },
      "source": [
        "**Распределение количества аниме по жанрам**"
      ]
    },
    {
      "cell_type": "code",
      "execution_count": null,
      "metadata": {
        "id": "lccBlnqCZEQe"
      },
      "outputs": [],
      "source": [
        "# glued_1 = pd.concat([glued_1, glued_1['genre'].str.get_dummies(sep=', ')], axis=1)\n",
        "# glued_1 = pd.concat([glued_1, glued_1['type'].str.get_dummies()], axis=1)"
      ]
    },
    {
      "cell_type": "code",
      "execution_count": null,
      "metadata": {
        "colab": {
          "base_uri": "https://localhost:8080/"
        },
        "id": "STFnV7t8c0Ql",
        "outputId": "0ecff198-fa49-49c0-ad5b-8d028693fa53"
      },
      "outputs": [
        {
          "output_type": "execute_result",
          "data": {
            "text/plain": [
              "               genre\n",
              "Comedy          4645\n",
              "Action          2845\n",
              "Adventure       2348\n",
              "Fantasy         2309\n",
              "Sci-Fi          2070\n",
              "Drama           2016\n",
              "Shounen         1712\n",
              "Kids            1609\n",
              "Romance         1464\n",
              "School          1220\n",
              "Slice of Life   1220\n",
              "Hentai          1141\n",
              "Supernatural    1037\n",
              "Mecha            944\n",
              "Music            860\n",
              "Historical       806\n",
              "Magic            778\n",
              "Ecchi            637\n",
              "Shoujo           603\n",
              "Seinen           547\n",
              "Sports           543\n",
              "Mystery          495\n",
              "Super Power      465\n",
              "Military         426\n",
              "Parody           408\n",
              "Space            381\n",
              "Horror           369\n",
              "Harem            317\n",
              "Demons           294\n",
              "Martial Arts     265\n",
              "Dementia         240\n",
              "Psychological    229\n",
              "Police           197\n",
              "Game             181\n",
              "Samurai          148\n",
              "Vampire          102\n",
              "Thriller          87\n",
              "Cars              72\n",
              "Shounen Ai        65\n",
              "Shoujo Ai         55\n",
              "Josei             54\n",
              "Yuri              42\n",
              "Yaoi              39"
            ],
            "text/html": [
              "\n",
              "  <div id=\"df-13eb9a7b-857c-496f-ae0f-cbda88739580\">\n",
              "    <div class=\"colab-df-container\">\n",
              "      <div>\n",
              "<style scoped>\n",
              "    .dataframe tbody tr th:only-of-type {\n",
              "        vertical-align: middle;\n",
              "    }\n",
              "\n",
              "    .dataframe tbody tr th {\n",
              "        vertical-align: top;\n",
              "    }\n",
              "\n",
              "    .dataframe thead th {\n",
              "        text-align: right;\n",
              "    }\n",
              "</style>\n",
              "<table border=\"1\" class=\"dataframe\">\n",
              "  <thead>\n",
              "    <tr style=\"text-align: right;\">\n",
              "      <th></th>\n",
              "      <th>genre</th>\n",
              "    </tr>\n",
              "  </thead>\n",
              "  <tbody>\n",
              "    <tr>\n",
              "      <th>Comedy</th>\n",
              "      <td>4645</td>\n",
              "    </tr>\n",
              "    <tr>\n",
              "      <th>Action</th>\n",
              "      <td>2845</td>\n",
              "    </tr>\n",
              "    <tr>\n",
              "      <th>Adventure</th>\n",
              "      <td>2348</td>\n",
              "    </tr>\n",
              "    <tr>\n",
              "      <th>Fantasy</th>\n",
              "      <td>2309</td>\n",
              "    </tr>\n",
              "    <tr>\n",
              "      <th>Sci-Fi</th>\n",
              "      <td>2070</td>\n",
              "    </tr>\n",
              "    <tr>\n",
              "      <th>Drama</th>\n",
              "      <td>2016</td>\n",
              "    </tr>\n",
              "    <tr>\n",
              "      <th>Shounen</th>\n",
              "      <td>1712</td>\n",
              "    </tr>\n",
              "    <tr>\n",
              "      <th>Kids</th>\n",
              "      <td>1609</td>\n",
              "    </tr>\n",
              "    <tr>\n",
              "      <th>Romance</th>\n",
              "      <td>1464</td>\n",
              "    </tr>\n",
              "    <tr>\n",
              "      <th>School</th>\n",
              "      <td>1220</td>\n",
              "    </tr>\n",
              "    <tr>\n",
              "      <th>Slice of Life</th>\n",
              "      <td>1220</td>\n",
              "    </tr>\n",
              "    <tr>\n",
              "      <th>Hentai</th>\n",
              "      <td>1141</td>\n",
              "    </tr>\n",
              "    <tr>\n",
              "      <th>Supernatural</th>\n",
              "      <td>1037</td>\n",
              "    </tr>\n",
              "    <tr>\n",
              "      <th>Mecha</th>\n",
              "      <td>944</td>\n",
              "    </tr>\n",
              "    <tr>\n",
              "      <th>Music</th>\n",
              "      <td>860</td>\n",
              "    </tr>\n",
              "    <tr>\n",
              "      <th>Historical</th>\n",
              "      <td>806</td>\n",
              "    </tr>\n",
              "    <tr>\n",
              "      <th>Magic</th>\n",
              "      <td>778</td>\n",
              "    </tr>\n",
              "    <tr>\n",
              "      <th>Ecchi</th>\n",
              "      <td>637</td>\n",
              "    </tr>\n",
              "    <tr>\n",
              "      <th>Shoujo</th>\n",
              "      <td>603</td>\n",
              "    </tr>\n",
              "    <tr>\n",
              "      <th>Seinen</th>\n",
              "      <td>547</td>\n",
              "    </tr>\n",
              "    <tr>\n",
              "      <th>Sports</th>\n",
              "      <td>543</td>\n",
              "    </tr>\n",
              "    <tr>\n",
              "      <th>Mystery</th>\n",
              "      <td>495</td>\n",
              "    </tr>\n",
              "    <tr>\n",
              "      <th>Super Power</th>\n",
              "      <td>465</td>\n",
              "    </tr>\n",
              "    <tr>\n",
              "      <th>Military</th>\n",
              "      <td>426</td>\n",
              "    </tr>\n",
              "    <tr>\n",
              "      <th>Parody</th>\n",
              "      <td>408</td>\n",
              "    </tr>\n",
              "    <tr>\n",
              "      <th>Space</th>\n",
              "      <td>381</td>\n",
              "    </tr>\n",
              "    <tr>\n",
              "      <th>Horror</th>\n",
              "      <td>369</td>\n",
              "    </tr>\n",
              "    <tr>\n",
              "      <th>Harem</th>\n",
              "      <td>317</td>\n",
              "    </tr>\n",
              "    <tr>\n",
              "      <th>Demons</th>\n",
              "      <td>294</td>\n",
              "    </tr>\n",
              "    <tr>\n",
              "      <th>Martial Arts</th>\n",
              "      <td>265</td>\n",
              "    </tr>\n",
              "    <tr>\n",
              "      <th>Dementia</th>\n",
              "      <td>240</td>\n",
              "    </tr>\n",
              "    <tr>\n",
              "      <th>Psychological</th>\n",
              "      <td>229</td>\n",
              "    </tr>\n",
              "    <tr>\n",
              "      <th>Police</th>\n",
              "      <td>197</td>\n",
              "    </tr>\n",
              "    <tr>\n",
              "      <th>Game</th>\n",
              "      <td>181</td>\n",
              "    </tr>\n",
              "    <tr>\n",
              "      <th>Samurai</th>\n",
              "      <td>148</td>\n",
              "    </tr>\n",
              "    <tr>\n",
              "      <th>Vampire</th>\n",
              "      <td>102</td>\n",
              "    </tr>\n",
              "    <tr>\n",
              "      <th>Thriller</th>\n",
              "      <td>87</td>\n",
              "    </tr>\n",
              "    <tr>\n",
              "      <th>Cars</th>\n",
              "      <td>72</td>\n",
              "    </tr>\n",
              "    <tr>\n",
              "      <th>Shounen Ai</th>\n",
              "      <td>65</td>\n",
              "    </tr>\n",
              "    <tr>\n",
              "      <th>Shoujo Ai</th>\n",
              "      <td>55</td>\n",
              "    </tr>\n",
              "    <tr>\n",
              "      <th>Josei</th>\n",
              "      <td>54</td>\n",
              "    </tr>\n",
              "    <tr>\n",
              "      <th>Yuri</th>\n",
              "      <td>42</td>\n",
              "    </tr>\n",
              "    <tr>\n",
              "      <th>Yaoi</th>\n",
              "      <td>39</td>\n",
              "    </tr>\n",
              "  </tbody>\n",
              "</table>\n",
              "</div>\n",
              "      <button class=\"colab-df-convert\" onclick=\"convertToInteractive('df-13eb9a7b-857c-496f-ae0f-cbda88739580')\"\n",
              "              title=\"Convert this dataframe to an interactive table.\"\n",
              "              style=\"display:none;\">\n",
              "        \n",
              "  <svg xmlns=\"http://www.w3.org/2000/svg\" height=\"24px\"viewBox=\"0 0 24 24\"\n",
              "       width=\"24px\">\n",
              "    <path d=\"M0 0h24v24H0V0z\" fill=\"none\"/>\n",
              "    <path d=\"M18.56 5.44l.94 2.06.94-2.06 2.06-.94-2.06-.94-.94-2.06-.94 2.06-2.06.94zm-11 1L8.5 8.5l.94-2.06 2.06-.94-2.06-.94L8.5 2.5l-.94 2.06-2.06.94zm10 10l.94 2.06.94-2.06 2.06-.94-2.06-.94-.94-2.06-.94 2.06-2.06.94z\"/><path d=\"M17.41 7.96l-1.37-1.37c-.4-.4-.92-.59-1.43-.59-.52 0-1.04.2-1.43.59L10.3 9.45l-7.72 7.72c-.78.78-.78 2.05 0 2.83L4 21.41c.39.39.9.59 1.41.59.51 0 1.02-.2 1.41-.59l7.78-7.78 2.81-2.81c.8-.78.8-2.07 0-2.86zM5.41 20L4 18.59l7.72-7.72 1.47 1.35L5.41 20z\"/>\n",
              "  </svg>\n",
              "      </button>\n",
              "      \n",
              "  <style>\n",
              "    .colab-df-container {\n",
              "      display:flex;\n",
              "      flex-wrap:wrap;\n",
              "      gap: 12px;\n",
              "    }\n",
              "\n",
              "    .colab-df-convert {\n",
              "      background-color: #E8F0FE;\n",
              "      border: none;\n",
              "      border-radius: 50%;\n",
              "      cursor: pointer;\n",
              "      display: none;\n",
              "      fill: #1967D2;\n",
              "      height: 32px;\n",
              "      padding: 0 0 0 0;\n",
              "      width: 32px;\n",
              "    }\n",
              "\n",
              "    .colab-df-convert:hover {\n",
              "      background-color: #E2EBFA;\n",
              "      box-shadow: 0px 1px 2px rgba(60, 64, 67, 0.3), 0px 1px 3px 1px rgba(60, 64, 67, 0.15);\n",
              "      fill: #174EA6;\n",
              "    }\n",
              "\n",
              "    [theme=dark] .colab-df-convert {\n",
              "      background-color: #3B4455;\n",
              "      fill: #D2E3FC;\n",
              "    }\n",
              "\n",
              "    [theme=dark] .colab-df-convert:hover {\n",
              "      background-color: #434B5C;\n",
              "      box-shadow: 0px 1px 3px 1px rgba(0, 0, 0, 0.15);\n",
              "      filter: drop-shadow(0px 1px 2px rgba(0, 0, 0, 0.3));\n",
              "      fill: #FFFFFF;\n",
              "    }\n",
              "  </style>\n",
              "\n",
              "      <script>\n",
              "        const buttonEl =\n",
              "          document.querySelector('#df-13eb9a7b-857c-496f-ae0f-cbda88739580 button.colab-df-convert');\n",
              "        buttonEl.style.display =\n",
              "          google.colab.kernel.accessAllowed ? 'block' : 'none';\n",
              "\n",
              "        async function convertToInteractive(key) {\n",
              "          const element = document.querySelector('#df-13eb9a7b-857c-496f-ae0f-cbda88739580');\n",
              "          const dataTable =\n",
              "            await google.colab.kernel.invokeFunction('convertToInteractive',\n",
              "                                                     [key], {});\n",
              "          if (!dataTable) return;\n",
              "\n",
              "          const docLinkHtml = 'Like what you see? Visit the ' +\n",
              "            '<a target=\"_blank\" href=https://colab.research.google.com/notebooks/data_table.ipynb>data table notebook</a>'\n",
              "            + ' to learn more about interactive tables.';\n",
              "          element.innerHTML = '';\n",
              "          dataTable['output_type'] = 'display_data';\n",
              "          await google.colab.output.renderOutput(dataTable, element);\n",
              "          const docLink = document.createElement('div');\n",
              "          docLink.innerHTML = docLinkHtml;\n",
              "          element.appendChild(docLink);\n",
              "        }\n",
              "      </script>\n",
              "    </div>\n",
              "  </div>\n",
              "  "
            ]
          },
          "metadata": {},
          "execution_count": 26
        }
      ],
      "source": [
        "genres = anime['genre'].str.split(', ').explode().value_counts().to_frame()\n",
        "genres"
      ]
    },
    {
      "cell_type": "markdown",
      "metadata": {
        "id": "uzVncrtFnfxN"
      },
      "source": [
        "**Количество средних просмотренных тайтлов у пользователя**"
      ]
    },
    {
      "cell_type": "code",
      "execution_count": null,
      "metadata": {
        "colab": {
          "base_uri": "https://localhost:8080/"
        },
        "id": "hg-Ocjhpc77N",
        "outputId": "eff6550e-a0bd-4eae-a0f9-39afd4a659c2"
      },
      "outputs": [
        {
          "output_type": "execute_result",
          "data": {
            "text/plain": [
              "user_rating    106.0\n",
              "dtype: float64"
            ]
          },
          "metadata": {},
          "execution_count": 27
        }
      ],
      "source": [
        "glued.groupby('user_id').agg({'user_rating':'count'}).mean().round(0)"
      ]
    },
    {
      "cell_type": "markdown",
      "metadata": {
        "id": "orxpmqAQnume"
      },
      "source": [
        "Каждый пользователь в среднем посмотрел 106 тайтлов"
      ]
    },
    {
      "cell_type": "markdown",
      "metadata": {
        "id": "Hpk3R8vKruBE"
      },
      "source": [
        "**Количество средних оценок пользователя**"
      ]
    },
    {
      "cell_type": "code",
      "execution_count": null,
      "metadata": {
        "colab": {
          "base_uri": "https://localhost:8080/"
        },
        "id": "Gfwm3Q5xryZW",
        "outputId": "55fc51fc-f458-418b-f84d-8afa0fb04280"
      },
      "outputs": [
        {
          "output_type": "execute_result",
          "data": {
            "text/plain": [
              "user_rating    91.0\n",
              "dtype: float64"
            ]
          },
          "metadata": {},
          "execution_count": 28
        }
      ],
      "source": [
        "glued[glued.user_rating != -1].groupby('user_id').agg({'user_rating':'count'}).mean().round()"
      ]
    },
    {
      "cell_type": "markdown",
      "metadata": {
        "id": "76NoYcKNsU7a"
      },
      "source": [
        "Но оценил только 91"
      ]
    },
    {
      "cell_type": "markdown",
      "metadata": {
        "id": "MFmw4alysbny"
      },
      "source": [
        "**Самые часто просматриваемые аниме**"
      ]
    },
    {
      "cell_type": "code",
      "execution_count": null,
      "metadata": {
        "colab": {
          "base_uri": "https://localhost:8080/"
        },
        "id": "3hQGUpObsl8J",
        "outputId": "13c12b6b-9d91-434e-b90b-70d9b41423da"
      },
      "outputs": [
        {
          "output_type": "execute_result",
          "data": {
            "text/plain": [
              "   user_id  anime_id  user_rating           name  \\\n",
              "0        1        20           -1         Naruto   \n",
              "1        1        24           -1  School Rumble   \n",
              "2        1        79           -1       Shuffle!   \n",
              "\n",
              "                                               genre type episodes  \\\n",
              "0  Action, Comedy, Martial Arts, Shounen, Super P...   TV      220   \n",
              "1                   Comedy, Romance, School, Shounen   TV       26   \n",
              "2  Comedy, Drama, Ecchi, Fantasy, Harem, Magic, R...   TV       24   \n",
              "\n",
              "   anime_rating   members  \n",
              "0          7.81  683297.0  \n",
              "1          8.06  178553.0  \n",
              "2          7.31  158772.0  "
            ],
            "text/html": [
              "\n",
              "  <div id=\"df-5ae4da3d-7881-4316-aeb7-f0fb66e607d8\">\n",
              "    <div class=\"colab-df-container\">\n",
              "      <div>\n",
              "<style scoped>\n",
              "    .dataframe tbody tr th:only-of-type {\n",
              "        vertical-align: middle;\n",
              "    }\n",
              "\n",
              "    .dataframe tbody tr th {\n",
              "        vertical-align: top;\n",
              "    }\n",
              "\n",
              "    .dataframe thead th {\n",
              "        text-align: right;\n",
              "    }\n",
              "</style>\n",
              "<table border=\"1\" class=\"dataframe\">\n",
              "  <thead>\n",
              "    <tr style=\"text-align: right;\">\n",
              "      <th></th>\n",
              "      <th>user_id</th>\n",
              "      <th>anime_id</th>\n",
              "      <th>user_rating</th>\n",
              "      <th>name</th>\n",
              "      <th>genre</th>\n",
              "      <th>type</th>\n",
              "      <th>episodes</th>\n",
              "      <th>anime_rating</th>\n",
              "      <th>members</th>\n",
              "    </tr>\n",
              "  </thead>\n",
              "  <tbody>\n",
              "    <tr>\n",
              "      <th>0</th>\n",
              "      <td>1</td>\n",
              "      <td>20</td>\n",
              "      <td>-1</td>\n",
              "      <td>Naruto</td>\n",
              "      <td>Action, Comedy, Martial Arts, Shounen, Super P...</td>\n",
              "      <td>TV</td>\n",
              "      <td>220</td>\n",
              "      <td>7.81</td>\n",
              "      <td>683297.0</td>\n",
              "    </tr>\n",
              "    <tr>\n",
              "      <th>1</th>\n",
              "      <td>1</td>\n",
              "      <td>24</td>\n",
              "      <td>-1</td>\n",
              "      <td>School Rumble</td>\n",
              "      <td>Comedy, Romance, School, Shounen</td>\n",
              "      <td>TV</td>\n",
              "      <td>26</td>\n",
              "      <td>8.06</td>\n",
              "      <td>178553.0</td>\n",
              "    </tr>\n",
              "    <tr>\n",
              "      <th>2</th>\n",
              "      <td>1</td>\n",
              "      <td>79</td>\n",
              "      <td>-1</td>\n",
              "      <td>Shuffle!</td>\n",
              "      <td>Comedy, Drama, Ecchi, Fantasy, Harem, Magic, R...</td>\n",
              "      <td>TV</td>\n",
              "      <td>24</td>\n",
              "      <td>7.31</td>\n",
              "      <td>158772.0</td>\n",
              "    </tr>\n",
              "  </tbody>\n",
              "</table>\n",
              "</div>\n",
              "      <button class=\"colab-df-convert\" onclick=\"convertToInteractive('df-5ae4da3d-7881-4316-aeb7-f0fb66e607d8')\"\n",
              "              title=\"Convert this dataframe to an interactive table.\"\n",
              "              style=\"display:none;\">\n",
              "        \n",
              "  <svg xmlns=\"http://www.w3.org/2000/svg\" height=\"24px\"viewBox=\"0 0 24 24\"\n",
              "       width=\"24px\">\n",
              "    <path d=\"M0 0h24v24H0V0z\" fill=\"none\"/>\n",
              "    <path d=\"M18.56 5.44l.94 2.06.94-2.06 2.06-.94-2.06-.94-.94-2.06-.94 2.06-2.06.94zm-11 1L8.5 8.5l.94-2.06 2.06-.94-2.06-.94L8.5 2.5l-.94 2.06-2.06.94zm10 10l.94 2.06.94-2.06 2.06-.94-2.06-.94-.94-2.06-.94 2.06-2.06.94z\"/><path d=\"M17.41 7.96l-1.37-1.37c-.4-.4-.92-.59-1.43-.59-.52 0-1.04.2-1.43.59L10.3 9.45l-7.72 7.72c-.78.78-.78 2.05 0 2.83L4 21.41c.39.39.9.59 1.41.59.51 0 1.02-.2 1.41-.59l7.78-7.78 2.81-2.81c.8-.78.8-2.07 0-2.86zM5.41 20L4 18.59l7.72-7.72 1.47 1.35L5.41 20z\"/>\n",
              "  </svg>\n",
              "      </button>\n",
              "      \n",
              "  <style>\n",
              "    .colab-df-container {\n",
              "      display:flex;\n",
              "      flex-wrap:wrap;\n",
              "      gap: 12px;\n",
              "    }\n",
              "\n",
              "    .colab-df-convert {\n",
              "      background-color: #E8F0FE;\n",
              "      border: none;\n",
              "      border-radius: 50%;\n",
              "      cursor: pointer;\n",
              "      display: none;\n",
              "      fill: #1967D2;\n",
              "      height: 32px;\n",
              "      padding: 0 0 0 0;\n",
              "      width: 32px;\n",
              "    }\n",
              "\n",
              "    .colab-df-convert:hover {\n",
              "      background-color: #E2EBFA;\n",
              "      box-shadow: 0px 1px 2px rgba(60, 64, 67, 0.3), 0px 1px 3px 1px rgba(60, 64, 67, 0.15);\n",
              "      fill: #174EA6;\n",
              "    }\n",
              "\n",
              "    [theme=dark] .colab-df-convert {\n",
              "      background-color: #3B4455;\n",
              "      fill: #D2E3FC;\n",
              "    }\n",
              "\n",
              "    [theme=dark] .colab-df-convert:hover {\n",
              "      background-color: #434B5C;\n",
              "      box-shadow: 0px 1px 3px 1px rgba(0, 0, 0, 0.15);\n",
              "      filter: drop-shadow(0px 1px 2px rgba(0, 0, 0, 0.3));\n",
              "      fill: #FFFFFF;\n",
              "    }\n",
              "  </style>\n",
              "\n",
              "      <script>\n",
              "        const buttonEl =\n",
              "          document.querySelector('#df-5ae4da3d-7881-4316-aeb7-f0fb66e607d8 button.colab-df-convert');\n",
              "        buttonEl.style.display =\n",
              "          google.colab.kernel.accessAllowed ? 'block' : 'none';\n",
              "\n",
              "        async function convertToInteractive(key) {\n",
              "          const element = document.querySelector('#df-5ae4da3d-7881-4316-aeb7-f0fb66e607d8');\n",
              "          const dataTable =\n",
              "            await google.colab.kernel.invokeFunction('convertToInteractive',\n",
              "                                                     [key], {});\n",
              "          if (!dataTable) return;\n",
              "\n",
              "          const docLinkHtml = 'Like what you see? Visit the ' +\n",
              "            '<a target=\"_blank\" href=https://colab.research.google.com/notebooks/data_table.ipynb>data table notebook</a>'\n",
              "            + ' to learn more about interactive tables.';\n",
              "          element.innerHTML = '';\n",
              "          dataTable['output_type'] = 'display_data';\n",
              "          await google.colab.output.renderOutput(dataTable, element);\n",
              "          const docLink = document.createElement('div');\n",
              "          docLink.innerHTML = docLinkHtml;\n",
              "          element.appendChild(docLink);\n",
              "        }\n",
              "      </script>\n",
              "    </div>\n",
              "  </div>\n",
              "  "
            ]
          },
          "metadata": {},
          "execution_count": 29
        }
      ],
      "source": [
        "glued.head(3)"
      ]
    },
    {
      "cell_type": "code",
      "execution_count": null,
      "metadata": {
        "colab": {
          "base_uri": "https://localhost:8080/"
        },
        "id": "aJdjb16ZsaMn",
        "outputId": "e89b7dc5-065d-48ca-95d9-752e0fcf442a"
      },
      "outputs": [
        {
          "output_type": "execute_result",
          "data": {
            "text/plain": [
              "                                  anime_id\n",
              "name                                      \n",
              "Death Note                           39340\n",
              "Sword Art Online                     30583\n",
              "Shingeki no Kyojin                   29584\n",
              "Code Geass: Hangyaku no Lelouch      27718\n",
              "Elfen Lied                           27506\n",
              "Angel Beats!                         27183\n",
              "Naruto                               25925\n",
              "Fullmetal Alchemist                  25032\n",
              "Fullmetal Alchemist: Brotherhood     24574\n",
              "Toradora!                            24283"
            ],
            "text/html": [
              "\n",
              "  <div id=\"df-1eafe650-ed49-4d09-91c0-129740d89059\">\n",
              "    <div class=\"colab-df-container\">\n",
              "      <div>\n",
              "<style scoped>\n",
              "    .dataframe tbody tr th:only-of-type {\n",
              "        vertical-align: middle;\n",
              "    }\n",
              "\n",
              "    .dataframe tbody tr th {\n",
              "        vertical-align: top;\n",
              "    }\n",
              "\n",
              "    .dataframe thead th {\n",
              "        text-align: right;\n",
              "    }\n",
              "</style>\n",
              "<table border=\"1\" class=\"dataframe\">\n",
              "  <thead>\n",
              "    <tr style=\"text-align: right;\">\n",
              "      <th></th>\n",
              "      <th>anime_id</th>\n",
              "    </tr>\n",
              "    <tr>\n",
              "      <th>name</th>\n",
              "      <th></th>\n",
              "    </tr>\n",
              "  </thead>\n",
              "  <tbody>\n",
              "    <tr>\n",
              "      <th>Death Note</th>\n",
              "      <td>39340</td>\n",
              "    </tr>\n",
              "    <tr>\n",
              "      <th>Sword Art Online</th>\n",
              "      <td>30583</td>\n",
              "    </tr>\n",
              "    <tr>\n",
              "      <th>Shingeki no Kyojin</th>\n",
              "      <td>29584</td>\n",
              "    </tr>\n",
              "    <tr>\n",
              "      <th>Code Geass: Hangyaku no Lelouch</th>\n",
              "      <td>27718</td>\n",
              "    </tr>\n",
              "    <tr>\n",
              "      <th>Elfen Lied</th>\n",
              "      <td>27506</td>\n",
              "    </tr>\n",
              "    <tr>\n",
              "      <th>Angel Beats!</th>\n",
              "      <td>27183</td>\n",
              "    </tr>\n",
              "    <tr>\n",
              "      <th>Naruto</th>\n",
              "      <td>25925</td>\n",
              "    </tr>\n",
              "    <tr>\n",
              "      <th>Fullmetal Alchemist</th>\n",
              "      <td>25032</td>\n",
              "    </tr>\n",
              "    <tr>\n",
              "      <th>Fullmetal Alchemist: Brotherhood</th>\n",
              "      <td>24574</td>\n",
              "    </tr>\n",
              "    <tr>\n",
              "      <th>Toradora!</th>\n",
              "      <td>24283</td>\n",
              "    </tr>\n",
              "  </tbody>\n",
              "</table>\n",
              "</div>\n",
              "      <button class=\"colab-df-convert\" onclick=\"convertToInteractive('df-1eafe650-ed49-4d09-91c0-129740d89059')\"\n",
              "              title=\"Convert this dataframe to an interactive table.\"\n",
              "              style=\"display:none;\">\n",
              "        \n",
              "  <svg xmlns=\"http://www.w3.org/2000/svg\" height=\"24px\"viewBox=\"0 0 24 24\"\n",
              "       width=\"24px\">\n",
              "    <path d=\"M0 0h24v24H0V0z\" fill=\"none\"/>\n",
              "    <path d=\"M18.56 5.44l.94 2.06.94-2.06 2.06-.94-2.06-.94-.94-2.06-.94 2.06-2.06.94zm-11 1L8.5 8.5l.94-2.06 2.06-.94-2.06-.94L8.5 2.5l-.94 2.06-2.06.94zm10 10l.94 2.06.94-2.06 2.06-.94-2.06-.94-.94-2.06-.94 2.06-2.06.94z\"/><path d=\"M17.41 7.96l-1.37-1.37c-.4-.4-.92-.59-1.43-.59-.52 0-1.04.2-1.43.59L10.3 9.45l-7.72 7.72c-.78.78-.78 2.05 0 2.83L4 21.41c.39.39.9.59 1.41.59.51 0 1.02-.2 1.41-.59l7.78-7.78 2.81-2.81c.8-.78.8-2.07 0-2.86zM5.41 20L4 18.59l7.72-7.72 1.47 1.35L5.41 20z\"/>\n",
              "  </svg>\n",
              "      </button>\n",
              "      \n",
              "  <style>\n",
              "    .colab-df-container {\n",
              "      display:flex;\n",
              "      flex-wrap:wrap;\n",
              "      gap: 12px;\n",
              "    }\n",
              "\n",
              "    .colab-df-convert {\n",
              "      background-color: #E8F0FE;\n",
              "      border: none;\n",
              "      border-radius: 50%;\n",
              "      cursor: pointer;\n",
              "      display: none;\n",
              "      fill: #1967D2;\n",
              "      height: 32px;\n",
              "      padding: 0 0 0 0;\n",
              "      width: 32px;\n",
              "    }\n",
              "\n",
              "    .colab-df-convert:hover {\n",
              "      background-color: #E2EBFA;\n",
              "      box-shadow: 0px 1px 2px rgba(60, 64, 67, 0.3), 0px 1px 3px 1px rgba(60, 64, 67, 0.15);\n",
              "      fill: #174EA6;\n",
              "    }\n",
              "\n",
              "    [theme=dark] .colab-df-convert {\n",
              "      background-color: #3B4455;\n",
              "      fill: #D2E3FC;\n",
              "    }\n",
              "\n",
              "    [theme=dark] .colab-df-convert:hover {\n",
              "      background-color: #434B5C;\n",
              "      box-shadow: 0px 1px 3px 1px rgba(0, 0, 0, 0.15);\n",
              "      filter: drop-shadow(0px 1px 2px rgba(0, 0, 0, 0.3));\n",
              "      fill: #FFFFFF;\n",
              "    }\n",
              "  </style>\n",
              "\n",
              "      <script>\n",
              "        const buttonEl =\n",
              "          document.querySelector('#df-1eafe650-ed49-4d09-91c0-129740d89059 button.colab-df-convert');\n",
              "        buttonEl.style.display =\n",
              "          google.colab.kernel.accessAllowed ? 'block' : 'none';\n",
              "\n",
              "        async function convertToInteractive(key) {\n",
              "          const element = document.querySelector('#df-1eafe650-ed49-4d09-91c0-129740d89059');\n",
              "          const dataTable =\n",
              "            await google.colab.kernel.invokeFunction('convertToInteractive',\n",
              "                                                     [key], {});\n",
              "          if (!dataTable) return;\n",
              "\n",
              "          const docLinkHtml = 'Like what you see? Visit the ' +\n",
              "            '<a target=\"_blank\" href=https://colab.research.google.com/notebooks/data_table.ipynb>data table notebook</a>'\n",
              "            + ' to learn more about interactive tables.';\n",
              "          element.innerHTML = '';\n",
              "          dataTable['output_type'] = 'display_data';\n",
              "          await google.colab.output.renderOutput(dataTable, element);\n",
              "          const docLink = document.createElement('div');\n",
              "          docLink.innerHTML = docLinkHtml;\n",
              "          element.appendChild(docLink);\n",
              "        }\n",
              "      </script>\n",
              "    </div>\n",
              "  </div>\n",
              "  "
            ]
          },
          "metadata": {},
          "execution_count": 30
        }
      ],
      "source": [
        "glued.groupby('name').agg({'anime_id':'count'}).sort_values('anime_id', ascending=False).head(10)"
      ]
    },
    {
      "cell_type": "markdown",
      "metadata": {
        "id": "hJYb7OM6dE56"
      },
      "source": [
        "## Задание №2 : Оценить разреженность данных по рейтингу (1/2 балла)"
      ]
    },
    {
      "cell_type": "markdown",
      "metadata": {
        "id": "-o2aM7tQUfbv"
      },
      "source": [
        "При конструировании матрицы взаимодействий заменяется рейтинг с категориальных значений на бинарные. В нашем случае - замена рейтинга ниже 5 на \"-1\", так как рейтинг 5 и ниже скорее означает, что пользователю тайтл не понравился."
      ]
    },
    {
      "cell_type": "code",
      "execution_count": null,
      "metadata": {
        "id": "E4GWm0MyFBDe"
      },
      "outputs": [],
      "source": [
        "from lightfm.data import Dataset"
      ]
    },
    {
      "cell_type": "code",
      "execution_count": null,
      "metadata": {
        "colab": {
          "base_uri": "https://localhost:8080/",
          "height": 236
        },
        "id": "hyH2joBgSiNV",
        "outputId": "14d8d162-6377-4378-e286-2c3cd57c89bd"
      },
      "outputs": [
        {
          "output_type": "execute_result",
          "data": {
            "text/plain": [
              "   anime_id episodes  rating  members  Action  Adventure  Cars  Comedy  \\\n",
              "0     32281        1    9.37   200630       0          0     0       0   \n",
              "1      5114       64    9.26   793665       1          1     0       0   \n",
              "2     28977       51    9.25   114262       1          0     0       1   \n",
              "3      9253       24    9.17   673572       0          0     0       0   \n",
              "4      9969       51    9.16   151266       1          0     0       1   \n",
              "\n",
              "   Dementia  Demons  ...  Thriller  Vampire  Yaoi  Yuri  Movie  Music_Type  \\\n",
              "0         0       0  ...         0        0     0     0      1           0   \n",
              "1         0       0  ...         0        0     0     0      0           0   \n",
              "2         0       0  ...         0        0     0     0      0           0   \n",
              "3         0       0  ...         1        0     0     0      0           0   \n",
              "4         0       0  ...         0        0     0     0      0           0   \n",
              "\n",
              "   ONA  OVA  Special  TV  \n",
              "0    0    0        0   0  \n",
              "1    0    0        0   1  \n",
              "2    0    0        0   1  \n",
              "3    0    0        0   1  \n",
              "4    0    0        0   1  \n",
              "\n",
              "[5 rows x 53 columns]"
            ],
            "text/html": [
              "\n",
              "  <div id=\"df-2b969565-3ed2-4e1d-93eb-558f6e3db74a\">\n",
              "    <div class=\"colab-df-container\">\n",
              "      <div>\n",
              "<style scoped>\n",
              "    .dataframe tbody tr th:only-of-type {\n",
              "        vertical-align: middle;\n",
              "    }\n",
              "\n",
              "    .dataframe tbody tr th {\n",
              "        vertical-align: top;\n",
              "    }\n",
              "\n",
              "    .dataframe thead th {\n",
              "        text-align: right;\n",
              "    }\n",
              "</style>\n",
              "<table border=\"1\" class=\"dataframe\">\n",
              "  <thead>\n",
              "    <tr style=\"text-align: right;\">\n",
              "      <th></th>\n",
              "      <th>anime_id</th>\n",
              "      <th>episodes</th>\n",
              "      <th>rating</th>\n",
              "      <th>members</th>\n",
              "      <th>Action</th>\n",
              "      <th>Adventure</th>\n",
              "      <th>Cars</th>\n",
              "      <th>Comedy</th>\n",
              "      <th>Dementia</th>\n",
              "      <th>Demons</th>\n",
              "      <th>...</th>\n",
              "      <th>Thriller</th>\n",
              "      <th>Vampire</th>\n",
              "      <th>Yaoi</th>\n",
              "      <th>Yuri</th>\n",
              "      <th>Movie</th>\n",
              "      <th>Music_Type</th>\n",
              "      <th>ONA</th>\n",
              "      <th>OVA</th>\n",
              "      <th>Special</th>\n",
              "      <th>TV</th>\n",
              "    </tr>\n",
              "  </thead>\n",
              "  <tbody>\n",
              "    <tr>\n",
              "      <th>0</th>\n",
              "      <td>32281</td>\n",
              "      <td>1</td>\n",
              "      <td>9.37</td>\n",
              "      <td>200630</td>\n",
              "      <td>0</td>\n",
              "      <td>0</td>\n",
              "      <td>0</td>\n",
              "      <td>0</td>\n",
              "      <td>0</td>\n",
              "      <td>0</td>\n",
              "      <td>...</td>\n",
              "      <td>0</td>\n",
              "      <td>0</td>\n",
              "      <td>0</td>\n",
              "      <td>0</td>\n",
              "      <td>1</td>\n",
              "      <td>0</td>\n",
              "      <td>0</td>\n",
              "      <td>0</td>\n",
              "      <td>0</td>\n",
              "      <td>0</td>\n",
              "    </tr>\n",
              "    <tr>\n",
              "      <th>1</th>\n",
              "      <td>5114</td>\n",
              "      <td>64</td>\n",
              "      <td>9.26</td>\n",
              "      <td>793665</td>\n",
              "      <td>1</td>\n",
              "      <td>1</td>\n",
              "      <td>0</td>\n",
              "      <td>0</td>\n",
              "      <td>0</td>\n",
              "      <td>0</td>\n",
              "      <td>...</td>\n",
              "      <td>0</td>\n",
              "      <td>0</td>\n",
              "      <td>0</td>\n",
              "      <td>0</td>\n",
              "      <td>0</td>\n",
              "      <td>0</td>\n",
              "      <td>0</td>\n",
              "      <td>0</td>\n",
              "      <td>0</td>\n",
              "      <td>1</td>\n",
              "    </tr>\n",
              "    <tr>\n",
              "      <th>2</th>\n",
              "      <td>28977</td>\n",
              "      <td>51</td>\n",
              "      <td>9.25</td>\n",
              "      <td>114262</td>\n",
              "      <td>1</td>\n",
              "      <td>0</td>\n",
              "      <td>0</td>\n",
              "      <td>1</td>\n",
              "      <td>0</td>\n",
              "      <td>0</td>\n",
              "      <td>...</td>\n",
              "      <td>0</td>\n",
              "      <td>0</td>\n",
              "      <td>0</td>\n",
              "      <td>0</td>\n",
              "      <td>0</td>\n",
              "      <td>0</td>\n",
              "      <td>0</td>\n",
              "      <td>0</td>\n",
              "      <td>0</td>\n",
              "      <td>1</td>\n",
              "    </tr>\n",
              "    <tr>\n",
              "      <th>3</th>\n",
              "      <td>9253</td>\n",
              "      <td>24</td>\n",
              "      <td>9.17</td>\n",
              "      <td>673572</td>\n",
              "      <td>0</td>\n",
              "      <td>0</td>\n",
              "      <td>0</td>\n",
              "      <td>0</td>\n",
              "      <td>0</td>\n",
              "      <td>0</td>\n",
              "      <td>...</td>\n",
              "      <td>1</td>\n",
              "      <td>0</td>\n",
              "      <td>0</td>\n",
              "      <td>0</td>\n",
              "      <td>0</td>\n",
              "      <td>0</td>\n",
              "      <td>0</td>\n",
              "      <td>0</td>\n",
              "      <td>0</td>\n",
              "      <td>1</td>\n",
              "    </tr>\n",
              "    <tr>\n",
              "      <th>4</th>\n",
              "      <td>9969</td>\n",
              "      <td>51</td>\n",
              "      <td>9.16</td>\n",
              "      <td>151266</td>\n",
              "      <td>1</td>\n",
              "      <td>0</td>\n",
              "      <td>0</td>\n",
              "      <td>1</td>\n",
              "      <td>0</td>\n",
              "      <td>0</td>\n",
              "      <td>...</td>\n",
              "      <td>0</td>\n",
              "      <td>0</td>\n",
              "      <td>0</td>\n",
              "      <td>0</td>\n",
              "      <td>0</td>\n",
              "      <td>0</td>\n",
              "      <td>0</td>\n",
              "      <td>0</td>\n",
              "      <td>0</td>\n",
              "      <td>1</td>\n",
              "    </tr>\n",
              "  </tbody>\n",
              "</table>\n",
              "<p>5 rows × 53 columns</p>\n",
              "</div>\n",
              "      <button class=\"colab-df-convert\" onclick=\"convertToInteractive('df-2b969565-3ed2-4e1d-93eb-558f6e3db74a')\"\n",
              "              title=\"Convert this dataframe to an interactive table.\"\n",
              "              style=\"display:none;\">\n",
              "        \n",
              "  <svg xmlns=\"http://www.w3.org/2000/svg\" height=\"24px\"viewBox=\"0 0 24 24\"\n",
              "       width=\"24px\">\n",
              "    <path d=\"M0 0h24v24H0V0z\" fill=\"none\"/>\n",
              "    <path d=\"M18.56 5.44l.94 2.06.94-2.06 2.06-.94-2.06-.94-.94-2.06-.94 2.06-2.06.94zm-11 1L8.5 8.5l.94-2.06 2.06-.94-2.06-.94L8.5 2.5l-.94 2.06-2.06.94zm10 10l.94 2.06.94-2.06 2.06-.94-2.06-.94-.94-2.06-.94 2.06-2.06.94z\"/><path d=\"M17.41 7.96l-1.37-1.37c-.4-.4-.92-.59-1.43-.59-.52 0-1.04.2-1.43.59L10.3 9.45l-7.72 7.72c-.78.78-.78 2.05 0 2.83L4 21.41c.39.39.9.59 1.41.59.51 0 1.02-.2 1.41-.59l7.78-7.78 2.81-2.81c.8-.78.8-2.07 0-2.86zM5.41 20L4 18.59l7.72-7.72 1.47 1.35L5.41 20z\"/>\n",
              "  </svg>\n",
              "      </button>\n",
              "      \n",
              "  <style>\n",
              "    .colab-df-container {\n",
              "      display:flex;\n",
              "      flex-wrap:wrap;\n",
              "      gap: 12px;\n",
              "    }\n",
              "\n",
              "    .colab-df-convert {\n",
              "      background-color: #E8F0FE;\n",
              "      border: none;\n",
              "      border-radius: 50%;\n",
              "      cursor: pointer;\n",
              "      display: none;\n",
              "      fill: #1967D2;\n",
              "      height: 32px;\n",
              "      padding: 0 0 0 0;\n",
              "      width: 32px;\n",
              "    }\n",
              "\n",
              "    .colab-df-convert:hover {\n",
              "      background-color: #E2EBFA;\n",
              "      box-shadow: 0px 1px 2px rgba(60, 64, 67, 0.3), 0px 1px 3px 1px rgba(60, 64, 67, 0.15);\n",
              "      fill: #174EA6;\n",
              "    }\n",
              "\n",
              "    [theme=dark] .colab-df-convert {\n",
              "      background-color: #3B4455;\n",
              "      fill: #D2E3FC;\n",
              "    }\n",
              "\n",
              "    [theme=dark] .colab-df-convert:hover {\n",
              "      background-color: #434B5C;\n",
              "      box-shadow: 0px 1px 3px 1px rgba(0, 0, 0, 0.15);\n",
              "      filter: drop-shadow(0px 1px 2px rgba(0, 0, 0, 0.3));\n",
              "      fill: #FFFFFF;\n",
              "    }\n",
              "  </style>\n",
              "\n",
              "      <script>\n",
              "        const buttonEl =\n",
              "          document.querySelector('#df-2b969565-3ed2-4e1d-93eb-558f6e3db74a button.colab-df-convert');\n",
              "        buttonEl.style.display =\n",
              "          google.colab.kernel.accessAllowed ? 'block' : 'none';\n",
              "\n",
              "        async function convertToInteractive(key) {\n",
              "          const element = document.querySelector('#df-2b969565-3ed2-4e1d-93eb-558f6e3db74a');\n",
              "          const dataTable =\n",
              "            await google.colab.kernel.invokeFunction('convertToInteractive',\n",
              "                                                     [key], {});\n",
              "          if (!dataTable) return;\n",
              "\n",
              "          const docLinkHtml = 'Like what you see? Visit the ' +\n",
              "            '<a target=\"_blank\" href=https://colab.research.google.com/notebooks/data_table.ipynb>data table notebook</a>'\n",
              "            + ' to learn more about interactive tables.';\n",
              "          element.innerHTML = '';\n",
              "          dataTable['output_type'] = 'display_data';\n",
              "          await google.colab.output.renderOutput(dataTable, element);\n",
              "          const docLink = document.createElement('div');\n",
              "          docLink.innerHTML = docLinkHtml;\n",
              "          element.appendChild(docLink);\n",
              "        }\n",
              "      </script>\n",
              "    </div>\n",
              "  </div>\n",
              "  "
            ]
          },
          "metadata": {},
          "execution_count": 11
        }
      ],
      "source": [
        "item_feats = anime['genre'].str.get_dummies(sep=', ').rename(columns={'Music':'Music_Genre'})\n",
        "types = anime['type'].str.get_dummies().rename(columns={'Music':'Music_Type'})\n",
        "item_feats = pd.concat([anime[['anime_id','episodes', 'rating',\n",
        "                           'members']], item_feats, types], axis = 1)\n",
        "item_feats.head()"
      ]
    },
    {
      "cell_type": "code",
      "execution_count": null,
      "metadata": {
        "colab": {
          "base_uri": "https://localhost:8080/"
        },
        "id": "hMcwh8TfFFCV",
        "outputId": "42b85342-1512-4749-cdbc-3e2689311524"
      },
      "outputs": [
        {
          "output_type": "execute_result",
          "data": {
            "text/plain": [
              "<6969x10990 sparse matrix of type '<class 'numpy.float32'>'\n",
              "\twith 63980 stored elements in Compressed Sparse Row format>"
            ]
          },
          "metadata": {},
          "execution_count": 12
        }
      ],
      "source": [
        "r1 = rating.sample(frac = .05)\n",
        "r1 = r1.dropna()\n",
        "r1 = r1[r1.rating != -1]\n",
        "\n",
        "\n",
        "partial_merge = r1.merge(item_feats, on = 'anime_id', how='left', validate='m:1').rename(columns={\n",
        "    'rating_x':'user_rating',\n",
        "    'rating_y':'anime_rating'\n",
        "})\n",
        "partial_merge = partial_merge.dropna()\n",
        "partial_merge['anime_rating'] = partial_merge['anime_rating'].astype(int)\n",
        "partial_merge['episodes'] = partial_merge['episodes'].astype(int)\n",
        "\n",
        "partial_merge = partial_merge.dropna(axis=0)\n",
        "dataset = Dataset()\n",
        "dataset.fit(users=partial_merge.user_id, \n",
        "            items=partial_merge.anime_id,\n",
        "            item_features=partial_merge.iloc[:, 2:])\n",
        "\n",
        "for col in partial_merge.columns[2:]:\n",
        "  dataset.fit_partial(items=partial_merge.anime_id,\n",
        "                     item_features=partial_merge[col])\n",
        "\n",
        "\n",
        "interactions, weights = dataset.build_interactions(\n",
        "    (row.user_id, row.anime_id) for row\\\n",
        "     in partial_merge[['user_id', 'anime_id']].itertuples()\n",
        ")\n",
        "\n",
        "\n",
        "item_features = dataset.build_item_features(\n",
        "    (row.anime_id, row[2:]) for row in partial_merge.iloc[:, 1:].itertuples())\n",
        "\n",
        "item_features"
      ]
    },
    {
      "cell_type": "code",
      "execution_count": null,
      "metadata": {
        "colab": {
          "base_uri": "https://localhost:8080/"
        },
        "id": "YJs0rfLOJH9H",
        "outputId": "ea7a540f-cab7-4ad2-823a-cc150e38c6c2"
      },
      "outputs": [
        {
          "output_type": "execute_result",
          "data": {
            "text/plain": [
              "0.9991100155727038"
            ]
          },
          "metadata": {},
          "execution_count": 35
        }
      ],
      "source": [
        "1 - (interactions.count_nonzero() / (interactions.shape[0] * interactions.shape[1]))"
      ]
    },
    {
      "cell_type": "markdown",
      "metadata": {
        "id": "WIcvQJT3tDio"
      },
      "source": [
        "Данные разрежены на 99%"
      ]
    },
    {
      "cell_type": "markdown",
      "metadata": {
        "id": "jxVlXagNdE57"
      },
      "source": [
        "## Задание №3 : Разделить данные на тренировочные и валидационные (1/2 балла)"
      ]
    },
    {
      "cell_type": "markdown",
      "metadata": {
        "id": "9xAqjaOOBHyW"
      },
      "source": [
        "Сперва разделим данные для обучения и валидации для lightFM"
      ]
    },
    {
      "cell_type": "code",
      "execution_count": null,
      "metadata": {
        "id": "mn8lspphn7p5"
      },
      "outputs": [],
      "source": [
        "from lightfm.cross_validation import random_train_test_split"
      ]
    },
    {
      "cell_type": "code",
      "execution_count": null,
      "metadata": {
        "id": "btlXi5ubj_c-",
        "colab": {
          "base_uri": "https://localhost:8080/",
          "height": 200
        },
        "outputId": "67035633-17de-41b3-a31e-b2e109d6bb16"
      },
      "outputs": [
        {
          "output_type": "error",
          "ename": "NameError",
          "evalue": "ignored",
          "traceback": [
            "\u001b[0;31m---------------------------------------------------------------------------\u001b[0m",
            "\u001b[0;31mNameError\u001b[0m                                 Traceback (most recent call last)",
            "\u001b[0;32m<ipython-input-8-8090b2adaedb>\u001b[0m in \u001b[0;36m<module>\u001b[0;34m()\u001b[0m\n\u001b[0;32m----> 1\u001b[0;31m \u001b[0mtrain\u001b[0m\u001b[0;34m,\u001b[0m \u001b[0mtest\u001b[0m \u001b[0;34m=\u001b[0m \u001b[0mrandom_train_test_split\u001b[0m\u001b[0;34m(\u001b[0m\u001b[0minteractions\u001b[0m\u001b[0;34m,\u001b[0m \u001b[0mtest_percentage\u001b[0m\u001b[0;34m=\u001b[0m\u001b[0;36m0.2\u001b[0m\u001b[0;34m,\u001b[0m \u001b[0mrandom_state\u001b[0m\u001b[0;34m=\u001b[0m\u001b[0mnp\u001b[0m\u001b[0;34m.\u001b[0m\u001b[0mrandom\u001b[0m\u001b[0;34m.\u001b[0m\u001b[0mRandomState\u001b[0m\u001b[0;34m(\u001b[0m\u001b[0;36m3\u001b[0m\u001b[0;34m)\u001b[0m\u001b[0;34m)\u001b[0m\u001b[0;34m\u001b[0m\u001b[0;34m\u001b[0m\u001b[0m\n\u001b[0m\u001b[1;32m      2\u001b[0m \u001b[0mtrain_weights\u001b[0m\u001b[0;34m,\u001b[0m \u001b[0mtest_weights\u001b[0m \u001b[0;34m=\u001b[0m \u001b[0mrandom_train_test_split\u001b[0m\u001b[0;34m(\u001b[0m\u001b[0mweights\u001b[0m\u001b[0;34m,\u001b[0m \u001b[0mtest_percentage\u001b[0m\u001b[0;34m=\u001b[0m\u001b[0;36m0.2\u001b[0m\u001b[0;34m,\u001b[0m \u001b[0mrandom_state\u001b[0m\u001b[0;34m=\u001b[0m\u001b[0mnp\u001b[0m\u001b[0;34m.\u001b[0m\u001b[0mrandom\u001b[0m\u001b[0;34m.\u001b[0m\u001b[0mRandomState\u001b[0m\u001b[0;34m(\u001b[0m\u001b[0;36m3\u001b[0m\u001b[0;34m)\u001b[0m\u001b[0;34m)\u001b[0m\u001b[0;34m\u001b[0m\u001b[0;34m\u001b[0m\u001b[0m\n\u001b[1;32m      3\u001b[0m \u001b[0mtrain_features\u001b[0m\u001b[0;34m,\u001b[0m \u001b[0mtest_features\u001b[0m \u001b[0;34m=\u001b[0m \u001b[0mrandom_train_test_split\u001b[0m\u001b[0;34m(\u001b[0m\u001b[0mitem_features\u001b[0m\u001b[0;34m,\u001b[0m \u001b[0mtest_percentage\u001b[0m\u001b[0;34m=\u001b[0m\u001b[0;36m0.2\u001b[0m\u001b[0;34m,\u001b[0m \u001b[0mrandom_state\u001b[0m\u001b[0;34m=\u001b[0m\u001b[0mnp\u001b[0m\u001b[0;34m.\u001b[0m\u001b[0mrandom\u001b[0m\u001b[0;34m.\u001b[0m\u001b[0mRandomState\u001b[0m\u001b[0;34m(\u001b[0m\u001b[0;36m3\u001b[0m\u001b[0;34m)\u001b[0m\u001b[0;34m)\u001b[0m\u001b[0;34m\u001b[0m\u001b[0;34m\u001b[0m\u001b[0m\n",
            "\u001b[0;31mNameError\u001b[0m: name 'interactions' is not defined"
          ]
        }
      ],
      "source": [
        "train, test = random_train_test_split(interactions, test_percentage=0.2, random_state=np.random.RandomState(3))\n",
        "train_weights, test_weights = random_train_test_split(weights, test_percentage=0.2, random_state=np.random.RandomState(3))\n",
        "train_features, test_features = random_train_test_split(item_features, test_percentage=0.2, random_state=np.random.RandomState(3))"
      ]
    },
    {
      "cell_type": "code",
      "execution_count": null,
      "metadata": {
        "id": "keIgSTv9bibP"
      },
      "outputs": [],
      "source": [
        "train.shape, train_weights.shape"
      ]
    },
    {
      "cell_type": "markdown",
      "metadata": {
        "id": "SV7JJNqdBMvm"
      },
      "source": [
        "Далее разделим данные на тренировачные и валидационные для факторизационных алгоритмов\n"
      ]
    },
    {
      "cell_type": "code",
      "execution_count": null,
      "metadata": {
        "id": "h5Lx4VgSWS8Z"
      },
      "outputs": [],
      "source": [
        "rating[rating.rating != -1].shape"
      ]
    },
    {
      "cell_type": "code",
      "execution_count": null,
      "metadata": {
        "id": "zHnLByHBBVM3"
      },
      "outputs": [],
      "source": [
        "from surprise.model_selection import train_test_split as surprise_split\n",
        "from surprise import Reader\n",
        "from surprise import Dataset\n",
        "r2 = rating.sample(frac=0.05)\n",
        "r2 = r2[r2 != -1]\n",
        "r2 = r2.dropna()\n",
        "\n",
        "reader = Reader(rating_scale=(1, 10))\n",
        "data = Dataset.load_from_df(r2[['user_id', 'anime_id', 'rating']], reader)\n",
        "trainset, testset = surprise_split(data, test_size=0.25)"
      ]
    },
    {
      "cell_type": "code",
      "source": [
        "np.random.seed(42)\n",
        "rng = np.random.default_rng(seed = 42)"
      ],
      "metadata": {
        "id": "VV6aOoAe-wfL"
      },
      "execution_count": null,
      "outputs": []
    },
    {
      "cell_type": "markdown",
      "metadata": {
        "id": "LX78TCHFdE58"
      },
      "source": [
        "## Задание №4 : Решить задачу на основе предложения всем юзерам наиболее популярных item (1 балл)"
      ]
    },
    {
      "cell_type": "markdown",
      "metadata": {
        "id": "5Hm6t95yqqwV"
      },
      "source": [
        "Предположим, что наш сайт с ~симпатичными аниме девочками по бокам uwu~ только запускается, поэтому никаких пользовательских предпочтений и взаимодействий нет. Однако, потенциально мы могли попарсиь популярные аниме сайты и собрать статистику по самым популярным тайтлам.  \n",
        "В качестве меры популярности воспользуемся переменной **members**.\n",
        "  \n",
        "Предложим пользователям 10 случайных самых популярных тайтлов. Распределение тайтлов по пользователям - случайное. Генератор случайных чисел — стандартный генератор случайных чисел NumPy c зафикисированным сидом = 42.  \n"
      ]
    },
    {
      "cell_type": "code",
      "execution_count": null,
      "metadata": {
        "id": "7HNMcWhdzMZY"
      },
      "outputs": [],
      "source": [
        ""
      ]
    },
    {
      "cell_type": "code",
      "execution_count": null,
      "metadata": {
        "id": "SFAOblxh29vb"
      },
      "outputs": [],
      "source": [
        "def random_assigner(array: 'iterable', shape, rnd = 10, rng=rng):\n",
        "  '''Random extension of the elements in a given array\n",
        "  Has a core design drawback: can and probably will assign same animes\n",
        "  to one user due to full random sampling and extension techniques.\n",
        "  However, we may ignore this because recommender systems are usually\n",
        "  allowed to recommend already seen movie or recommend one once again.\n",
        "  Parametres\n",
        "  ----------\n",
        "  array : iterable sequence\n",
        "  shape : desired shape of extended array\n",
        "  rnd : number of random extensions\n",
        "  rng : numpy random number generator\n",
        "  Returns\n",
        "  -------\n",
        "  Randomly extended array of shape == shape\n",
        "  '''\n",
        "  arr = [[i] for i in array]\n",
        "  arr1 = []\n",
        "\n",
        "  arr_range = len(arr)\n",
        "  while len(arr1) < shape:\n",
        "    i = rng.choice(arr_range)\n",
        "    rand = rng.integers(1, rnd+1)\n",
        "    val = np.array(arr[i] * rnd).flatten()\n",
        "    arr1.append(val)\n",
        "  arr1 = np.concatenate(arr1)\n",
        "  if len(arr1) > shape:\n",
        "    arr1 = arr1[:shape]\n",
        "  arr1 = rng.permutation(arr1)\n",
        "  return arr1"
      ]
    },
    {
      "cell_type": "code",
      "execution_count": null,
      "metadata": {
        "id": "Cp5ul1woqmwk"
      },
      "outputs": [],
      "source": [
        "sorted_data = glued.drop_duplicates('anime_id').sort_values('members', ascending=False)['anime_id']\n",
        "top_10 = sorted_data.iloc[:10]\n",
        "top_100 = sorted_data.iloc[:100]"
      ]
    },
    {
      "cell_type": "code",
      "execution_count": null,
      "metadata": {
        "id": "OKe1atVZjnUr"
      },
      "outputs": [],
      "source": [
        "from sklearn.model_selection import train_test_split"
      ]
    },
    {
      "cell_type": "code",
      "execution_count": null,
      "metadata": {
        "id": "-dxVaMiuHjmH"
      },
      "outputs": [],
      "source": [
        "t, rr = train_test_split(rating, train_size = 0.7, random_state=42)\n",
        "rr = rating.sample(frac=0.3)\n",
        "rr['assigned_anime'] = random_assigner(top_10, rr.shape[0])"
      ]
    },
    {
      "cell_type": "code",
      "execution_count": null,
      "metadata": {
        "id": "imzeg8ijVnM3"
      },
      "outputs": [],
      "source": [
        "from tqdm.notebook import tqdm\n",
        "from sklearn.metrics import (\n",
        "      precision_score as ps, recall_score as rs)"
      ]
    },
    {
      "cell_type": "code",
      "execution_count": null,
      "metadata": {
        "id": "sj19M5EcJ5HX"
      },
      "outputs": [],
      "source": [
        "def simple_pr_rec(data) -> tuple:\n",
        "  \n",
        "  \"\"\"\n",
        "  Simple quality estimator of RandomAssigner model built on\n",
        "  scikit-learn metrics.\n",
        "\n",
        "  Estimates a number of overlapping predictions and counts \n",
        "  precision and recall. Since we predict whether user might watch an anime\n",
        "  this estimator will not be used for collaborative recommedation system\n",
        "  but will be used for content based recommendations.\n",
        "  Estimator is inconsistent with the industry approved methods such as MRR, PR@k,\n",
        "  RE@k and etc.\n",
        "\n",
        "  Parameters\n",
        "  ----------\n",
        "  data : DataFrame with assigned values\n",
        "  MUST contain columns as ['user_id', 'anime_id', 'rating', 'assigned_anime']\n",
        "  k : value indicates position to estimate a metrics score\n",
        "  Returns\n",
        "  -------\n",
        "  Sometimes, I don't know why, it doesn't even matter how hard you try...\n",
        "  \"\"\"\n",
        "  \n",
        "  from sklearn.metrics import (\n",
        "      precision_score as ps, recall_score as rs)\n",
        "  \n",
        "  precision = []\n",
        "  recall = []\n",
        "  users = data['user_id'].unique()\n",
        "  users.flags.writeable = False\n",
        "  \n",
        "  d = data.copy()\n",
        "  d.loc[d.rating != -1, 'rating'] = 1\n",
        "  d.loc[d.rating == -1, 'rating'] = 0\n",
        "\n",
        "  for user in tqdm(users):\n",
        "    use = d[d['user_id'] == user]\n",
        "\n",
        "    real_ids = use.anime_id.values\n",
        "    real_ids.flags.writeable = False\n",
        "\n",
        "    assigned_ids = use.assigned_anime.values\n",
        "    assigned_ids.flags.writeable = False\n",
        "\n",
        "    ratings = use.rating.sort_values().values\n",
        "    ratings.flags.writeable = False\n",
        "\n",
        "    # overlaps = [1 if val in real_ids else 0 for val in assigned_ids]\n",
        "\n",
        "    overlaps = []\n",
        "    for val in assigned_ids:\n",
        "      if val in real_ids:\n",
        "        overlaps.append(1)\n",
        "      else:\n",
        "        overlaps.append(0)\n",
        "\n",
        "    overlaps = sorted(overlaps)\n",
        "\n",
        "    precision.append(ps(ratings, overlaps))\n",
        "    recall.append(rs(ratings, overlaps))\n",
        "  return np.mean(precision), np.mean(recall)\n"
      ]
    },
    {
      "cell_type": "code",
      "execution_count": null,
      "metadata": {
        "colab": {
          "base_uri": "https://localhost:8080/",
          "height": 101,
          "referenced_widgets": [
            "1c2e9308ec494e69b38981e10f62c7a4",
            "37a5e42444294ed49a67c2e2f14bfeed",
            "dda991c9360845c7a6b0677c715c9ef8",
            "01347ee6d06b4cbd8b0d622e2e32dda9",
            "dc2989beb69a4a4d8ee0edd674c7cd0b",
            "3f3c83db79934e19ba1c99d1135124e2",
            "c95912cd890645118cbafeb6e5c26b4e",
            "36419e8d3cb3485db78223fc766e0fb7",
            "3d7a1ffa07ce40d984f16dba6e4485f6",
            "4b868cd01a214017b5b4d3cdcf0f07d8",
            "d8f300bed87f49568ead294d44a7d0ae"
          ]
        },
        "id": "xItG_4sQKUlV",
        "outputId": "1ed4f12f-e7a9-4dcd-8a14-fb2773913ad4"
      },
      "outputs": [
        {
          "data": {
            "application/vnd.jupyter.widget-view+json": {
              "model_id": "1c2e9308ec494e69b38981e10f62c7a4",
              "version_major": 2,
              "version_minor": 0
            },
            "text/plain": [
              "  0%|          | 0/69733 [00:00<?, ?it/s]"
            ]
          },
          "metadata": {},
          "output_type": "display_data"
        },
        {
          "name": "stdout",
          "output_type": "stream",
          "text": [
            "CPU times: user 10min 46s, sys: 15.3 s, total: 11min 1s\n",
            "Wall time: 8min 53s\n"
          ]
        },
        {
          "data": {
            "text/plain": [
              "(0.4905239047011912, 0.142859121925801)"
            ]
          },
          "execution_count": 139,
          "metadata": {},
          "output_type": "execute_result"
        }
      ],
      "source": [
        "%%time\n",
        "simple_pr_rec(rr) # топ 10"
      ]
    },
    {
      "cell_type": "markdown",
      "metadata": {
        "id": "lwsxmecIkb4R"
      },
      "source": [
        "На огромных объемах данных средняя точность случайных предложений относительно высока - 0.49. Полнота низкая, однако это объяснимо чистой случайностью всех предсказаний и низкою любовью большинства юзеров к популярным тайтлам."
      ]
    },
    {
      "cell_type": "code",
      "execution_count": null,
      "metadata": {
        "id": "HWzC9_7LmrV0"
      },
      "outputs": [],
      "source": [
        "rr.drop('assigned_anime', axis=1, inplace=True)\n",
        "rr['assigned_anime'] = random_assigner(top_100, rr.shape[0])"
      ]
    },
    {
      "cell_type": "code",
      "execution_count": null,
      "metadata": {
        "colab": {
          "base_uri": "https://localhost:8080/",
          "height": 101,
          "referenced_widgets": [
            "13430c307909433f8eb681c64bd1a46d",
            "d63e447ebf45498f9566bd800d9ac1de",
            "cf5b24b4941d4414a60ae9ca4b465a75",
            "83158ed915eb4721aa00797c4979613a",
            "e8f7c5149825457e863e02b2bdbcee8d",
            "10a571215ddc4ce1a03283f2ea47b8d9",
            "f7e457c9bf3f43b981561865affeed72",
            "c04c30b5c6354d6c9489091901c29061",
            "a81e9abe81d84640b8d405314f6022d1",
            "b59a5c8213c547c086b06c65c324e7cf",
            "9803e58f5a974f0eada7005ba1de4d8b"
          ]
        },
        "id": "HLAW1orhS6-_",
        "outputId": "6d5604ce-ce16-4e5b-df5c-2a04cc101375"
      },
      "outputs": [
        {
          "data": {
            "application/vnd.jupyter.widget-view+json": {
              "model_id": "13430c307909433f8eb681c64bd1a46d",
              "version_major": 2,
              "version_minor": 0
            },
            "text/plain": [
              "  0%|          | 0/69733 [00:00<?, ?it/s]"
            ]
          },
          "metadata": {},
          "output_type": "display_data"
        },
        {
          "name": "stdout",
          "output_type": "stream",
          "text": [
            "CPU times: user 11min 4s, sys: 14.5 s, total: 11min 19s\n",
            "Wall time: 8min 54s\n"
          ]
        },
        {
          "data": {
            "text/plain": [
              "(0.5053053491686719, 0.09163274774380319)"
            ]
          },
          "execution_count": 141,
          "metadata": {},
          "output_type": "execute_result"
        }
      ],
      "source": [
        "%%time\n",
        "simple_pr_rec(rr) # 100 самых популярных"
      ]
    },
    {
      "cell_type": "markdown",
      "metadata": {
        "id": "w4wxr0kJuZiC"
      },
      "source": [
        "Предложение из 100 самых популярных тайтлов увеличило среднюю точностью, но снизило полноту на 64% (5 п.п.)"
      ]
    },
    {
      "cell_type": "markdown",
      "metadata": {
        "id": "W8jmqhiwdE59"
      },
      "source": [
        "## Задание №5 : Решить задачу на основе коллоборативной фильтрации (2 балла)\n",
        "\n",
        "* Реализовать один из методов коллоборативной фильтрации SVD, SVD++, ALS, ALS with implicit feedback"
      ]
    },
    {
      "cell_type": "markdown",
      "metadata": {
        "id": "HcyHpT2fls1r"
      },
      "source": [
        "Сперва зададим функцию оценки результатов модели. [Взято здесь](https://surprise.readthedocs.io/en/stable/FAQ.html#precision-recall-at-k-py)"
      ]
    },
    {
      "cell_type": "code",
      "execution_count": null,
      "metadata": {
        "id": "hUinonN9m63O"
      },
      "outputs": [],
      "source": [
        "from collections import defaultdict\n",
        "\n",
        "def precision_recall_at_k(predictions, k=10, threshold=5.5):\n",
        "    \"\"\"Estimation of precision and recall at k metrics for each user\n",
        "\n",
        "    Parameters\n",
        "    ----------\n",
        "    predictions : vector of predicted values\n",
        "    k : k parameter\n",
        "    threshold : pos/neg rating threshold\n",
        "\n",
        "    Returns\n",
        "    -------\n",
        "\n",
        "    \"\"\"\n",
        "    # First map the predictions to each user.\n",
        "    user_est_true = defaultdict(list)\n",
        "    for uid, _, true_r, est, _ in predictions:\n",
        "        user_est_true[uid].append((est, true_r))\n",
        "\n",
        "    precisions = dict()\n",
        "    recalls = dict()\n",
        "    for uid, user_ratings in user_est_true.items():\n",
        "\n",
        "        # Sort user ratings by estimated value\n",
        "        user_ratings.sort(key=lambda x: x[0], reverse=True)\n",
        "\n",
        "        # Number of relevant items\n",
        "        n_rel = sum((true_r >= threshold) for (_, true_r) in user_ratings)\n",
        "\n",
        "        # Number of recommended items in top k\n",
        "        n_rec_k = sum((est >= threshold) for (est, _) in user_ratings[:k])\n",
        "\n",
        "        # Number of relevant and recommended items in top k\n",
        "        n_rel_and_rec_k = sum(((true_r >= threshold) and (est >= threshold))\n",
        "                              for (est, true_r) in user_ratings[:k])\n",
        "\n",
        "        # Precision@K: Proportion of recommended items that are relevant\n",
        "        # When n_rec_k is 0, Precision is undefined. We here set it to 0.\n",
        "\n",
        "        precisions[uid] = n_rel_and_rec_k / n_rec_k if n_rec_k != 0 else 0\n",
        "\n",
        "        # Recall@K: Proportion of relevant items that are recommended\n",
        "        # When n_rel is 0, Recall is undefined. We here set it to 0.\n",
        "\n",
        "        recalls[uid] = n_rel_and_rec_k / n_rel if n_rel != 0 else 0\n",
        "\n",
        "    return precisions, recalls\n"
      ]
    },
    {
      "cell_type": "markdown",
      "metadata": {
        "id": "5vbmYfsDA_Tg"
      },
      "source": [
        "Решение задачи коллаборативной фильтрации будет представлено с помощью библиотеки Surprise.\n",
        "  \n",
        "Почему не с нуля: Surprise хорошо протестированная библиотека с хорошей кодовой базой, решение с нуля необходимо будет сравнивать с уже имплементированными решениями."
      ]
    },
    {
      "cell_type": "code",
      "execution_count": null,
      "metadata": {
        "id": "KVCJbm45_qaw"
      },
      "outputs": [],
      "source": [
        "from surprise import SVD, SlopeOne"
      ]
    },
    {
      "cell_type": "code",
      "execution_count": null,
      "metadata": {
        "colab": {
          "base_uri": "https://localhost:8080/"
        },
        "id": "hHn6Fqs5_0uv",
        "outputId": "66ed171f-6776-47ce-c161-01da910cef22"
      },
      "outputs": [
        {
          "output_type": "stream",
          "name": "stdout",
          "text": [
            "Mean Average Precision at 5: 0.98\n",
            "Mean Average Recall at 5: 0.96\n"
          ]
        }
      ],
      "source": [
        "svd = SVD().fit(trainset)\n",
        "preds=svd.test(testset)\n",
        "\n",
        "k=5\n",
        "precision, recall = precision_recall_at_k(preds, k=k=, threshold=5)\n",
        "print(f'Mean Average Precision at {k}: {np.mean(list(precision.values())).round(2)}')\n",
        "print(f'Mean Average Recall at {k}: {np.mean(list(recall.values())).round(2)}')"
      ]
    },
    {
      "cell_type": "markdown",
      "metadata": {
        "id": "fZPEpKNidBDo"
      },
      "source": [
        "Прогоним на кросс валидации:"
      ]
    },
    {
      "cell_type": "code",
      "execution_count": null,
      "metadata": {
        "colab": {
          "base_uri": "https://localhost:8080/"
        },
        "id": "AEgY_BM9SqRF",
        "outputId": "9d5fe060-8ff1-40d1-a2f2-58db22564ed9"
      },
      "outputs": [
        {
          "output_type": "stream",
          "name": "stdout",
          "text": [
            "Fold 1\n",
            "Mean Average Precision at 5: 0.98\n",
            "Mean Average Recall at 5: 0.96\n",
            "Fold 2\n",
            "Mean Average Precision at 5: 0.98\n",
            "Mean Average Recall at 5: 0.96\n",
            "Fold 3\n",
            "Mean Average Precision at 5: 0.98\n",
            "Mean Average Recall at 5: 0.96\n",
            "Fold 4\n",
            "Mean Average Precision at 5: 0.98\n",
            "Mean Average Recall at 5: 0.96\n",
            "Fold 5\n",
            "Mean Average Precision at 5: 0.98\n",
            "Mean Average Recall at 5: 0.96\n"
          ]
        }
      ],
      "source": [
        "from surprise.model_selection import KFold\n",
        "kf = KFold(n_splits=5)\n",
        "idx = 1\n",
        "for trainset, testset in kf.split(data):\n",
        "  svd = SVD()\n",
        "  svd.fit(trainset)\n",
        "  predictions = svd.test(testset)\n",
        "  precisions, recalls = precision_recall_at_k(predictions, k=k, threshold=5)\n",
        "\n",
        "  # Precision and recall can then be averaged over all users\n",
        "  print(f'Fold {idx}')\n",
        "  print(f'Mean Average Precision at {k}: {np.mean(list(precision.values())).round(2)}')\n",
        "  print(f'Mean Average Recall at {k}: {np.mean(list(recall.values())).round(2)}')\n",
        "  idx = idx + 1                                              "
      ]
    },
    {
      "cell_type": "markdown",
      "metadata": {
        "id": "XfVEyC4wdiny"
      },
      "source": [
        "На кросс-валидации на 5 фолдах всё хорошо: точность и полнота но очень высоком уровне. SVD модель обучилась хорошо, переобучения нет."
      ]
    },
    {
      "cell_type": "markdown",
      "metadata": {
        "id": "LFppc_bRdE6D"
      },
      "source": [
        "## Задание №6 Решить задачу на основе контент-based подхода, выбрав один из методов решения (2 балла):\n",
        "\n",
        "* На основание векторов с факторизационной матрицы\n",
        "* При помощи \"ембеддингов\"  item'ов"
      ]
    },
    {
      "cell_type": "markdown",
      "source": [
        "### Гибридная модель"
      ],
      "metadata": {
        "id": "IK2K2ch-IDYs"
      }
    },
    {
      "cell_type": "markdown",
      "metadata": {
        "id": "hXG96CUDcz0K"
      },
      "source": [
        "Задачу рекомендации аниме по контенту решим с помощью библиотеки LightFM. Библиотека LightFM реализует смешанный тип рекомендательной системы — на основе коллаборативной и content-based фильтрации. Кроме того, попробуем решить задачу с использованием методов кластеризации эмбеддингов аниме."
      ]
    },
    {
      "cell_type": "code",
      "execution_count": null,
      "metadata": {
        "id": "sVin3zr8ltfm"
      },
      "outputs": [],
      "source": [
        "from lightfm.evaluation import precision_at_k, recall_at_k\n",
        "from scipy.sparse import coo_matrix\n",
        "from lightfm import LightFM\n",
        "\n",
        "def metrify(model: LightFM, \n",
        "            train: coo_matrix, \n",
        "            test : coo_matrix,\n",
        "            train_features: coo_matrix = None,\n",
        "            test_features: coo_matrix = None,\n",
        "            **kwargs) -> pd.DataFrame:\n",
        "\n",
        "  \"\"\"\n",
        "  Estimates precision@k and recall@k of the LightF recommedation system model\n",
        "\n",
        "  Parameters\n",
        "  ----------\n",
        "  model: fitted LightFM model\n",
        "  train : sparse matrix of train interactions\n",
        "  test  : sparse matrix of test interactions\n",
        "  **kwargs : keyword arguments for estimation metrics\n",
        "\n",
        "  Returns\n",
        "  -------\n",
        "  pandas DataFrame of metrics\n",
        "  \"\"\"\n",
        "    \n",
        "  train_precision = precision_at_k(model, \n",
        "                                   train, \n",
        "                                   item_features=train_features,\n",
        "                                   **kwargs).mean()\n",
        "  train_recall = recall_at_k(model, \n",
        "                             train, \n",
        "                             item_features=test_features,\n",
        "                             **kwargs).mean()\n",
        "\n",
        "  test_precision = precision_at_k(model, \n",
        "                                  test, \n",
        "                                  item_features=train_features,\n",
        "                                  **kwargs).mean()\n",
        "  test_recall = recall_at_k(model, \n",
        "                            test,\n",
        "                            item_features=test_features,\n",
        "                            **kwargs).mean()\n",
        "\n",
        "  metrics = pd.DataFrame({'Precision': [train_precision, test_precision],\n",
        "                          'Recall': [train_recall, test_recall]},\n",
        "                         index=['Train', 'Test'])\n",
        "\n",
        "  return metrics"
      ]
    },
    {
      "cell_type": "code",
      "execution_count": null,
      "metadata": {
        "id": "MbC1z_oNhEHk"
      },
      "outputs": [],
      "source": [
        ""
      ]
    },
    {
      "cell_type": "code",
      "execution_count": null,
      "metadata": {
        "colab": {
          "base_uri": "https://localhost:8080/"
        },
        "id": "Kpe0zmLOdXNH",
        "outputId": "ec3a1866-d946-4c90-8e35-03b410e11fcd"
      },
      "outputs": [
        {
          "output_type": "stream",
          "name": "stderr",
          "text": [
            "Epoch: 100%|██████████| 200/200 [02:24<00:00,  1.38it/s]\n"
          ]
        },
        {
          "output_type": "execute_result",
          "data": {
            "text/plain": [
              "<lightfm.lightfm.LightFM at 0x7f478da8da50>"
            ]
          },
          "metadata": {},
          "execution_count": 54
        }
      ],
      "source": [
        "model = LightFM(loss='warp')\n",
        "model.fit(epochs=200,\n",
        "          interactions=train, \n",
        "          item_features=train_features,\n",
        "          verbose=True,\n",
        "          num_threads=2)"
      ]
    },
    {
      "cell_type": "code",
      "execution_count": null,
      "metadata": {
        "colab": {
          "base_uri": "https://localhost:8080/",
          "height": 112
        },
        "id": "bp6YZoTbdZCR",
        "outputId": "132201ee-3fa7-4fa3-8eba-2472b531c785"
      },
      "outputs": [
        {
          "data": {
            "text/html": [
              "\n",
              "  <div id=\"df-ce01e09b-bdda-41be-b594-f22cc20be619\">\n",
              "    <div class=\"colab-df-container\">\n",
              "      <div>\n",
              "<style scoped>\n",
              "    .dataframe tbody tr th:only-of-type {\n",
              "        vertical-align: middle;\n",
              "    }\n",
              "\n",
              "    .dataframe tbody tr th {\n",
              "        vertical-align: top;\n",
              "    }\n",
              "\n",
              "    .dataframe thead th {\n",
              "        text-align: right;\n",
              "    }\n",
              "</style>\n",
              "<table border=\"1\" class=\"dataframe\">\n",
              "  <thead>\n",
              "    <tr style=\"text-align: right;\">\n",
              "      <th></th>\n",
              "      <th>Precision</th>\n",
              "      <th>Recall</th>\n",
              "    </tr>\n",
              "  </thead>\n",
              "  <tbody>\n",
              "    <tr>\n",
              "      <th>Train</th>\n",
              "      <td>0.003449</td>\n",
              "      <td>0.006085</td>\n",
              "    </tr>\n",
              "    <tr>\n",
              "      <th>Test</th>\n",
              "      <td>0.001514</td>\n",
              "      <td>0.005260</td>\n",
              "    </tr>\n",
              "  </tbody>\n",
              "</table>\n",
              "</div>\n",
              "      <button class=\"colab-df-convert\" onclick=\"convertToInteractive('df-ce01e09b-bdda-41be-b594-f22cc20be619')\"\n",
              "              title=\"Convert this dataframe to an interactive table.\"\n",
              "              style=\"display:none;\">\n",
              "        \n",
              "  <svg xmlns=\"http://www.w3.org/2000/svg\" height=\"24px\"viewBox=\"0 0 24 24\"\n",
              "       width=\"24px\">\n",
              "    <path d=\"M0 0h24v24H0V0z\" fill=\"none\"/>\n",
              "    <path d=\"M18.56 5.44l.94 2.06.94-2.06 2.06-.94-2.06-.94-.94-2.06-.94 2.06-2.06.94zm-11 1L8.5 8.5l.94-2.06 2.06-.94-2.06-.94L8.5 2.5l-.94 2.06-2.06.94zm10 10l.94 2.06.94-2.06 2.06-.94-2.06-.94-.94-2.06-.94 2.06-2.06.94z\"/><path d=\"M17.41 7.96l-1.37-1.37c-.4-.4-.92-.59-1.43-.59-.52 0-1.04.2-1.43.59L10.3 9.45l-7.72 7.72c-.78.78-.78 2.05 0 2.83L4 21.41c.39.39.9.59 1.41.59.51 0 1.02-.2 1.41-.59l7.78-7.78 2.81-2.81c.8-.78.8-2.07 0-2.86zM5.41 20L4 18.59l7.72-7.72 1.47 1.35L5.41 20z\"/>\n",
              "  </svg>\n",
              "      </button>\n",
              "      \n",
              "  <style>\n",
              "    .colab-df-container {\n",
              "      display:flex;\n",
              "      flex-wrap:wrap;\n",
              "      gap: 12px;\n",
              "    }\n",
              "\n",
              "    .colab-df-convert {\n",
              "      background-color: #E8F0FE;\n",
              "      border: none;\n",
              "      border-radius: 50%;\n",
              "      cursor: pointer;\n",
              "      display: none;\n",
              "      fill: #1967D2;\n",
              "      height: 32px;\n",
              "      padding: 0 0 0 0;\n",
              "      width: 32px;\n",
              "    }\n",
              "\n",
              "    .colab-df-convert:hover {\n",
              "      background-color: #E2EBFA;\n",
              "      box-shadow: 0px 1px 2px rgba(60, 64, 67, 0.3), 0px 1px 3px 1px rgba(60, 64, 67, 0.15);\n",
              "      fill: #174EA6;\n",
              "    }\n",
              "\n",
              "    [theme=dark] .colab-df-convert {\n",
              "      background-color: #3B4455;\n",
              "      fill: #D2E3FC;\n",
              "    }\n",
              "\n",
              "    [theme=dark] .colab-df-convert:hover {\n",
              "      background-color: #434B5C;\n",
              "      box-shadow: 0px 1px 3px 1px rgba(0, 0, 0, 0.15);\n",
              "      filter: drop-shadow(0px 1px 2px rgba(0, 0, 0, 0.3));\n",
              "      fill: #FFFFFF;\n",
              "    }\n",
              "  </style>\n",
              "\n",
              "      <script>\n",
              "        const buttonEl =\n",
              "          document.querySelector('#df-ce01e09b-bdda-41be-b594-f22cc20be619 button.colab-df-convert');\n",
              "        buttonEl.style.display =\n",
              "          google.colab.kernel.accessAllowed ? 'block' : 'none';\n",
              "\n",
              "        async function convertToInteractive(key) {\n",
              "          const element = document.querySelector('#df-ce01e09b-bdda-41be-b594-f22cc20be619');\n",
              "          const dataTable =\n",
              "            await google.colab.kernel.invokeFunction('convertToInteractive',\n",
              "                                                     [key], {});\n",
              "          if (!dataTable) return;\n",
              "\n",
              "          const docLinkHtml = 'Like what you see? Visit the ' +\n",
              "            '<a target=\"_blank\" href=https://colab.research.google.com/notebooks/data_table.ipynb>data table notebook</a>'\n",
              "            + ' to learn more about interactive tables.';\n",
              "          element.innerHTML = '';\n",
              "          dataTable['output_type'] = 'display_data';\n",
              "          await google.colab.output.renderOutput(dataTable, element);\n",
              "          const docLink = document.createElement('div');\n",
              "          docLink.innerHTML = docLinkHtml;\n",
              "          element.appendChild(docLink);\n",
              "        }\n",
              "      </script>\n",
              "    </div>\n",
              "  </div>\n",
              "  "
            ],
            "text/plain": [
              "       Precision    Recall\n",
              "Train   0.003449  0.006085\n",
              "Test    0.001514  0.005260"
            ]
          },
          "execution_count": 197,
          "metadata": {},
          "output_type": "execute_result"
        }
      ],
      "source": [
        "metrify(model, \n",
        "        train, \n",
        "        test, \n",
        "        k=5, \n",
        "        train_features=train_features,\n",
        "        test_features=test_features,\n",
        "        num_threads=2)"
      ]
    },
    {
      "cell_type": "markdown",
      "metadata": {
        "id": "qAg77MewBxQA"
      },
      "source": [
        "Модель LightFM не смогла нормально обучиться на данных. Вероятно, этой моделе требуется больше данных или дообучение на различных подвыборках. Возможно, бутстрэп мог бы положительно повлиять на итоговый скор. Высокая вычислительная сложность оценок LightFM не позволяет рассмотреть эту проблему в данной лабе."
      ]
    },
    {
      "cell_type": "markdown",
      "source": [
        "### Эмбеддинги"
      ],
      "metadata": {
        "id": "Rs_pKiDxIHz2"
      }
    },
    {
      "cell_type": "markdown",
      "source": [
        "Далее предлагается кастомный content-based recommendation алгоритм. Идея алгоритма такова: для каждого пользователя расчитываются средние метрики по просмотренным item и сравниваются по индексу непохожести Брея-Кертиса с метриками по каждому item.\n",
        "  \n",
        "Проблема алгоритма: \n",
        "  1. Неэффективная работа в нативном Питоне. Времязатратность алгоритма высока - O(n_users) * O(n_items), однако, думается, реализации на Сайтоне или нативном Си с эффективной параллелизацией могли бы значимо ускорить алгоритм"
      ],
      "metadata": {
        "id": "vpCZnYj-LEgd"
      }
    },
    {
      "cell_type": "code",
      "source": [
        "genres = [i for i in partial_merge.columns[6:]]\n",
        "gen = {i:'mean' for i in genres}\n",
        "user_embeddings = partial_merge.groupby('user_id', as_index=False).agg(gen, axis=1)\n",
        "user_embeddings.head(5)"
      ],
      "metadata": {
        "colab": {
          "base_uri": "https://localhost:8080/",
          "height": 236
        },
        "id": "W97nxSl4QuNr",
        "outputId": "eb71ea3d-7da2-4644-d329-aec78ed2c9d0"
      },
      "execution_count": null,
      "outputs": [
        {
          "output_type": "execute_result",
          "data": {
            "text/plain": [
              "   user_id    Action  Adventure  Cars    Comedy  Dementia    Demons     Drama  \\\n",
              "0        3  1.000000   1.000000   0.0  0.500000  0.000000  0.000000  0.000000   \n",
              "1        5  0.290323   0.290323   0.0  0.645161  0.000000  0.096774  0.193548   \n",
              "2        7  0.312500   0.000000   0.0  0.562500  0.000000  0.125000  0.062500   \n",
              "3        8  0.500000   0.000000   0.0  0.500000  0.000000  0.000000  0.500000   \n",
              "4       11  0.333333   0.333333   0.0  0.333333  0.166667  0.000000  0.500000   \n",
              "\n",
              "      Ecchi   Fantasy  ...  Thriller  Vampire  Yaoi  Yuri     Movie  \\\n",
              "0  0.000000  1.000000  ...  0.000000   0.0000   0.0   0.0  0.000000   \n",
              "1  0.129032  0.193548  ...  0.000000   0.0000   0.0   0.0  0.096774   \n",
              "2  0.187500  0.187500  ...  0.000000   0.0625   0.0   0.0  0.062500   \n",
              "3  0.500000  0.500000  ...  0.000000   0.0000   0.0   0.0  0.000000   \n",
              "4  0.000000  0.166667  ...  0.166667   0.0000   0.0   0.0  0.166667   \n",
              "\n",
              "   Music_Type     ONA       OVA  Special        TV  \n",
              "0         0.0  0.0000  0.000000      0.0  1.000000  \n",
              "1         0.0  0.0000  0.064516      0.0  0.838710  \n",
              "2         0.0  0.0625  0.250000      0.0  0.625000  \n",
              "3         0.0  0.0000  0.000000      0.0  1.000000  \n",
              "4         0.0  0.0000  0.000000      0.0  0.833333  \n",
              "\n",
              "[5 rows x 50 columns]"
            ],
            "text/html": [
              "\n",
              "  <div id=\"df-646cf3f4-7469-4160-905b-2621e6198496\">\n",
              "    <div class=\"colab-df-container\">\n",
              "      <div>\n",
              "<style scoped>\n",
              "    .dataframe tbody tr th:only-of-type {\n",
              "        vertical-align: middle;\n",
              "    }\n",
              "\n",
              "    .dataframe tbody tr th {\n",
              "        vertical-align: top;\n",
              "    }\n",
              "\n",
              "    .dataframe thead th {\n",
              "        text-align: right;\n",
              "    }\n",
              "</style>\n",
              "<table border=\"1\" class=\"dataframe\">\n",
              "  <thead>\n",
              "    <tr style=\"text-align: right;\">\n",
              "      <th></th>\n",
              "      <th>user_id</th>\n",
              "      <th>Action</th>\n",
              "      <th>Adventure</th>\n",
              "      <th>Cars</th>\n",
              "      <th>Comedy</th>\n",
              "      <th>Dementia</th>\n",
              "      <th>Demons</th>\n",
              "      <th>Drama</th>\n",
              "      <th>Ecchi</th>\n",
              "      <th>Fantasy</th>\n",
              "      <th>...</th>\n",
              "      <th>Thriller</th>\n",
              "      <th>Vampire</th>\n",
              "      <th>Yaoi</th>\n",
              "      <th>Yuri</th>\n",
              "      <th>Movie</th>\n",
              "      <th>Music_Type</th>\n",
              "      <th>ONA</th>\n",
              "      <th>OVA</th>\n",
              "      <th>Special</th>\n",
              "      <th>TV</th>\n",
              "    </tr>\n",
              "  </thead>\n",
              "  <tbody>\n",
              "    <tr>\n",
              "      <th>0</th>\n",
              "      <td>3</td>\n",
              "      <td>1.000000</td>\n",
              "      <td>1.000000</td>\n",
              "      <td>0.0</td>\n",
              "      <td>0.500000</td>\n",
              "      <td>0.000000</td>\n",
              "      <td>0.000000</td>\n",
              "      <td>0.000000</td>\n",
              "      <td>0.000000</td>\n",
              "      <td>1.000000</td>\n",
              "      <td>...</td>\n",
              "      <td>0.000000</td>\n",
              "      <td>0.0000</td>\n",
              "      <td>0.0</td>\n",
              "      <td>0.0</td>\n",
              "      <td>0.000000</td>\n",
              "      <td>0.0</td>\n",
              "      <td>0.0000</td>\n",
              "      <td>0.000000</td>\n",
              "      <td>0.0</td>\n",
              "      <td>1.000000</td>\n",
              "    </tr>\n",
              "    <tr>\n",
              "      <th>1</th>\n",
              "      <td>5</td>\n",
              "      <td>0.290323</td>\n",
              "      <td>0.290323</td>\n",
              "      <td>0.0</td>\n",
              "      <td>0.645161</td>\n",
              "      <td>0.000000</td>\n",
              "      <td>0.096774</td>\n",
              "      <td>0.193548</td>\n",
              "      <td>0.129032</td>\n",
              "      <td>0.193548</td>\n",
              "      <td>...</td>\n",
              "      <td>0.000000</td>\n",
              "      <td>0.0000</td>\n",
              "      <td>0.0</td>\n",
              "      <td>0.0</td>\n",
              "      <td>0.096774</td>\n",
              "      <td>0.0</td>\n",
              "      <td>0.0000</td>\n",
              "      <td>0.064516</td>\n",
              "      <td>0.0</td>\n",
              "      <td>0.838710</td>\n",
              "    </tr>\n",
              "    <tr>\n",
              "      <th>2</th>\n",
              "      <td>7</td>\n",
              "      <td>0.312500</td>\n",
              "      <td>0.000000</td>\n",
              "      <td>0.0</td>\n",
              "      <td>0.562500</td>\n",
              "      <td>0.000000</td>\n",
              "      <td>0.125000</td>\n",
              "      <td>0.062500</td>\n",
              "      <td>0.187500</td>\n",
              "      <td>0.187500</td>\n",
              "      <td>...</td>\n",
              "      <td>0.000000</td>\n",
              "      <td>0.0625</td>\n",
              "      <td>0.0</td>\n",
              "      <td>0.0</td>\n",
              "      <td>0.062500</td>\n",
              "      <td>0.0</td>\n",
              "      <td>0.0625</td>\n",
              "      <td>0.250000</td>\n",
              "      <td>0.0</td>\n",
              "      <td>0.625000</td>\n",
              "    </tr>\n",
              "    <tr>\n",
              "      <th>3</th>\n",
              "      <td>8</td>\n",
              "      <td>0.500000</td>\n",
              "      <td>0.000000</td>\n",
              "      <td>0.0</td>\n",
              "      <td>0.500000</td>\n",
              "      <td>0.000000</td>\n",
              "      <td>0.000000</td>\n",
              "      <td>0.500000</td>\n",
              "      <td>0.500000</td>\n",
              "      <td>0.500000</td>\n",
              "      <td>...</td>\n",
              "      <td>0.000000</td>\n",
              "      <td>0.0000</td>\n",
              "      <td>0.0</td>\n",
              "      <td>0.0</td>\n",
              "      <td>0.000000</td>\n",
              "      <td>0.0</td>\n",
              "      <td>0.0000</td>\n",
              "      <td>0.000000</td>\n",
              "      <td>0.0</td>\n",
              "      <td>1.000000</td>\n",
              "    </tr>\n",
              "    <tr>\n",
              "      <th>4</th>\n",
              "      <td>11</td>\n",
              "      <td>0.333333</td>\n",
              "      <td>0.333333</td>\n",
              "      <td>0.0</td>\n",
              "      <td>0.333333</td>\n",
              "      <td>0.166667</td>\n",
              "      <td>0.000000</td>\n",
              "      <td>0.500000</td>\n",
              "      <td>0.000000</td>\n",
              "      <td>0.166667</td>\n",
              "      <td>...</td>\n",
              "      <td>0.166667</td>\n",
              "      <td>0.0000</td>\n",
              "      <td>0.0</td>\n",
              "      <td>0.0</td>\n",
              "      <td>0.166667</td>\n",
              "      <td>0.0</td>\n",
              "      <td>0.0000</td>\n",
              "      <td>0.000000</td>\n",
              "      <td>0.0</td>\n",
              "      <td>0.833333</td>\n",
              "    </tr>\n",
              "  </tbody>\n",
              "</table>\n",
              "<p>5 rows × 50 columns</p>\n",
              "</div>\n",
              "      <button class=\"colab-df-convert\" onclick=\"convertToInteractive('df-646cf3f4-7469-4160-905b-2621e6198496')\"\n",
              "              title=\"Convert this dataframe to an interactive table.\"\n",
              "              style=\"display:none;\">\n",
              "        \n",
              "  <svg xmlns=\"http://www.w3.org/2000/svg\" height=\"24px\"viewBox=\"0 0 24 24\"\n",
              "       width=\"24px\">\n",
              "    <path d=\"M0 0h24v24H0V0z\" fill=\"none\"/>\n",
              "    <path d=\"M18.56 5.44l.94 2.06.94-2.06 2.06-.94-2.06-.94-.94-2.06-.94 2.06-2.06.94zm-11 1L8.5 8.5l.94-2.06 2.06-.94-2.06-.94L8.5 2.5l-.94 2.06-2.06.94zm10 10l.94 2.06.94-2.06 2.06-.94-2.06-.94-.94-2.06-.94 2.06-2.06.94z\"/><path d=\"M17.41 7.96l-1.37-1.37c-.4-.4-.92-.59-1.43-.59-.52 0-1.04.2-1.43.59L10.3 9.45l-7.72 7.72c-.78.78-.78 2.05 0 2.83L4 21.41c.39.39.9.59 1.41.59.51 0 1.02-.2 1.41-.59l7.78-7.78 2.81-2.81c.8-.78.8-2.07 0-2.86zM5.41 20L4 18.59l7.72-7.72 1.47 1.35L5.41 20z\"/>\n",
              "  </svg>\n",
              "      </button>\n",
              "      \n",
              "  <style>\n",
              "    .colab-df-container {\n",
              "      display:flex;\n",
              "      flex-wrap:wrap;\n",
              "      gap: 12px;\n",
              "    }\n",
              "\n",
              "    .colab-df-convert {\n",
              "      background-color: #E8F0FE;\n",
              "      border: none;\n",
              "      border-radius: 50%;\n",
              "      cursor: pointer;\n",
              "      display: none;\n",
              "      fill: #1967D2;\n",
              "      height: 32px;\n",
              "      padding: 0 0 0 0;\n",
              "      width: 32px;\n",
              "    }\n",
              "\n",
              "    .colab-df-convert:hover {\n",
              "      background-color: #E2EBFA;\n",
              "      box-shadow: 0px 1px 2px rgba(60, 64, 67, 0.3), 0px 1px 3px 1px rgba(60, 64, 67, 0.15);\n",
              "      fill: #174EA6;\n",
              "    }\n",
              "\n",
              "    [theme=dark] .colab-df-convert {\n",
              "      background-color: #3B4455;\n",
              "      fill: #D2E3FC;\n",
              "    }\n",
              "\n",
              "    [theme=dark] .colab-df-convert:hover {\n",
              "      background-color: #434B5C;\n",
              "      box-shadow: 0px 1px 3px 1px rgba(0, 0, 0, 0.15);\n",
              "      filter: drop-shadow(0px 1px 2px rgba(0, 0, 0, 0.3));\n",
              "      fill: #FFFFFF;\n",
              "    }\n",
              "  </style>\n",
              "\n",
              "      <script>\n",
              "        const buttonEl =\n",
              "          document.querySelector('#df-646cf3f4-7469-4160-905b-2621e6198496 button.colab-df-convert');\n",
              "        buttonEl.style.display =\n",
              "          google.colab.kernel.accessAllowed ? 'block' : 'none';\n",
              "\n",
              "        async function convertToInteractive(key) {\n",
              "          const element = document.querySelector('#df-646cf3f4-7469-4160-905b-2621e6198496');\n",
              "          const dataTable =\n",
              "            await google.colab.kernel.invokeFunction('convertToInteractive',\n",
              "                                                     [key], {});\n",
              "          if (!dataTable) return;\n",
              "\n",
              "          const docLinkHtml = 'Like what you see? Visit the ' +\n",
              "            '<a target=\"_blank\" href=https://colab.research.google.com/notebooks/data_table.ipynb>data table notebook</a>'\n",
              "            + ' to learn more about interactive tables.';\n",
              "          element.innerHTML = '';\n",
              "          dataTable['output_type'] = 'display_data';\n",
              "          await google.colab.output.renderOutput(dataTable, element);\n",
              "          const docLink = document.createElement('div');\n",
              "          docLink.innerHTML = docLinkHtml;\n",
              "          element.appendChild(docLink);\n",
              "        }\n",
              "      </script>\n",
              "    </div>\n",
              "  </div>\n",
              "  "
            ]
          },
          "metadata": {},
          "execution_count": 14
        }
      ]
    },
    {
      "cell_type": "code",
      "source": [
        "animes = partial_merge.drop_duplicates('anime_id').drop(['user_id', \n",
        "                                                         'user_rating', \n",
        "                                                         'anime_rating', \n",
        "                                                         'members', \n",
        "                                                         'episodes'], axis=1)\n",
        "animes"
      ],
      "metadata": {
        "id": "rsMfg5a6Kntr",
        "colab": {
          "base_uri": "https://localhost:8080/",
          "height": 424
        },
        "outputId": "266857e5-c2fc-449f-f2f7-ae3016851907"
      },
      "execution_count": null,
      "outputs": [
        {
          "output_type": "execute_result",
          "data": {
            "text/plain": [
              "        anime_id  Action  Adventure  Cars  Comedy  Dementia  Demons  Drama  \\\n",
              "0            240       0          0     0       1         0       0      0   \n",
              "1          25159       0          0     0       1         0       0      0   \n",
              "2            618       0          1     0       0         0       0      0   \n",
              "3             59       0          0     0       1         0       0      1   \n",
              "4              6       1          0     0       1         0       0      0   \n",
              "...          ...     ...        ...   ...     ...       ...     ...    ...   \n",
              "314415      5865       0          0     0       1         0       0      1   \n",
              "315573     31105       1          0     0       0         0       0      0   \n",
              "315794     32625       0          0     0       1         0       0      0   \n",
              "315918     24987       0          0     0       0         0       0      0   \n",
              "316268       956       0          1     0       0         0       0      0   \n",
              "\n",
              "        Ecchi  Fantasy  ...  Thriller  Vampire  Yaoi  Yuri  Movie  Music_Type  \\\n",
              "0           0        0  ...         0        0     0     0      0           0   \n",
              "1           0        0  ...         0        0     0     0      0           0   \n",
              "2           0        0  ...         0        0     0     0      0           0   \n",
              "3           1        0  ...         0        0     0     0      0           0   \n",
              "4           0        0  ...         0        0     0     0      0           0   \n",
              "...       ...      ...  ...       ...      ...   ...   ...    ...         ...   \n",
              "314415      0        0  ...         0        0     0     0      0           0   \n",
              "315573      0        0  ...         0        0     0     0      0           0   \n",
              "315794      0        0  ...         0        0     0     0      0           0   \n",
              "315918      0        0  ...         0        0     0     0      0           0   \n",
              "316268      0        0  ...         0        0     0     0      0           0   \n",
              "\n",
              "        ONA  OVA  Special  TV  \n",
              "0         0    0        0   1  \n",
              "1         0    0        0   1  \n",
              "2         0    0        0   1  \n",
              "3         0    0        0   1  \n",
              "4         0    0        0   1  \n",
              "...     ...  ...      ...  ..  \n",
              "314415    0    0        1   0  \n",
              "315573    1    0        0   0  \n",
              "315794    0    0        1   0  \n",
              "315918    0    1        0   0  \n",
              "316268    0    0        0   1  \n",
              "\n",
              "[6969 rows x 50 columns]"
            ],
            "text/html": [
              "\n",
              "  <div id=\"df-3403cdff-d74b-45a7-ba24-b7ad4687f813\">\n",
              "    <div class=\"colab-df-container\">\n",
              "      <div>\n",
              "<style scoped>\n",
              "    .dataframe tbody tr th:only-of-type {\n",
              "        vertical-align: middle;\n",
              "    }\n",
              "\n",
              "    .dataframe tbody tr th {\n",
              "        vertical-align: top;\n",
              "    }\n",
              "\n",
              "    .dataframe thead th {\n",
              "        text-align: right;\n",
              "    }\n",
              "</style>\n",
              "<table border=\"1\" class=\"dataframe\">\n",
              "  <thead>\n",
              "    <tr style=\"text-align: right;\">\n",
              "      <th></th>\n",
              "      <th>anime_id</th>\n",
              "      <th>Action</th>\n",
              "      <th>Adventure</th>\n",
              "      <th>Cars</th>\n",
              "      <th>Comedy</th>\n",
              "      <th>Dementia</th>\n",
              "      <th>Demons</th>\n",
              "      <th>Drama</th>\n",
              "      <th>Ecchi</th>\n",
              "      <th>Fantasy</th>\n",
              "      <th>...</th>\n",
              "      <th>Thriller</th>\n",
              "      <th>Vampire</th>\n",
              "      <th>Yaoi</th>\n",
              "      <th>Yuri</th>\n",
              "      <th>Movie</th>\n",
              "      <th>Music_Type</th>\n",
              "      <th>ONA</th>\n",
              "      <th>OVA</th>\n",
              "      <th>Special</th>\n",
              "      <th>TV</th>\n",
              "    </tr>\n",
              "  </thead>\n",
              "  <tbody>\n",
              "    <tr>\n",
              "      <th>0</th>\n",
              "      <td>240</td>\n",
              "      <td>0</td>\n",
              "      <td>0</td>\n",
              "      <td>0</td>\n",
              "      <td>1</td>\n",
              "      <td>0</td>\n",
              "      <td>0</td>\n",
              "      <td>0</td>\n",
              "      <td>0</td>\n",
              "      <td>0</td>\n",
              "      <td>...</td>\n",
              "      <td>0</td>\n",
              "      <td>0</td>\n",
              "      <td>0</td>\n",
              "      <td>0</td>\n",
              "      <td>0</td>\n",
              "      <td>0</td>\n",
              "      <td>0</td>\n",
              "      <td>0</td>\n",
              "      <td>0</td>\n",
              "      <td>1</td>\n",
              "    </tr>\n",
              "    <tr>\n",
              "      <th>1</th>\n",
              "      <td>25159</td>\n",
              "      <td>0</td>\n",
              "      <td>0</td>\n",
              "      <td>0</td>\n",
              "      <td>1</td>\n",
              "      <td>0</td>\n",
              "      <td>0</td>\n",
              "      <td>0</td>\n",
              "      <td>0</td>\n",
              "      <td>0</td>\n",
              "      <td>...</td>\n",
              "      <td>0</td>\n",
              "      <td>0</td>\n",
              "      <td>0</td>\n",
              "      <td>0</td>\n",
              "      <td>0</td>\n",
              "      <td>0</td>\n",
              "      <td>0</td>\n",
              "      <td>0</td>\n",
              "      <td>0</td>\n",
              "      <td>1</td>\n",
              "    </tr>\n",
              "    <tr>\n",
              "      <th>2</th>\n",
              "      <td>618</td>\n",
              "      <td>0</td>\n",
              "      <td>1</td>\n",
              "      <td>0</td>\n",
              "      <td>0</td>\n",
              "      <td>0</td>\n",
              "      <td>0</td>\n",
              "      <td>0</td>\n",
              "      <td>0</td>\n",
              "      <td>0</td>\n",
              "      <td>...</td>\n",
              "      <td>0</td>\n",
              "      <td>0</td>\n",
              "      <td>0</td>\n",
              "      <td>0</td>\n",
              "      <td>0</td>\n",
              "      <td>0</td>\n",
              "      <td>0</td>\n",
              "      <td>0</td>\n",
              "      <td>0</td>\n",
              "      <td>1</td>\n",
              "    </tr>\n",
              "    <tr>\n",
              "      <th>3</th>\n",
              "      <td>59</td>\n",
              "      <td>0</td>\n",
              "      <td>0</td>\n",
              "      <td>0</td>\n",
              "      <td>1</td>\n",
              "      <td>0</td>\n",
              "      <td>0</td>\n",
              "      <td>1</td>\n",
              "      <td>1</td>\n",
              "      <td>0</td>\n",
              "      <td>...</td>\n",
              "      <td>0</td>\n",
              "      <td>0</td>\n",
              "      <td>0</td>\n",
              "      <td>0</td>\n",
              "      <td>0</td>\n",
              "      <td>0</td>\n",
              "      <td>0</td>\n",
              "      <td>0</td>\n",
              "      <td>0</td>\n",
              "      <td>1</td>\n",
              "    </tr>\n",
              "    <tr>\n",
              "      <th>4</th>\n",
              "      <td>6</td>\n",
              "      <td>1</td>\n",
              "      <td>0</td>\n",
              "      <td>0</td>\n",
              "      <td>1</td>\n",
              "      <td>0</td>\n",
              "      <td>0</td>\n",
              "      <td>0</td>\n",
              "      <td>0</td>\n",
              "      <td>0</td>\n",
              "      <td>...</td>\n",
              "      <td>0</td>\n",
              "      <td>0</td>\n",
              "      <td>0</td>\n",
              "      <td>0</td>\n",
              "      <td>0</td>\n",
              "      <td>0</td>\n",
              "      <td>0</td>\n",
              "      <td>0</td>\n",
              "      <td>0</td>\n",
              "      <td>1</td>\n",
              "    </tr>\n",
              "    <tr>\n",
              "      <th>...</th>\n",
              "      <td>...</td>\n",
              "      <td>...</td>\n",
              "      <td>...</td>\n",
              "      <td>...</td>\n",
              "      <td>...</td>\n",
              "      <td>...</td>\n",
              "      <td>...</td>\n",
              "      <td>...</td>\n",
              "      <td>...</td>\n",
              "      <td>...</td>\n",
              "      <td>...</td>\n",
              "      <td>...</td>\n",
              "      <td>...</td>\n",
              "      <td>...</td>\n",
              "      <td>...</td>\n",
              "      <td>...</td>\n",
              "      <td>...</td>\n",
              "      <td>...</td>\n",
              "      <td>...</td>\n",
              "      <td>...</td>\n",
              "      <td>...</td>\n",
              "    </tr>\n",
              "    <tr>\n",
              "      <th>314415</th>\n",
              "      <td>5865</td>\n",
              "      <td>0</td>\n",
              "      <td>0</td>\n",
              "      <td>0</td>\n",
              "      <td>1</td>\n",
              "      <td>0</td>\n",
              "      <td>0</td>\n",
              "      <td>1</td>\n",
              "      <td>0</td>\n",
              "      <td>0</td>\n",
              "      <td>...</td>\n",
              "      <td>0</td>\n",
              "      <td>0</td>\n",
              "      <td>0</td>\n",
              "      <td>0</td>\n",
              "      <td>0</td>\n",
              "      <td>0</td>\n",
              "      <td>0</td>\n",
              "      <td>0</td>\n",
              "      <td>1</td>\n",
              "      <td>0</td>\n",
              "    </tr>\n",
              "    <tr>\n",
              "      <th>315573</th>\n",
              "      <td>31105</td>\n",
              "      <td>1</td>\n",
              "      <td>0</td>\n",
              "      <td>0</td>\n",
              "      <td>0</td>\n",
              "      <td>0</td>\n",
              "      <td>0</td>\n",
              "      <td>0</td>\n",
              "      <td>0</td>\n",
              "      <td>0</td>\n",
              "      <td>...</td>\n",
              "      <td>0</td>\n",
              "      <td>0</td>\n",
              "      <td>0</td>\n",
              "      <td>0</td>\n",
              "      <td>0</td>\n",
              "      <td>0</td>\n",
              "      <td>1</td>\n",
              "      <td>0</td>\n",
              "      <td>0</td>\n",
              "      <td>0</td>\n",
              "    </tr>\n",
              "    <tr>\n",
              "      <th>315794</th>\n",
              "      <td>32625</td>\n",
              "      <td>0</td>\n",
              "      <td>0</td>\n",
              "      <td>0</td>\n",
              "      <td>1</td>\n",
              "      <td>0</td>\n",
              "      <td>0</td>\n",
              "      <td>0</td>\n",
              "      <td>0</td>\n",
              "      <td>0</td>\n",
              "      <td>...</td>\n",
              "      <td>0</td>\n",
              "      <td>0</td>\n",
              "      <td>0</td>\n",
              "      <td>0</td>\n",
              "      <td>0</td>\n",
              "      <td>0</td>\n",
              "      <td>0</td>\n",
              "      <td>0</td>\n",
              "      <td>1</td>\n",
              "      <td>0</td>\n",
              "    </tr>\n",
              "    <tr>\n",
              "      <th>315918</th>\n",
              "      <td>24987</td>\n",
              "      <td>0</td>\n",
              "      <td>0</td>\n",
              "      <td>0</td>\n",
              "      <td>0</td>\n",
              "      <td>0</td>\n",
              "      <td>0</td>\n",
              "      <td>0</td>\n",
              "      <td>0</td>\n",
              "      <td>0</td>\n",
              "      <td>...</td>\n",
              "      <td>0</td>\n",
              "      <td>0</td>\n",
              "      <td>0</td>\n",
              "      <td>0</td>\n",
              "      <td>0</td>\n",
              "      <td>0</td>\n",
              "      <td>0</td>\n",
              "      <td>1</td>\n",
              "      <td>0</td>\n",
              "      <td>0</td>\n",
              "    </tr>\n",
              "    <tr>\n",
              "      <th>316268</th>\n",
              "      <td>956</td>\n",
              "      <td>0</td>\n",
              "      <td>1</td>\n",
              "      <td>0</td>\n",
              "      <td>0</td>\n",
              "      <td>0</td>\n",
              "      <td>0</td>\n",
              "      <td>0</td>\n",
              "      <td>0</td>\n",
              "      <td>0</td>\n",
              "      <td>...</td>\n",
              "      <td>0</td>\n",
              "      <td>0</td>\n",
              "      <td>0</td>\n",
              "      <td>0</td>\n",
              "      <td>0</td>\n",
              "      <td>0</td>\n",
              "      <td>0</td>\n",
              "      <td>0</td>\n",
              "      <td>0</td>\n",
              "      <td>1</td>\n",
              "    </tr>\n",
              "  </tbody>\n",
              "</table>\n",
              "<p>6969 rows × 50 columns</p>\n",
              "</div>\n",
              "      <button class=\"colab-df-convert\" onclick=\"convertToInteractive('df-3403cdff-d74b-45a7-ba24-b7ad4687f813')\"\n",
              "              title=\"Convert this dataframe to an interactive table.\"\n",
              "              style=\"display:none;\">\n",
              "        \n",
              "  <svg xmlns=\"http://www.w3.org/2000/svg\" height=\"24px\"viewBox=\"0 0 24 24\"\n",
              "       width=\"24px\">\n",
              "    <path d=\"M0 0h24v24H0V0z\" fill=\"none\"/>\n",
              "    <path d=\"M18.56 5.44l.94 2.06.94-2.06 2.06-.94-2.06-.94-.94-2.06-.94 2.06-2.06.94zm-11 1L8.5 8.5l.94-2.06 2.06-.94-2.06-.94L8.5 2.5l-.94 2.06-2.06.94zm10 10l.94 2.06.94-2.06 2.06-.94-2.06-.94-.94-2.06-.94 2.06-2.06.94z\"/><path d=\"M17.41 7.96l-1.37-1.37c-.4-.4-.92-.59-1.43-.59-.52 0-1.04.2-1.43.59L10.3 9.45l-7.72 7.72c-.78.78-.78 2.05 0 2.83L4 21.41c.39.39.9.59 1.41.59.51 0 1.02-.2 1.41-.59l7.78-7.78 2.81-2.81c.8-.78.8-2.07 0-2.86zM5.41 20L4 18.59l7.72-7.72 1.47 1.35L5.41 20z\"/>\n",
              "  </svg>\n",
              "      </button>\n",
              "      \n",
              "  <style>\n",
              "    .colab-df-container {\n",
              "      display:flex;\n",
              "      flex-wrap:wrap;\n",
              "      gap: 12px;\n",
              "    }\n",
              "\n",
              "    .colab-df-convert {\n",
              "      background-color: #E8F0FE;\n",
              "      border: none;\n",
              "      border-radius: 50%;\n",
              "      cursor: pointer;\n",
              "      display: none;\n",
              "      fill: #1967D2;\n",
              "      height: 32px;\n",
              "      padding: 0 0 0 0;\n",
              "      width: 32px;\n",
              "    }\n",
              "\n",
              "    .colab-df-convert:hover {\n",
              "      background-color: #E2EBFA;\n",
              "      box-shadow: 0px 1px 2px rgba(60, 64, 67, 0.3), 0px 1px 3px 1px rgba(60, 64, 67, 0.15);\n",
              "      fill: #174EA6;\n",
              "    }\n",
              "\n",
              "    [theme=dark] .colab-df-convert {\n",
              "      background-color: #3B4455;\n",
              "      fill: #D2E3FC;\n",
              "    }\n",
              "\n",
              "    [theme=dark] .colab-df-convert:hover {\n",
              "      background-color: #434B5C;\n",
              "      box-shadow: 0px 1px 3px 1px rgba(0, 0, 0, 0.15);\n",
              "      filter: drop-shadow(0px 1px 2px rgba(0, 0, 0, 0.3));\n",
              "      fill: #FFFFFF;\n",
              "    }\n",
              "  </style>\n",
              "\n",
              "      <script>\n",
              "        const buttonEl =\n",
              "          document.querySelector('#df-3403cdff-d74b-45a7-ba24-b7ad4687f813 button.colab-df-convert');\n",
              "        buttonEl.style.display =\n",
              "          google.colab.kernel.accessAllowed ? 'block' : 'none';\n",
              "\n",
              "        async function convertToInteractive(key) {\n",
              "          const element = document.querySelector('#df-3403cdff-d74b-45a7-ba24-b7ad4687f813');\n",
              "          const dataTable =\n",
              "            await google.colab.kernel.invokeFunction('convertToInteractive',\n",
              "                                                     [key], {});\n",
              "          if (!dataTable) return;\n",
              "\n",
              "          const docLinkHtml = 'Like what you see? Visit the ' +\n",
              "            '<a target=\"_blank\" href=https://colab.research.google.com/notebooks/data_table.ipynb>data table notebook</a>'\n",
              "            + ' to learn more about interactive tables.';\n",
              "          element.innerHTML = '';\n",
              "          dataTable['output_type'] = 'display_data';\n",
              "          await google.colab.output.renderOutput(dataTable, element);\n",
              "          const docLink = document.createElement('div');\n",
              "          docLink.innerHTML = docLinkHtml;\n",
              "          element.appendChild(docLink);\n",
              "        }\n",
              "      </script>\n",
              "    </div>\n",
              "  </div>\n",
              "  "
            ]
          },
          "metadata": {},
          "execution_count": 15
        }
      ]
    },
    {
      "cell_type": "code",
      "source": [
        "from scipy.spatial.distance import  braycurtis"
      ],
      "metadata": {
        "id": "LQaNbQqwVJAU"
      },
      "execution_count": null,
      "outputs": []
    },
    {
      "cell_type": "code",
      "source": [
        "def scaler(arr):\n",
        "  return ((arr - arr.min())/arr.ptp()) * 9 + 1"
      ],
      "metadata": {
        "id": "OpGGqFF0VMha"
      },
      "execution_count": null,
      "outputs": []
    },
    {
      "cell_type": "code",
      "source": [
        "def Recommender(users_embdedings: pd.DataFrame,\n",
        "                items_embeddings: pd.DataFrame) -> list:\n",
        "  \"\"\"\n",
        "  Computes braycuryis similarity for users and returns predicted rating for items for\n",
        "  every user.\n",
        "  \n",
        "  Parameters\n",
        "  ----------\n",
        "  user_embdedings : user_embeddings\n",
        "  items_embeddings : items_embeddings\n",
        "  Returns\n",
        "  -------\n",
        "  Predicted items ratings for each user\n",
        "  \"\"\"\n",
        "  users = users_embdedings.user_id.unique()\n",
        "  users.flags.writeable = False\n",
        "  user_list = {}\n",
        "  \n",
        "  for user in tqdm(users):\n",
        "    anime = []\n",
        "    rating = []\n",
        "    use = users_embdedings[users_embdedings.user_id == user].iloc[0].values[1:]\n",
        "    use.flags.writeable = False\n",
        "\n",
        "\n",
        "    for item in items_embeddings.itertuples():\n",
        "      anime.append(item[1])\n",
        "      dist = braycurtis(use, item[2:])\n",
        "      rating.append(dist)\n",
        "\n",
        "    rating = 11 - np.around(scaler(np.array(rating)), 1)\n",
        "    user_list[user] = dict(zip(anime, rating))\n",
        "\n",
        "  return user_list"
      ],
      "metadata": {
        "id": "i3XCnc5DgwJC"
      },
      "execution_count": null,
      "outputs": []
    },
    {
      "cell_type": "code",
      "source": [
        "import surprise"
      ],
      "metadata": {
        "id": "PWsQakf63zX0"
      },
      "execution_count": null,
      "outputs": []
    },
    {
      "cell_type": "code",
      "source": [
        "pmr = partial_merge[['user_id', 'anime_id', 'user_rating']]\n",
        "\n",
        "users = pmr.sort_values('user_id')['user_id'].value_counts().index[:5000].values.tolist()\n",
        "users = [user for user in users if user in user_embeddings.user_id.tolist()]"
      ],
      "metadata": {
        "id": "WjIhbUi3Gkuh"
      },
      "execution_count": null,
      "outputs": []
    },
    {
      "cell_type": "code",
      "source": [
        "pmr_data = pmr[pmr.user_id.isin(users)]\n",
        "anime_embeddings = animes[animes.anime_id.isin(pmr_data.anime_id)]\n",
        "user_emb = user_embeddings[user_embeddings.user_id.isin(users)]\n",
        "anime_embeddings = anime_embeddings.astype(float)\n",
        "\n",
        "preds = Recommender(user_emb, anime_embeddings)\n",
        "preds_df = pd.DataFrame(preds).T.stack().reset_index()\n",
        "preds_df = preds_df.rename(columns={'level_0':'user_id',\n",
        "                 'level_1':'anime_id',\n",
        "                 0: 'cb_rating'})\n",
        "\n",
        "data_predict = pmr_data.merge(preds_df, on=['user_id', 'anime_id'], how='inner', validate = '1:1').dropna()\n",
        "predictions = [surprise.prediction_algorithms.predictions.Prediction(row[1], \n",
        "                                                       row[2], \n",
        "                                                       row[3], \n",
        "                                                       row[4],\n",
        "                                                       {'was_impossible': False}) \\\n",
        "                                          for row in data_predict.itertuples()]"
      ],
      "metadata": {
        "colab": {
          "base_uri": "https://localhost:8080/",
          "height": 49,
          "referenced_widgets": [
            "86ecb0edf9a144df92d661efc4641dc9",
            "8f8414fd747045b38d36f70f1d4cb8b5",
            "d92def2b4b2f4d76b17d2cd06dc14551",
            "5d4449e818b44a6287ee0e36208264f4",
            "74fe7d5905524423a30da3d57861a23f",
            "f8fd2d10e287497fbe215987fbe29b78",
            "a28f3a9e5ef04412939885a01e7818c8",
            "1dff0320f3434a688572547324490f6f",
            "9d92cba9647141a18121f0c8a38107b3",
            "fafd1698ec8d4950b519744f5da6f4dc",
            "6cbf7c796b044802ae67c6eb33a5ab62"
          ]
        },
        "id": "TuBR4vbZt7oK",
        "outputId": "f3e43427-9e9d-4dac-b59b-d5659ba21908"
      },
      "execution_count": null,
      "outputs": [
        {
          "output_type": "display_data",
          "data": {
            "text/plain": [
              "  0%|          | 0/5000 [00:00<?, ?it/s]"
            ],
            "application/vnd.jupyter.widget-view+json": {
              "version_major": 2,
              "version_minor": 0,
              "model_id": "86ecb0edf9a144df92d661efc4641dc9"
            }
          },
          "metadata": {}
        }
      ]
    },
    {
      "cell_type": "code",
      "source": [
        "k=5\n",
        "precision, recall = precision_recall_at_k(predictions, k=k, threshold=5)\n",
        "print(f'Mean Average Precision at {k}: {np.mean(list(precision.values())).round(2)}')\n",
        "print(f'Mean Average Recall at {k}: {np.mean(list(recall.values())).round(2)}')"
      ],
      "metadata": {
        "colab": {
          "base_uri": "https://localhost:8080/"
        },
        "id": "74B5QMmPCPHD",
        "outputId": "b65b48a6-ae72-4798-dc27-acfaaaacbceb"
      },
      "execution_count": null,
      "outputs": [
        {
          "output_type": "stream",
          "name": "stdout",
          "text": [
            "Mean Average Precision at 5: 0.97\n",
            "Mean Average Recall at 5: 0.24\n"
          ]
        }
      ]
    },
    {
      "cell_type": "markdown",
      "source": [
        "Точность топ-5 предикций алгоритма на выборке очень высока - 0.97 - 0.98, однако полнота невысока"
      ],
      "metadata": {
        "id": "epe2GVNSOIGh"
      }
    },
    {
      "cell_type": "markdown",
      "metadata": {
        "id": "XmWhAehidE6G"
      },
      "source": [
        "### Задание №7 Оценить работу алгоритмов выбрав одну из метрик, сделать вывод по результатам работы (2 балла):\n",
        "\n",
        "* MAP@k\n",
        "* NDCG@k\n",
        "* MRR"
      ]
    },
    {
      "cell_type": "markdown",
      "metadata": {
        "id": "MOLK28zw9vxe"
      },
      "source": [
        "Алгоритмы оценены в соответствующих секциях.  \n",
        "  \n",
        "Лучший алгоритм -- коллабортивная фильтрация методом разложения матрицы.  \n",
        "  \n",
        "Точность и полнота SVD модели очень высока: 0.9+.   \n",
        "Случайные предложения из N самых популряных аниме оказываются точны примерно на 50%, стоит отметить, что оценивание случайных предложений отлично от оценивания коллаборативной и content-based фильтрации.  \n",
        "    \n",
        "Гибридная коллаборативно-контентная модель LightFM вовсе не справляется с данными. Рекомендательная система на основе сравнения эмбеддинга каждого аниме с усредненными известными предпочтениями пользователя по precision@k схожа с SVD, однако recall@k у нее оказывается многократно ниже. Проблему низкой полноты предсказания, вероятно, можно решить взвешиванием пользовательских предпочтений по количеству просмотренных item_ов и/или по среднему рейтингу для конкретного жанра. В данной лабе не анализируется введние весов в пользовтельские эмбеддинги, так как это выходит за пределы поставленного исследовательского вопроса."
      ]
    },
    {
      "cell_type": "markdown",
      "metadata": {
        "id": "wn3bRKEgdE6I"
      },
      "source": [
        "``` Бонус (1 балл) - дополнительные графики и характеристики в EDA и правильно сделанные выводы```"
      ]
    },
    {
      "cell_type": "markdown",
      "metadata": {
        "id": "RlItEwxHdE6J"
      },
      "source": [
        "# ```Дедлайн - 13 июня 23:59```"
      ]
    },
    {
      "cell_type": "code",
      "execution_count": null,
      "metadata": {
        "id": "TkENzPdyae4T"
      },
      "outputs": [],
      "source": [
        ""
      ]
    }
  ],
  "metadata": {
    "colab": {
      "collapsed_sections": [
        "pzjJmipNdE5C",
        "_jOeICYddE5H",
        "8u9BlNv_dE53",
        "c_Lf3uQJdE55",
        "jxVlXagNdE57"
      ],
      "name": "IAD RecSys Shauklis",
      "provenance": []
    },
    "kernelspec": {
      "display_name": "Python 3",
      "language": "python",
      "name": "python3"
    },
    "language_info": {
      "codemirror_mode": {
        "name": "ipython",
        "version": 3
      },
      "file_extension": ".py",
      "mimetype": "text/x-python",
      "name": "python",
      "nbconvert_exporter": "python",
      "pygments_lexer": "ipython3",
      "version": "3.7.7"
    },
    "widgets": {
      "application/vnd.jupyter.widget-state+json": {
        "01347ee6d06b4cbd8b0d622e2e32dda9": {
          "model_module": "@jupyter-widgets/controls",
          "model_module_version": "1.5.0",
          "model_name": "HTMLModel",
          "state": {
            "_dom_classes": [],
            "_model_module": "@jupyter-widgets/controls",
            "_model_module_version": "1.5.0",
            "_model_name": "HTMLModel",
            "_view_count": null,
            "_view_module": "@jupyter-widgets/controls",
            "_view_module_version": "1.5.0",
            "_view_name": "HTMLView",
            "description": "",
            "description_tooltip": null,
            "layout": "IPY_MODEL_4b868cd01a214017b5b4d3cdcf0f07d8",
            "placeholder": "​",
            "style": "IPY_MODEL_d8f300bed87f49568ead294d44a7d0ae",
            "value": " 69733/69733 [08:52&lt;00:00, 124.11it/s]"
          }
        },
        "10a571215ddc4ce1a03283f2ea47b8d9": {
          "model_module": "@jupyter-widgets/base",
          "model_module_version": "1.2.0",
          "model_name": "LayoutModel",
          "state": {
            "_model_module": "@jupyter-widgets/base",
            "_model_module_version": "1.2.0",
            "_model_name": "LayoutModel",
            "_view_count": null,
            "_view_module": "@jupyter-widgets/base",
            "_view_module_version": "1.2.0",
            "_view_name": "LayoutView",
            "align_content": null,
            "align_items": null,
            "align_self": null,
            "border": null,
            "bottom": null,
            "display": null,
            "flex": null,
            "flex_flow": null,
            "grid_area": null,
            "grid_auto_columns": null,
            "grid_auto_flow": null,
            "grid_auto_rows": null,
            "grid_column": null,
            "grid_gap": null,
            "grid_row": null,
            "grid_template_areas": null,
            "grid_template_columns": null,
            "grid_template_rows": null,
            "height": null,
            "justify_content": null,
            "justify_items": null,
            "left": null,
            "margin": null,
            "max_height": null,
            "max_width": null,
            "min_height": null,
            "min_width": null,
            "object_fit": null,
            "object_position": null,
            "order": null,
            "overflow": null,
            "overflow_x": null,
            "overflow_y": null,
            "padding": null,
            "right": null,
            "top": null,
            "visibility": null,
            "width": null
          }
        },
        "13430c307909433f8eb681c64bd1a46d": {
          "model_module": "@jupyter-widgets/controls",
          "model_module_version": "1.5.0",
          "model_name": "HBoxModel",
          "state": {
            "_dom_classes": [],
            "_model_module": "@jupyter-widgets/controls",
            "_model_module_version": "1.5.0",
            "_model_name": "HBoxModel",
            "_view_count": null,
            "_view_module": "@jupyter-widgets/controls",
            "_view_module_version": "1.5.0",
            "_view_name": "HBoxView",
            "box_style": "",
            "children": [
              "IPY_MODEL_d63e447ebf45498f9566bd800d9ac1de",
              "IPY_MODEL_cf5b24b4941d4414a60ae9ca4b465a75",
              "IPY_MODEL_83158ed915eb4721aa00797c4979613a"
            ],
            "layout": "IPY_MODEL_e8f7c5149825457e863e02b2bdbcee8d"
          }
        },
        "1c2e9308ec494e69b38981e10f62c7a4": {
          "model_module": "@jupyter-widgets/controls",
          "model_module_version": "1.5.0",
          "model_name": "HBoxModel",
          "state": {
            "_dom_classes": [],
            "_model_module": "@jupyter-widgets/controls",
            "_model_module_version": "1.5.0",
            "_model_name": "HBoxModel",
            "_view_count": null,
            "_view_module": "@jupyter-widgets/controls",
            "_view_module_version": "1.5.0",
            "_view_name": "HBoxView",
            "box_style": "",
            "children": [
              "IPY_MODEL_37a5e42444294ed49a67c2e2f14bfeed",
              "IPY_MODEL_dda991c9360845c7a6b0677c715c9ef8",
              "IPY_MODEL_01347ee6d06b4cbd8b0d622e2e32dda9"
            ],
            "layout": "IPY_MODEL_dc2989beb69a4a4d8ee0edd674c7cd0b"
          }
        },
        "36419e8d3cb3485db78223fc766e0fb7": {
          "model_module": "@jupyter-widgets/base",
          "model_module_version": "1.2.0",
          "model_name": "LayoutModel",
          "state": {
            "_model_module": "@jupyter-widgets/base",
            "_model_module_version": "1.2.0",
            "_model_name": "LayoutModel",
            "_view_count": null,
            "_view_module": "@jupyter-widgets/base",
            "_view_module_version": "1.2.0",
            "_view_name": "LayoutView",
            "align_content": null,
            "align_items": null,
            "align_self": null,
            "border": null,
            "bottom": null,
            "display": null,
            "flex": null,
            "flex_flow": null,
            "grid_area": null,
            "grid_auto_columns": null,
            "grid_auto_flow": null,
            "grid_auto_rows": null,
            "grid_column": null,
            "grid_gap": null,
            "grid_row": null,
            "grid_template_areas": null,
            "grid_template_columns": null,
            "grid_template_rows": null,
            "height": null,
            "justify_content": null,
            "justify_items": null,
            "left": null,
            "margin": null,
            "max_height": null,
            "max_width": null,
            "min_height": null,
            "min_width": null,
            "object_fit": null,
            "object_position": null,
            "order": null,
            "overflow": null,
            "overflow_x": null,
            "overflow_y": null,
            "padding": null,
            "right": null,
            "top": null,
            "visibility": null,
            "width": null
          }
        },
        "37a5e42444294ed49a67c2e2f14bfeed": {
          "model_module": "@jupyter-widgets/controls",
          "model_module_version": "1.5.0",
          "model_name": "HTMLModel",
          "state": {
            "_dom_classes": [],
            "_model_module": "@jupyter-widgets/controls",
            "_model_module_version": "1.5.0",
            "_model_name": "HTMLModel",
            "_view_count": null,
            "_view_module": "@jupyter-widgets/controls",
            "_view_module_version": "1.5.0",
            "_view_name": "HTMLView",
            "description": "",
            "description_tooltip": null,
            "layout": "IPY_MODEL_3f3c83db79934e19ba1c99d1135124e2",
            "placeholder": "​",
            "style": "IPY_MODEL_c95912cd890645118cbafeb6e5c26b4e",
            "value": "100%"
          }
        },
        "3d7a1ffa07ce40d984f16dba6e4485f6": {
          "model_module": "@jupyter-widgets/controls",
          "model_module_version": "1.5.0",
          "model_name": "ProgressStyleModel",
          "state": {
            "_model_module": "@jupyter-widgets/controls",
            "_model_module_version": "1.5.0",
            "_model_name": "ProgressStyleModel",
            "_view_count": null,
            "_view_module": "@jupyter-widgets/base",
            "_view_module_version": "1.2.0",
            "_view_name": "StyleView",
            "bar_color": null,
            "description_width": ""
          }
        },
        "3f3c83db79934e19ba1c99d1135124e2": {
          "model_module": "@jupyter-widgets/base",
          "model_module_version": "1.2.0",
          "model_name": "LayoutModel",
          "state": {
            "_model_module": "@jupyter-widgets/base",
            "_model_module_version": "1.2.0",
            "_model_name": "LayoutModel",
            "_view_count": null,
            "_view_module": "@jupyter-widgets/base",
            "_view_module_version": "1.2.0",
            "_view_name": "LayoutView",
            "align_content": null,
            "align_items": null,
            "align_self": null,
            "border": null,
            "bottom": null,
            "display": null,
            "flex": null,
            "flex_flow": null,
            "grid_area": null,
            "grid_auto_columns": null,
            "grid_auto_flow": null,
            "grid_auto_rows": null,
            "grid_column": null,
            "grid_gap": null,
            "grid_row": null,
            "grid_template_areas": null,
            "grid_template_columns": null,
            "grid_template_rows": null,
            "height": null,
            "justify_content": null,
            "justify_items": null,
            "left": null,
            "margin": null,
            "max_height": null,
            "max_width": null,
            "min_height": null,
            "min_width": null,
            "object_fit": null,
            "object_position": null,
            "order": null,
            "overflow": null,
            "overflow_x": null,
            "overflow_y": null,
            "padding": null,
            "right": null,
            "top": null,
            "visibility": null,
            "width": null
          }
        },
        "4b868cd01a214017b5b4d3cdcf0f07d8": {
          "model_module": "@jupyter-widgets/base",
          "model_module_version": "1.2.0",
          "model_name": "LayoutModel",
          "state": {
            "_model_module": "@jupyter-widgets/base",
            "_model_module_version": "1.2.0",
            "_model_name": "LayoutModel",
            "_view_count": null,
            "_view_module": "@jupyter-widgets/base",
            "_view_module_version": "1.2.0",
            "_view_name": "LayoutView",
            "align_content": null,
            "align_items": null,
            "align_self": null,
            "border": null,
            "bottom": null,
            "display": null,
            "flex": null,
            "flex_flow": null,
            "grid_area": null,
            "grid_auto_columns": null,
            "grid_auto_flow": null,
            "grid_auto_rows": null,
            "grid_column": null,
            "grid_gap": null,
            "grid_row": null,
            "grid_template_areas": null,
            "grid_template_columns": null,
            "grid_template_rows": null,
            "height": null,
            "justify_content": null,
            "justify_items": null,
            "left": null,
            "margin": null,
            "max_height": null,
            "max_width": null,
            "min_height": null,
            "min_width": null,
            "object_fit": null,
            "object_position": null,
            "order": null,
            "overflow": null,
            "overflow_x": null,
            "overflow_y": null,
            "padding": null,
            "right": null,
            "top": null,
            "visibility": null,
            "width": null
          }
        },
        "83158ed915eb4721aa00797c4979613a": {
          "model_module": "@jupyter-widgets/controls",
          "model_module_version": "1.5.0",
          "model_name": "HTMLModel",
          "state": {
            "_dom_classes": [],
            "_model_module": "@jupyter-widgets/controls",
            "_model_module_version": "1.5.0",
            "_model_name": "HTMLModel",
            "_view_count": null,
            "_view_module": "@jupyter-widgets/controls",
            "_view_module_version": "1.5.0",
            "_view_name": "HTMLView",
            "description": "",
            "description_tooltip": null,
            "layout": "IPY_MODEL_b59a5c8213c547c086b06c65c324e7cf",
            "placeholder": "​",
            "style": "IPY_MODEL_9803e58f5a974f0eada7005ba1de4d8b",
            "value": " 69733/69733 [08:54&lt;00:00, 139.12it/s]"
          }
        },
        "9803e58f5a974f0eada7005ba1de4d8b": {
          "model_module": "@jupyter-widgets/controls",
          "model_module_version": "1.5.0",
          "model_name": "DescriptionStyleModel",
          "state": {
            "_model_module": "@jupyter-widgets/controls",
            "_model_module_version": "1.5.0",
            "_model_name": "DescriptionStyleModel",
            "_view_count": null,
            "_view_module": "@jupyter-widgets/base",
            "_view_module_version": "1.2.0",
            "_view_name": "StyleView",
            "description_width": ""
          }
        },
        "a81e9abe81d84640b8d405314f6022d1": {
          "model_module": "@jupyter-widgets/controls",
          "model_module_version": "1.5.0",
          "model_name": "ProgressStyleModel",
          "state": {
            "_model_module": "@jupyter-widgets/controls",
            "_model_module_version": "1.5.0",
            "_model_name": "ProgressStyleModel",
            "_view_count": null,
            "_view_module": "@jupyter-widgets/base",
            "_view_module_version": "1.2.0",
            "_view_name": "StyleView",
            "bar_color": null,
            "description_width": ""
          }
        },
        "b59a5c8213c547c086b06c65c324e7cf": {
          "model_module": "@jupyter-widgets/base",
          "model_module_version": "1.2.0",
          "model_name": "LayoutModel",
          "state": {
            "_model_module": "@jupyter-widgets/base",
            "_model_module_version": "1.2.0",
            "_model_name": "LayoutModel",
            "_view_count": null,
            "_view_module": "@jupyter-widgets/base",
            "_view_module_version": "1.2.0",
            "_view_name": "LayoutView",
            "align_content": null,
            "align_items": null,
            "align_self": null,
            "border": null,
            "bottom": null,
            "display": null,
            "flex": null,
            "flex_flow": null,
            "grid_area": null,
            "grid_auto_columns": null,
            "grid_auto_flow": null,
            "grid_auto_rows": null,
            "grid_column": null,
            "grid_gap": null,
            "grid_row": null,
            "grid_template_areas": null,
            "grid_template_columns": null,
            "grid_template_rows": null,
            "height": null,
            "justify_content": null,
            "justify_items": null,
            "left": null,
            "margin": null,
            "max_height": null,
            "max_width": null,
            "min_height": null,
            "min_width": null,
            "object_fit": null,
            "object_position": null,
            "order": null,
            "overflow": null,
            "overflow_x": null,
            "overflow_y": null,
            "padding": null,
            "right": null,
            "top": null,
            "visibility": null,
            "width": null
          }
        },
        "c04c30b5c6354d6c9489091901c29061": {
          "model_module": "@jupyter-widgets/base",
          "model_module_version": "1.2.0",
          "model_name": "LayoutModel",
          "state": {
            "_model_module": "@jupyter-widgets/base",
            "_model_module_version": "1.2.0",
            "_model_name": "LayoutModel",
            "_view_count": null,
            "_view_module": "@jupyter-widgets/base",
            "_view_module_version": "1.2.0",
            "_view_name": "LayoutView",
            "align_content": null,
            "align_items": null,
            "align_self": null,
            "border": null,
            "bottom": null,
            "display": null,
            "flex": null,
            "flex_flow": null,
            "grid_area": null,
            "grid_auto_columns": null,
            "grid_auto_flow": null,
            "grid_auto_rows": null,
            "grid_column": null,
            "grid_gap": null,
            "grid_row": null,
            "grid_template_areas": null,
            "grid_template_columns": null,
            "grid_template_rows": null,
            "height": null,
            "justify_content": null,
            "justify_items": null,
            "left": null,
            "margin": null,
            "max_height": null,
            "max_width": null,
            "min_height": null,
            "min_width": null,
            "object_fit": null,
            "object_position": null,
            "order": null,
            "overflow": null,
            "overflow_x": null,
            "overflow_y": null,
            "padding": null,
            "right": null,
            "top": null,
            "visibility": null,
            "width": null
          }
        },
        "c95912cd890645118cbafeb6e5c26b4e": {
          "model_module": "@jupyter-widgets/controls",
          "model_module_version": "1.5.0",
          "model_name": "DescriptionStyleModel",
          "state": {
            "_model_module": "@jupyter-widgets/controls",
            "_model_module_version": "1.5.0",
            "_model_name": "DescriptionStyleModel",
            "_view_count": null,
            "_view_module": "@jupyter-widgets/base",
            "_view_module_version": "1.2.0",
            "_view_name": "StyleView",
            "description_width": ""
          }
        },
        "cf5b24b4941d4414a60ae9ca4b465a75": {
          "model_module": "@jupyter-widgets/controls",
          "model_module_version": "1.5.0",
          "model_name": "FloatProgressModel",
          "state": {
            "_dom_classes": [],
            "_model_module": "@jupyter-widgets/controls",
            "_model_module_version": "1.5.0",
            "_model_name": "FloatProgressModel",
            "_view_count": null,
            "_view_module": "@jupyter-widgets/controls",
            "_view_module_version": "1.5.0",
            "_view_name": "ProgressView",
            "bar_style": "success",
            "description": "",
            "description_tooltip": null,
            "layout": "IPY_MODEL_c04c30b5c6354d6c9489091901c29061",
            "max": 69733,
            "min": 0,
            "orientation": "horizontal",
            "style": "IPY_MODEL_a81e9abe81d84640b8d405314f6022d1",
            "value": 69733
          }
        },
        "d63e447ebf45498f9566bd800d9ac1de": {
          "model_module": "@jupyter-widgets/controls",
          "model_module_version": "1.5.0",
          "model_name": "HTMLModel",
          "state": {
            "_dom_classes": [],
            "_model_module": "@jupyter-widgets/controls",
            "_model_module_version": "1.5.0",
            "_model_name": "HTMLModel",
            "_view_count": null,
            "_view_module": "@jupyter-widgets/controls",
            "_view_module_version": "1.5.0",
            "_view_name": "HTMLView",
            "description": "",
            "description_tooltip": null,
            "layout": "IPY_MODEL_10a571215ddc4ce1a03283f2ea47b8d9",
            "placeholder": "​",
            "style": "IPY_MODEL_f7e457c9bf3f43b981561865affeed72",
            "value": "100%"
          }
        },
        "d8f300bed87f49568ead294d44a7d0ae": {
          "model_module": "@jupyter-widgets/controls",
          "model_module_version": "1.5.0",
          "model_name": "DescriptionStyleModel",
          "state": {
            "_model_module": "@jupyter-widgets/controls",
            "_model_module_version": "1.5.0",
            "_model_name": "DescriptionStyleModel",
            "_view_count": null,
            "_view_module": "@jupyter-widgets/base",
            "_view_module_version": "1.2.0",
            "_view_name": "StyleView",
            "description_width": ""
          }
        },
        "dc2989beb69a4a4d8ee0edd674c7cd0b": {
          "model_module": "@jupyter-widgets/base",
          "model_module_version": "1.2.0",
          "model_name": "LayoutModel",
          "state": {
            "_model_module": "@jupyter-widgets/base",
            "_model_module_version": "1.2.0",
            "_model_name": "LayoutModel",
            "_view_count": null,
            "_view_module": "@jupyter-widgets/base",
            "_view_module_version": "1.2.0",
            "_view_name": "LayoutView",
            "align_content": null,
            "align_items": null,
            "align_self": null,
            "border": null,
            "bottom": null,
            "display": null,
            "flex": null,
            "flex_flow": null,
            "grid_area": null,
            "grid_auto_columns": null,
            "grid_auto_flow": null,
            "grid_auto_rows": null,
            "grid_column": null,
            "grid_gap": null,
            "grid_row": null,
            "grid_template_areas": null,
            "grid_template_columns": null,
            "grid_template_rows": null,
            "height": null,
            "justify_content": null,
            "justify_items": null,
            "left": null,
            "margin": null,
            "max_height": null,
            "max_width": null,
            "min_height": null,
            "min_width": null,
            "object_fit": null,
            "object_position": null,
            "order": null,
            "overflow": null,
            "overflow_x": null,
            "overflow_y": null,
            "padding": null,
            "right": null,
            "top": null,
            "visibility": null,
            "width": null
          }
        },
        "dda991c9360845c7a6b0677c715c9ef8": {
          "model_module": "@jupyter-widgets/controls",
          "model_module_version": "1.5.0",
          "model_name": "FloatProgressModel",
          "state": {
            "_dom_classes": [],
            "_model_module": "@jupyter-widgets/controls",
            "_model_module_version": "1.5.0",
            "_model_name": "FloatProgressModel",
            "_view_count": null,
            "_view_module": "@jupyter-widgets/controls",
            "_view_module_version": "1.5.0",
            "_view_name": "ProgressView",
            "bar_style": "success",
            "description": "",
            "description_tooltip": null,
            "layout": "IPY_MODEL_36419e8d3cb3485db78223fc766e0fb7",
            "max": 69733,
            "min": 0,
            "orientation": "horizontal",
            "style": "IPY_MODEL_3d7a1ffa07ce40d984f16dba6e4485f6",
            "value": 69733
          }
        },
        "e8f7c5149825457e863e02b2bdbcee8d": {
          "model_module": "@jupyter-widgets/base",
          "model_module_version": "1.2.0",
          "model_name": "LayoutModel",
          "state": {
            "_model_module": "@jupyter-widgets/base",
            "_model_module_version": "1.2.0",
            "_model_name": "LayoutModel",
            "_view_count": null,
            "_view_module": "@jupyter-widgets/base",
            "_view_module_version": "1.2.0",
            "_view_name": "LayoutView",
            "align_content": null,
            "align_items": null,
            "align_self": null,
            "border": null,
            "bottom": null,
            "display": null,
            "flex": null,
            "flex_flow": null,
            "grid_area": null,
            "grid_auto_columns": null,
            "grid_auto_flow": null,
            "grid_auto_rows": null,
            "grid_column": null,
            "grid_gap": null,
            "grid_row": null,
            "grid_template_areas": null,
            "grid_template_columns": null,
            "grid_template_rows": null,
            "height": null,
            "justify_content": null,
            "justify_items": null,
            "left": null,
            "margin": null,
            "max_height": null,
            "max_width": null,
            "min_height": null,
            "min_width": null,
            "object_fit": null,
            "object_position": null,
            "order": null,
            "overflow": null,
            "overflow_x": null,
            "overflow_y": null,
            "padding": null,
            "right": null,
            "top": null,
            "visibility": null,
            "width": null
          }
        },
        "f7e457c9bf3f43b981561865affeed72": {
          "model_module": "@jupyter-widgets/controls",
          "model_module_version": "1.5.0",
          "model_name": "DescriptionStyleModel",
          "state": {
            "_model_module": "@jupyter-widgets/controls",
            "_model_module_version": "1.5.0",
            "_model_name": "DescriptionStyleModel",
            "_view_count": null,
            "_view_module": "@jupyter-widgets/base",
            "_view_module_version": "1.2.0",
            "_view_name": "StyleView",
            "description_width": ""
          }
        },
        "86ecb0edf9a144df92d661efc4641dc9": {
          "model_module": "@jupyter-widgets/controls",
          "model_name": "HBoxModel",
          "model_module_version": "1.5.0",
          "state": {
            "_dom_classes": [],
            "_model_module": "@jupyter-widgets/controls",
            "_model_module_version": "1.5.0",
            "_model_name": "HBoxModel",
            "_view_count": null,
            "_view_module": "@jupyter-widgets/controls",
            "_view_module_version": "1.5.0",
            "_view_name": "HBoxView",
            "box_style": "",
            "children": [
              "IPY_MODEL_8f8414fd747045b38d36f70f1d4cb8b5",
              "IPY_MODEL_d92def2b4b2f4d76b17d2cd06dc14551",
              "IPY_MODEL_5d4449e818b44a6287ee0e36208264f4"
            ],
            "layout": "IPY_MODEL_74fe7d5905524423a30da3d57861a23f"
          }
        },
        "8f8414fd747045b38d36f70f1d4cb8b5": {
          "model_module": "@jupyter-widgets/controls",
          "model_name": "HTMLModel",
          "model_module_version": "1.5.0",
          "state": {
            "_dom_classes": [],
            "_model_module": "@jupyter-widgets/controls",
            "_model_module_version": "1.5.0",
            "_model_name": "HTMLModel",
            "_view_count": null,
            "_view_module": "@jupyter-widgets/controls",
            "_view_module_version": "1.5.0",
            "_view_name": "HTMLView",
            "description": "",
            "description_tooltip": null,
            "layout": "IPY_MODEL_f8fd2d10e287497fbe215987fbe29b78",
            "placeholder": "​",
            "style": "IPY_MODEL_a28f3a9e5ef04412939885a01e7818c8",
            "value": "100%"
          }
        },
        "d92def2b4b2f4d76b17d2cd06dc14551": {
          "model_module": "@jupyter-widgets/controls",
          "model_name": "FloatProgressModel",
          "model_module_version": "1.5.0",
          "state": {
            "_dom_classes": [],
            "_model_module": "@jupyter-widgets/controls",
            "_model_module_version": "1.5.0",
            "_model_name": "FloatProgressModel",
            "_view_count": null,
            "_view_module": "@jupyter-widgets/controls",
            "_view_module_version": "1.5.0",
            "_view_name": "ProgressView",
            "bar_style": "success",
            "description": "",
            "description_tooltip": null,
            "layout": "IPY_MODEL_1dff0320f3434a688572547324490f6f",
            "max": 5000,
            "min": 0,
            "orientation": "horizontal",
            "style": "IPY_MODEL_9d92cba9647141a18121f0c8a38107b3",
            "value": 5000
          }
        },
        "5d4449e818b44a6287ee0e36208264f4": {
          "model_module": "@jupyter-widgets/controls",
          "model_name": "HTMLModel",
          "model_module_version": "1.5.0",
          "state": {
            "_dom_classes": [],
            "_model_module": "@jupyter-widgets/controls",
            "_model_module_version": "1.5.0",
            "_model_name": "HTMLModel",
            "_view_count": null,
            "_view_module": "@jupyter-widgets/controls",
            "_view_module_version": "1.5.0",
            "_view_name": "HTMLView",
            "description": "",
            "description_tooltip": null,
            "layout": "IPY_MODEL_fafd1698ec8d4950b519744f5da6f4dc",
            "placeholder": "​",
            "style": "IPY_MODEL_6cbf7c796b044802ae67c6eb33a5ab62",
            "value": " 5000/5000 [12:26&lt;00:00,  6.85it/s]"
          }
        },
        "74fe7d5905524423a30da3d57861a23f": {
          "model_module": "@jupyter-widgets/base",
          "model_name": "LayoutModel",
          "model_module_version": "1.2.0",
          "state": {
            "_model_module": "@jupyter-widgets/base",
            "_model_module_version": "1.2.0",
            "_model_name": "LayoutModel",
            "_view_count": null,
            "_view_module": "@jupyter-widgets/base",
            "_view_module_version": "1.2.0",
            "_view_name": "LayoutView",
            "align_content": null,
            "align_items": null,
            "align_self": null,
            "border": null,
            "bottom": null,
            "display": null,
            "flex": null,
            "flex_flow": null,
            "grid_area": null,
            "grid_auto_columns": null,
            "grid_auto_flow": null,
            "grid_auto_rows": null,
            "grid_column": null,
            "grid_gap": null,
            "grid_row": null,
            "grid_template_areas": null,
            "grid_template_columns": null,
            "grid_template_rows": null,
            "height": null,
            "justify_content": null,
            "justify_items": null,
            "left": null,
            "margin": null,
            "max_height": null,
            "max_width": null,
            "min_height": null,
            "min_width": null,
            "object_fit": null,
            "object_position": null,
            "order": null,
            "overflow": null,
            "overflow_x": null,
            "overflow_y": null,
            "padding": null,
            "right": null,
            "top": null,
            "visibility": null,
            "width": null
          }
        },
        "f8fd2d10e287497fbe215987fbe29b78": {
          "model_module": "@jupyter-widgets/base",
          "model_name": "LayoutModel",
          "model_module_version": "1.2.0",
          "state": {
            "_model_module": "@jupyter-widgets/base",
            "_model_module_version": "1.2.0",
            "_model_name": "LayoutModel",
            "_view_count": null,
            "_view_module": "@jupyter-widgets/base",
            "_view_module_version": "1.2.0",
            "_view_name": "LayoutView",
            "align_content": null,
            "align_items": null,
            "align_self": null,
            "border": null,
            "bottom": null,
            "display": null,
            "flex": null,
            "flex_flow": null,
            "grid_area": null,
            "grid_auto_columns": null,
            "grid_auto_flow": null,
            "grid_auto_rows": null,
            "grid_column": null,
            "grid_gap": null,
            "grid_row": null,
            "grid_template_areas": null,
            "grid_template_columns": null,
            "grid_template_rows": null,
            "height": null,
            "justify_content": null,
            "justify_items": null,
            "left": null,
            "margin": null,
            "max_height": null,
            "max_width": null,
            "min_height": null,
            "min_width": null,
            "object_fit": null,
            "object_position": null,
            "order": null,
            "overflow": null,
            "overflow_x": null,
            "overflow_y": null,
            "padding": null,
            "right": null,
            "top": null,
            "visibility": null,
            "width": null
          }
        },
        "a28f3a9e5ef04412939885a01e7818c8": {
          "model_module": "@jupyter-widgets/controls",
          "model_name": "DescriptionStyleModel",
          "model_module_version": "1.5.0",
          "state": {
            "_model_module": "@jupyter-widgets/controls",
            "_model_module_version": "1.5.0",
            "_model_name": "DescriptionStyleModel",
            "_view_count": null,
            "_view_module": "@jupyter-widgets/base",
            "_view_module_version": "1.2.0",
            "_view_name": "StyleView",
            "description_width": ""
          }
        },
        "1dff0320f3434a688572547324490f6f": {
          "model_module": "@jupyter-widgets/base",
          "model_name": "LayoutModel",
          "model_module_version": "1.2.0",
          "state": {
            "_model_module": "@jupyter-widgets/base",
            "_model_module_version": "1.2.0",
            "_model_name": "LayoutModel",
            "_view_count": null,
            "_view_module": "@jupyter-widgets/base",
            "_view_module_version": "1.2.0",
            "_view_name": "LayoutView",
            "align_content": null,
            "align_items": null,
            "align_self": null,
            "border": null,
            "bottom": null,
            "display": null,
            "flex": null,
            "flex_flow": null,
            "grid_area": null,
            "grid_auto_columns": null,
            "grid_auto_flow": null,
            "grid_auto_rows": null,
            "grid_column": null,
            "grid_gap": null,
            "grid_row": null,
            "grid_template_areas": null,
            "grid_template_columns": null,
            "grid_template_rows": null,
            "height": null,
            "justify_content": null,
            "justify_items": null,
            "left": null,
            "margin": null,
            "max_height": null,
            "max_width": null,
            "min_height": null,
            "min_width": null,
            "object_fit": null,
            "object_position": null,
            "order": null,
            "overflow": null,
            "overflow_x": null,
            "overflow_y": null,
            "padding": null,
            "right": null,
            "top": null,
            "visibility": null,
            "width": null
          }
        },
        "9d92cba9647141a18121f0c8a38107b3": {
          "model_module": "@jupyter-widgets/controls",
          "model_name": "ProgressStyleModel",
          "model_module_version": "1.5.0",
          "state": {
            "_model_module": "@jupyter-widgets/controls",
            "_model_module_version": "1.5.0",
            "_model_name": "ProgressStyleModel",
            "_view_count": null,
            "_view_module": "@jupyter-widgets/base",
            "_view_module_version": "1.2.0",
            "_view_name": "StyleView",
            "bar_color": null,
            "description_width": ""
          }
        },
        "fafd1698ec8d4950b519744f5da6f4dc": {
          "model_module": "@jupyter-widgets/base",
          "model_name": "LayoutModel",
          "model_module_version": "1.2.0",
          "state": {
            "_model_module": "@jupyter-widgets/base",
            "_model_module_version": "1.2.0",
            "_model_name": "LayoutModel",
            "_view_count": null,
            "_view_module": "@jupyter-widgets/base",
            "_view_module_version": "1.2.0",
            "_view_name": "LayoutView",
            "align_content": null,
            "align_items": null,
            "align_self": null,
            "border": null,
            "bottom": null,
            "display": null,
            "flex": null,
            "flex_flow": null,
            "grid_area": null,
            "grid_auto_columns": null,
            "grid_auto_flow": null,
            "grid_auto_rows": null,
            "grid_column": null,
            "grid_gap": null,
            "grid_row": null,
            "grid_template_areas": null,
            "grid_template_columns": null,
            "grid_template_rows": null,
            "height": null,
            "justify_content": null,
            "justify_items": null,
            "left": null,
            "margin": null,
            "max_height": null,
            "max_width": null,
            "min_height": null,
            "min_width": null,
            "object_fit": null,
            "object_position": null,
            "order": null,
            "overflow": null,
            "overflow_x": null,
            "overflow_y": null,
            "padding": null,
            "right": null,
            "top": null,
            "visibility": null,
            "width": null
          }
        },
        "6cbf7c796b044802ae67c6eb33a5ab62": {
          "model_module": "@jupyter-widgets/controls",
          "model_name": "DescriptionStyleModel",
          "model_module_version": "1.5.0",
          "state": {
            "_model_module": "@jupyter-widgets/controls",
            "_model_module_version": "1.5.0",
            "_model_name": "DescriptionStyleModel",
            "_view_count": null,
            "_view_module": "@jupyter-widgets/base",
            "_view_module_version": "1.2.0",
            "_view_name": "StyleView",
            "description_width": ""
          }
        }
      }
    }
  },
  "nbformat": 4,
  "nbformat_minor": 0
}